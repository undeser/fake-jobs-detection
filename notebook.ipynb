{
 "cells": [
  {
   "cell_type": "code",
   "execution_count": 1,
   "metadata": {},
   "outputs": [],
   "source": [
    "import pandas as pd\n",
    "\n",
    "df = pd.read_csv('dfSet.csv')"
   ]
  },
  {
   "cell_type": "markdown",
   "metadata": {},
   "source": [
    "## Exploratory df Analysis"
   ]
  },
  {
   "cell_type": "code",
   "execution_count": 3,
   "metadata": {},
   "outputs": [],
   "source": []
  },
  {
   "cell_type": "markdown",
   "metadata": {},
   "source": [
    "## Feature Engineering"
   ]
  },
  {
   "cell_type": "code",
   "execution_count": 4,
   "metadata": {},
   "outputs": [
    {
     "ename": "AttributeError",
     "evalue": "module 'pandas' has no attribute 'dfFrame'",
     "output_type": "error",
     "traceback": [
      "\u001b[0;31m---------------------------------------------------------------------------\u001b[0m",
      "\u001b[0;31mAttributeError\u001b[0m                            Traceback (most recent call last)",
      "Input \u001b[0;32mIn [4]\u001b[0m, in \u001b[0;36m<cell line: 8>\u001b[0;34m()\u001b[0m\n\u001b[1;32m     10\u001b[0m         tfidf \u001b[38;5;241m=\u001b[39m TfidfVectorizer(max_features\u001b[38;5;241m=\u001b[39m\u001b[38;5;241m100\u001b[39m)  \u001b[38;5;66;03m# Limit to 100 features per column for simplicity\u001b[39;00m\n\u001b[1;32m     11\u001b[0m         tfidf_matrix \u001b[38;5;241m=\u001b[39m tfidf\u001b[38;5;241m.\u001b[39mfit_transform(df[column]\u001b[38;5;241m.\u001b[39mfillna(\u001b[38;5;124m'\u001b[39m\u001b[38;5;124m'\u001b[39m)) \n\u001b[0;32m---> 12\u001b[0m         tfidf_features\u001b[38;5;241m.\u001b[39mappend(\u001b[43mpd\u001b[49m\u001b[38;5;241;43m.\u001b[39;49m\u001b[43mdfFrame\u001b[49m(tfidf_matrix\u001b[38;5;241m.\u001b[39mtoarray(), columns\u001b[38;5;241m=\u001b[39m[\u001b[38;5;124mf\u001b[39m\u001b[38;5;124m\"\u001b[39m\u001b[38;5;132;01m{\u001b[39;00mcolumn\u001b[38;5;132;01m}\u001b[39;00m\u001b[38;5;124m_tfidf_\u001b[39m\u001b[38;5;132;01m{\u001b[39;00mi\u001b[38;5;132;01m}\u001b[39;00m\u001b[38;5;124m\"\u001b[39m \u001b[38;5;28;01mfor\u001b[39;00m i \u001b[38;5;129;01min\u001b[39;00m \u001b[38;5;28mrange\u001b[39m(\u001b[38;5;241m100\u001b[39m)]))\n\u001b[1;32m     13\u001b[0m         tfidf_vectorizers[column] \u001b[38;5;241m=\u001b[39m tfidf\n\u001b[1;32m     15\u001b[0m tfidf_features_df \u001b[38;5;241m=\u001b[39m pd\u001b[38;5;241m.\u001b[39mconcat(tfidf_features, axis\u001b[38;5;241m=\u001b[39m\u001b[38;5;241m1\u001b[39m)\n",
      "File \u001b[0;32m~/anaconda3/lib/python3.10/site-packages/pandas/__init__.py:264\u001b[0m, in \u001b[0;36m__getattr__\u001b[0;34m(name)\u001b[0m\n\u001b[1;32m    260\u001b[0m     \u001b[38;5;28;01mfrom\u001b[39;00m \u001b[38;5;21;01mpandas\u001b[39;00m\u001b[38;5;21;01m.\u001b[39;00m\u001b[38;5;21;01mcore\u001b[39;00m\u001b[38;5;21;01m.\u001b[39;00m\u001b[38;5;21;01marrays\u001b[39;00m\u001b[38;5;21;01m.\u001b[39;00m\u001b[38;5;21;01msparse\u001b[39;00m \u001b[38;5;28;01mimport\u001b[39;00m SparseArray \u001b[38;5;28;01mas\u001b[39;00m _SparseArray\n\u001b[1;32m    262\u001b[0m     \u001b[38;5;28;01mreturn\u001b[39;00m _SparseArray\n\u001b[0;32m--> 264\u001b[0m \u001b[38;5;28;01mraise\u001b[39;00m \u001b[38;5;167;01mAttributeError\u001b[39;00m(\u001b[38;5;124mf\u001b[39m\u001b[38;5;124m\"\u001b[39m\u001b[38;5;124mmodule \u001b[39m\u001b[38;5;124m'\u001b[39m\u001b[38;5;124mpandas\u001b[39m\u001b[38;5;124m'\u001b[39m\u001b[38;5;124m has no attribute \u001b[39m\u001b[38;5;124m'\u001b[39m\u001b[38;5;132;01m{\u001b[39;00mname\u001b[38;5;132;01m}\u001b[39;00m\u001b[38;5;124m'\u001b[39m\u001b[38;5;124m\"\u001b[39m)\n",
      "\u001b[0;31mAttributeError\u001b[0m: module 'pandas' has no attribute 'dfFrame'"
     ]
    }
   ],
   "source": [
    "from sklearn.feature_extraction.text import TfidfVectorizer\n",
    "from sklearn.preprocessing import LabelEncoder, OneHotEncoder\n",
    "\n",
    "text_columns = ['description', 'requirements', 'company_profile', 'benefits']\n",
    "tfidf_vectorizers = {}\n",
    "tfidf_features = []\n",
    "\n",
    "for column in text_columns:\n",
    "    if column in df.columns:\n",
    "        tfidf = TfidfVectorizer(max_features=100)  # Limit to 100 features per column for simplicity\n",
    "        tfidf_matrix = tfidf.fit_transform(df[column].fillna(''))  # Fill NaN with empty strings\n",
    "        tfidf_features.append(pd.DataFrame(tfidf_matrix.toarray(), columns=[f\"{column}_tfidf_{i}\" for i in range(100)]))\n",
    "        tfidf_vectorizers[column] = tfidf\n",
    "\n",
    "tfidf_features_df = pd.concat(tfidf_features, axis=1)\n",
    "\n",
    "categorical_columns = ['location', 'department', 'employment_type', 'required_experience', 'required_education', 'industry', 'function']\n",
    "encoded_features = []\n",
    "\n",
    "for column in categorical_columns:\n",
    "    if column in df.columns:\n",
    "        le = LabelEncoder()\n",
    "        encoded_column = le.fit_transform(df[column].fillna('Unknown'))  # Fill NaN with 'Unknown'\n",
    "        encoded_features.append(pd.DataFrame(encoded_column, columns=[f\"{column}_encoded\"]))\n",
    "\n",
    "encoded_features_df = pd.concat(encoded_features, axis=1)\n",
    "\n",
    "binary_columns = ['telecommuting', 'has_company_logo', 'has_questions', 'fraudulent', 'in_balanced_dataset']\n",
    "for column in binary_columns:\n",
    "    if column in df.columns:\n",
    "        df[column] = df[column].apply(lambda x: 1 if x == 't' else 0)  # Convert 't' to 1 and 'f' to 0\n",
    "\n",
    "final_features = pd.concat([tfidf_features_df, encoded_features_df, df[binary_columns]], axis=1)\n",
    "\n",
    "unused_columns = ['title', 'salary_range', 'company_profile', 'description', 'requirements', 'benefits']\n",
    "data = df.drop(columns=unused_columns, errors='ignore')\n",
    "\n",
    "prepared_dataset = pd.concat([data, final_features], axis=1)\n"
   ]
  },
  {
   "cell_type": "code",
   "execution_count": null,
   "metadata": {},
   "outputs": [],
   "source": []
  }
 ],
 "metadata": {
  "kernelspec": {
   "display_name": "base",
   "language": "python",
   "name": "python3"
  },
  "language_info": {
   "codemirror_mode": {
    "name": "ipython",
    "version": 3
   },
   "file_extension": ".py",
   "mimetype": "text/x-python",
   "name": "python",
   "nbconvert_exporter": "python",
   "pygments_lexer": "ipython3",
   "version": "3.10.9"
  }
 },
 "nbformat": 4,
 "nbformat_minor": 2
}
