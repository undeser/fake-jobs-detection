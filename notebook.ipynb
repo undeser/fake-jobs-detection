{
 "cells": [
  {
   "cell_type": "code",
   "execution_count": 1,
   "metadata": {},
   "outputs": [],
   "source": [
    "import pandas as pd\n",
    "\n",
    "df = pd.read_csv('dfSet.csv')"
   ]
  },
  {
   "cell_type": "markdown",
   "metadata": {},
   "source": [
    "## Exploratory Data Analysis"
   ]
  },
  {
   "cell_type": "code",
   "execution_count": 3,
   "metadata": {},
   "outputs": [],
   "source": []
  },
  {
   "cell_type": "markdown",
   "metadata": {},
   "source": [
    "## Feature Engineering"
   ]
  },
  {
   "cell_type": "code",
   "execution_count": 5,
   "metadata": {},
   "outputs": [],
   "source": [
    "from sklearn.feature_extraction.text import TfidfVectorizer\n",
    "from sklearn.preprocessing import LabelEncoder, OneHotEncoder\n",
    "\n",
    "text_columns = ['description', 'requirements', 'company_profile', 'benefits']\n",
    "tfidf_vectorizers = {}\n",
    "tfidf_features = []\n",
    "\n",
    "for column in text_columns:\n",
    "    if column in df.columns:\n",
    "        tfidf = TfidfVectorizer(max_features=100)  # Limit to 100 features per column for simplicity\n",
    "        tfidf_matrix = tfidf.fit_transform(df[column].fillna(''))  # Fill NaN with empty strings\n",
    "        tfidf_features.append(pd.DataFrame(tfidf_matrix.toarray(), columns=[f\"{column}_tfidf_{i}\" for i in range(100)]))\n",
    "        tfidf_vectorizers[column] = tfidf\n",
    "\n",
    "tfidf_features_df = pd.concat(tfidf_features, axis=1)\n",
    "\n",
    "categorical_columns = ['location', 'department', 'employment_type', 'required_experience', 'required_education', 'industry', 'function']\n",
    "encoded_features = []\n",
    "\n",
    "for column in categorical_columns:\n",
    "    if column in df.columns:\n",
    "        le = LabelEncoder()\n",
    "        encoded_column = le.fit_transform(df[column].fillna('Unknown'))  # Fill NaN with 'Unknown'\n",
    "        encoded_features.append(pd.DataFrame(encoded_column, columns=[f\"{column}_encoded\"]))\n",
    "\n",
    "encoded_features_df = pd.concat(encoded_features, axis=1)\n",
    "\n",
    "binary_columns = ['telecommuting', 'has_company_logo', 'has_questions', 'fraudulent', 'in_balanced_dataset']\n",
    "for column in binary_columns:\n",
    "    if column in df.columns:\n",
    "        df[column] = df[column].apply(lambda x: 1 if x == 't' else 0)  # Convert 't' to 1 and 'f' to 0\n",
    "\n",
    "final_features = pd.concat([tfidf_features_df, encoded_features_df, df[binary_columns]], axis=1)\n",
    "\n",
    "unused_columns = ['title', 'salary_range', 'company_profile', 'description', 'requirements', 'benefits']\n",
    "data = df.drop(columns=unused_columns, errors='ignore')\n",
    "\n",
    "prepared_dataset = pd.concat([data, final_features], axis=1)\n"
   ]
  },
  {
   "cell_type": "code",
   "execution_count": null,
   "metadata": {},
   "outputs": [],
   "source": []
  }
 ],
 "metadata": {
  "kernelspec": {
   "display_name": "base",
   "language": "python",
   "name": "python3"
  },
  "language_info": {
   "codemirror_mode": {
    "name": "ipython",
    "version": 3
   },
   "file_extension": ".py",
   "mimetype": "text/x-python",
   "name": "python",
   "nbconvert_exporter": "python",
   "pygments_lexer": "ipython3",
   "version": "3.10.9"
  }
 },
 "nbformat": 4,
 "nbformat_minor": 2
}
