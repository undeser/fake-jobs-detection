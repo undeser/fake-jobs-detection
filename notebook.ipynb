{
 "cells": [
  {
   "cell_type": "code",
   "execution_count": 2,
   "metadata": {},
   "outputs": [
    {
     "name": "stderr",
     "output_type": "stream",
     "text": [
      "[nltk_data] Downloading package stopwords to\n",
      "[nltk_data]     /Users/mervseah/nltk_data...\n",
      "[nltk_data]   Package stopwords is already up-to-date!\n"
     ]
    },
    {
     "data": {
      "text/plain": [
       "(17880, 18)"
      ]
     },
     "execution_count": 2,
     "metadata": {},
     "output_type": "execute_result"
    }
   ],
   "source": [
    "import pandas as pd\n",
    "import emoji, string\n",
    "import nltk\n",
    "import re\n",
    "\n",
    "from sklearn.model_selection import train_test_split\n",
    "from sklearn.feature_extraction.text import TfidfVectorizer\n",
    "from sklearn.preprocessing import LabelEncoder, OneHotEncoder\n",
    "from sklearn.preprocessing import StandardScaler, MinMaxScaler\n",
    "from sklearn.feature_extraction.text import TfidfVectorizer, CountVectorizer\n",
    "\n",
    "from nltk.corpus import stopwords\n",
    "nltk.download('stopwords')\n",
    "\n",
    "df = pd.read_csv('DataSet.csv')\n",
    "# Set pandas option to display all columns\n",
    "pd.set_option('display.max_columns', None)\n",
    "\n",
    "df.shape"
   ]
  },
  {
   "cell_type": "markdown",
   "metadata": {},
   "source": [
    "## 1. Exploratory Data Analysis"
   ]
  },
  {
   "cell_type": "code",
   "execution_count": null,
   "metadata": {},
   "outputs": [],
   "source": []
  },
  {
   "cell_type": "markdown",
   "metadata": {},
   "source": [
    "## 2. Data Cleaning"
   ]
  },
  {
   "cell_type": "code",
   "execution_count": 3,
   "metadata": {},
   "outputs": [
    {
     "data": {
      "text/plain": [
       "(17632, 18)"
      ]
     },
     "execution_count": 3,
     "metadata": {},
     "output_type": "execute_result"
    }
   ],
   "source": [
    "df.drop_duplicates(subset=['title','location', 'department' , 'salary_range', 'company_profile', 'description', 'requirements', 'benefits','telecommuting', 'has_company_logo', 'has_questions', 'employment_type', 'required_experience', 'required_education', 'industry', 'function', 'fraudulent'], keep='first', inplace=True)\n",
    "df.shape"
   ]
  },
  {
   "cell_type": "markdown",
   "metadata": {},
   "source": [
    "## 3. Feature Engineering"
   ]
  },
  {
   "cell_type": "code",
   "execution_count": 4,
   "metadata": {},
   "outputs": [],
   "source": [
    "## TEXT PREPROCESSING FOR TEXTUAL COLUMNS\n",
    "\n",
    "def clean_text_features(text):\n",
    "    try:\n",
    "        if pd.isnull(text):\n",
    "            return \"\"\n",
    "        \n",
    "        # Remove HTML tags\n",
    "        text = re.sub(r'<[^>]*>', '', text)\n",
    "        \n",
    "        # Convert to lowercase\n",
    "        text = text.lower()\n",
    "        \n",
    "        # Remove non-alphanumeric characters (except specified punctuation)\n",
    "        text = re.sub(r'[^\\w\\s.,:;!?\\'\"-]', '', text)\n",
    "        \n",
    "        # Remove punctuation\n",
    "        text = text.translate(str.maketrans('', '', string.punctuation))\n",
    "        \n",
    "        # Remove emojis\n",
    "        text = emoji.replace_emoji(text, replace=\"\")\n",
    "        \n",
    "        # Remove stopwords\n",
    "        stop_words = set(stopwords.words(\"english\"))\n",
    "        words = text.split()\n",
    "        filtered_words = [word for word in words if word not in stop_words]\n",
    "        text = \" \".join(filtered_words)\n",
    "        \n",
    "        return text\n",
    "\n",
    "    except Exception as e:\n",
    "        print(f\"Error cleaning text: {e}\")\n",
    "        return \"\"\n",
    "\n",
    "\n",
    "text_columns = ['title', 'benefits', 'description', 'requirements', 'company_profile']\n",
    "\n",
    "for col in text_columns:\n",
    "    df[col] = df[col].apply(clean_text_features)\n",
    "\n",
    "df['combined_text_data'] = (\n",
    "    df['title'] + ' ' +\n",
    "    df['description'] + ' ' +\n",
    "    df['requirements'] + ' ' +\n",
    "    df['company_profile'] + ' ' +\n",
    "    df['benefits']\n",
    ")\n"
   ]
  },
  {
   "cell_type": "code",
   "execution_count": 6,
   "metadata": {},
   "outputs": [],
   "source": [
    "## encoding categorical columns\n",
    "\n",
    "categorical_columns = ['location', 'department', 'employment_type', 'required_experience', \n",
    "                       'required_education', 'industry', 'function']\n",
    "\n",
    "encoders = {} ## storing this here first if we wanna use them later\n",
    "\n",
    "for column in categorical_columns:\n",
    "\n",
    "        le = OneHotEncoder(sparse_output=False, handle_unknown='ignore')  \n",
    "        encoders[column] = le\n",
    "        \n",
    "        df[column] = df[column].fillna('Unknown') \n",
    "        \n",
    "        encoded_values = le.fit_transform(df[[column]])  \n",
    "        \n",
    "        encoded_df = pd.DataFrame(\n",
    "            encoded_values, \n",
    "            columns=[f\"{column}_{cat}\" for cat in le.categories_[0]],\n",
    "            index=df.index\n",
    "        )\n",
    "        \n",
    "        df = pd.concat([df, encoded_df], axis=1)"
   ]
  },
  {
   "cell_type": "code",
   "execution_count": 7,
   "metadata": {},
   "outputs": [],
   "source": [
    "## encodign binary columns\n",
    "\n",
    "'''\n",
    "important: idk if we should keep in_balanced_dataset\n",
    "'''\n",
    "binary_columns = ['telecommuting', 'has_company_logo', 'has_questions', 'fraudulent', 'in_balanced_dataset']\n",
    "\n",
    "for column in binary_columns:\n",
    "    if column in df.columns:\n",
    "        df[column] = df[column].apply(lambda x: 1 if x == 't' else (0 if x == 'f' else None))"
   ]
  },
  {
   "cell_type": "code",
   "execution_count": 8,
   "metadata": {},
   "outputs": [],
   "source": [
    "## numerical columns\n",
    "df[['salary_lower', 'salary_upper']] = df['salary_range'].str.split('-', expand=True).astype(float)\n",
    "df['salary_average'] = (df['salary_lower'] + df['salary_upper']) / 2\n",
    "df['salary_range_diff'] = df['salary_upper'] - df['salary_lower']\n"
   ]
  },
  {
   "cell_type": "code",
   "execution_count": 9,
   "metadata": {},
   "outputs": [],
   "source": [
    "# DROPPING RAW TEXTUAL COLUMNS THAT ARE UNUSED\n",
    "\n",
    "columns_to_drop = ['title', 'description', 'requirements', 'company_profile', 'benefits', 'salary_range', 'location', 'department', 'employment_type', 'required_experience', 'required_education', 'industry', 'function']\n",
    "df.drop(columns_to_drop, axis = 1, inplace = True)"
   ]
  },
  {
   "cell_type": "markdown",
   "metadata": {},
   "source": [
    "## 4a. Train Validation Test Split (Text and Categorical)\n",
    "Train-Test-Validation: 70-15-15"
   ]
  },
  {
   "cell_type": "code",
   "execution_count": 10,
   "metadata": {},
   "outputs": [
    {
     "data": {
      "text/plain": [
       "(12342, 4650)"
      ]
     },
     "metadata": {},
     "output_type": "display_data"
    },
    {
     "data": {
      "text/plain": [
       "(934, 4650)"
      ]
     },
     "metadata": {},
     "output_type": "display_data"
    },
    {
     "data": {
      "text/plain": [
       "(4356, 4650)"
      ]
     },
     "metadata": {},
     "output_type": "display_data"
    }
   ],
   "source": [
    "X = df.drop('fraudulent', axis=1, inplace=False)\n",
    "y = df['fraudulent']  # Target variable to predict\n",
    "\n",
    "## splitting into training (70%) and remaining (30%)\n",
    "X_train, X_rem, y_train, y_rem = train_test_split(X, y, test_size = 0.3, random_state=42)\n",
    "\n",
    "## splitting remaining into test (15%) and validation (15%)\n",
    "X_test, X_val, y_test, y_val = train_test_split(X_rem, y_rem, test_size = 0.15 / 0.85, random_state=42)\n",
    "\n",
    "columns_to_normalize = ['salary_lower', 'salary_upper', 'salary_average', 'salary_range_diff']\n",
    "scaler = StandardScaler()\n",
    "X_train[columns_to_normalize] = scaler.fit_transform(X_train[columns_to_normalize])\n",
    "\n",
    "X_test[columns_to_normalize] = scaler.transform(X_test[columns_to_normalize])\n",
    "X_val[columns_to_normalize] = scaler.transform(X_val[columns_to_normalize])\n",
    "\n",
    "for dataset in [X_train, X_val, X_test]:\n",
    "    display(dataset.shape)"
   ]
  },
  {
   "cell_type": "markdown",
   "metadata": {},
   "source": [
    "## 4b. Train Validation Test Split (No Combined Cleaned Text)\n"
   ]
  },
  {
   "cell_type": "code",
   "execution_count": 11,
   "metadata": {},
   "outputs": [
    {
     "data": {
      "text/plain": [
       "(12342, 4645)"
      ]
     },
     "metadata": {},
     "output_type": "display_data"
    },
    {
     "data": {
      "text/plain": [
       "(934, 4645)"
      ]
     },
     "metadata": {},
     "output_type": "display_data"
    },
    {
     "data": {
      "text/plain": [
       "(4356, 4645)"
      ]
     },
     "metadata": {},
     "output_type": "display_data"
    }
   ],
   "source": [
    "X = df.drop('fraudulent', axis=1, inplace=False)\n",
    "y = df['fraudulent']\n",
    "\n",
    "columns_to_drop2 = ['combined_text_data', 'salary_lower', 'salary_upper', 'salary_average', 'salary_range_diff']\n",
    "X_cat = X.drop(columns_to_drop2, axis = 1)\n",
    "\n",
    "## splitting into training (70%) and remaining (30%)\n",
    "X_train_cat, X_rem_cat, y_train_cat, y_rem_cat = train_test_split(X_cat, y, test_size = 0.3, random_state=42)\n",
    "\n",
    "## splitting remaining into test (15%) and validation (15%)\n",
    "X_test_cat, X_val_cat, y_test_cat, y_val_cat = train_test_split(X_rem_cat, y_rem_cat, test_size = 0.15 / 0.85, random_state=42)\n",
    "\n",
    "for dataset in [X_train_cat, X_val_cat, X_test_cat]:\n",
    "    display(dataset.shape)"
   ]
  },
  {
   "cell_type": "markdown",
   "metadata": {},
   "source": [
    "## 5. Embeddings for textual data"
   ]
  },
  {
   "cell_type": "code",
   "execution_count": 12,
   "metadata": {},
   "outputs": [],
   "source": [
    "#Count Vectorizer Embedding \n",
    "count_vect = CountVectorizer(analyzer='word', token_pattern=r'\\w{1,}')\n",
    "count_vect.fit(X_train['combined_text_data'])\n",
    "X_train_count =  count_vect.transform(X_train['combined_text_data'])\n",
    "X_val_count = count_vect.transform(X_val['combined_text_data'])\n",
    "X_test_count = count_vect.transform(X_test['combined_text_data'])\n",
    "\n",
    "#TFIDF Embedding \n",
    "tfidf_vect = TfidfVectorizer()\n",
    "tfidf_vect.fit(X_train['combined_text_data'])\n",
    "X_train_tfidf = tfidf_vect.transform(X_train['combined_text_data'])\n",
    "X_val_tfidf = tfidf_vect.transform(X_val['combined_text_data'])\n",
    "X_test_tfidf = tfidf_vect.transform(X_test['combined_text_data'])"
   ]
  },
  {
   "cell_type": "code",
   "execution_count": 13,
   "metadata": {},
   "outputs": [
    {
     "data": {
      "text/plain": [
       "(12342, 60186)"
      ]
     },
     "metadata": {},
     "output_type": "display_data"
    },
    {
     "data": {
      "text/plain": [
       "(934, 60186)"
      ]
     },
     "metadata": {},
     "output_type": "display_data"
    },
    {
     "data": {
      "text/plain": [
       "(4356, 60186)"
      ]
     },
     "metadata": {},
     "output_type": "display_data"
    }
   ],
   "source": [
    "display(X_train_count.shape)\n",
    "display(X_val_count.shape)\n",
    "display(X_test_count.shape)"
   ]
  },
  {
   "cell_type": "code",
   "execution_count": 14,
   "metadata": {},
   "outputs": [
    {
     "data": {
      "text/plain": [
       "(12342, 60126)"
      ]
     },
     "metadata": {},
     "output_type": "display_data"
    },
    {
     "data": {
      "text/plain": [
       "(934, 60126)"
      ]
     },
     "metadata": {},
     "output_type": "display_data"
    },
    {
     "data": {
      "text/plain": [
       "(4356, 60126)"
      ]
     },
     "metadata": {},
     "output_type": "display_data"
    }
   ],
   "source": [
    "display(X_train_tfidf.shape)\n",
    "display(X_val_tfidf.shape)\n",
    "display(X_test_tfidf.shape)"
   ]
  },
  {
   "cell_type": "markdown",
   "metadata": {},
   "source": [
    "## 6. Machine Learning Models\n"
   ]
  },
  {
   "cell_type": "markdown",
   "metadata": {},
   "source": [
    "### 6.1. Log Reg"
   ]
  },
  {
   "cell_type": "code",
   "execution_count": 15,
   "metadata": {},
   "outputs": [],
   "source": [
    "from sklearn.linear_model import LogisticRegression\n",
    "from sklearn.metrics import accuracy_score, precision_score, recall_score, f1_score, roc_auc_score, roc_curve\n",
    "from sklearn.preprocessing import StandardScaler\n",
    "\n",
    "model = LogisticRegression(max_iter= 3000)"
   ]
  },
  {
   "cell_type": "markdown",
   "metadata": {},
   "source": [
    "#### 6.1.1. Categorical Only"
   ]
  },
  {
   "cell_type": "code",
   "execution_count": 16,
   "metadata": {},
   "outputs": [
    {
     "name": "stdout",
     "output_type": "stream",
     "text": [
      "Validation AUC-ROC: 0.9341\n",
      "Test Accuracy: 0.9789\n",
      "Test Precision: 0.8716\n",
      "Test Recall: 0.6386\n",
      "Test F1 Score: 0.7371\n",
      "Test AUC-ROC: 0.9530\n"
     ]
    }
   ],
   "source": [
    "# Fit the model to the training data\n",
    "model.fit(X_train_cat, y_train)\n",
    "\n",
    "# Evaluate on validation set (to minimize loss)\n",
    "val_pred_proba = model.predict_proba(X_val_cat)[:, 1]\n",
    "val_auc = roc_auc_score(y_val, val_pred_proba)\n",
    "print(f\"Validation AUC-ROC: {val_auc:.4f}\")\n",
    "\n",
    "# Final evaluation on test set\n",
    "test_pred = model.predict(X_test_cat)\n",
    "test_pred_proba = model.predict_proba(X_test_cat)[:, 1]\n",
    "\n",
    "accuracy = accuracy_score(y_test, test_pred)\n",
    "precision = precision_score(y_test, test_pred)\n",
    "recall = recall_score(y_test, test_pred)\n",
    "f1 = f1_score(y_test, test_pred)\n",
    "auc = roc_auc_score(y_test, test_pred_proba)\n",
    "\n",
    "print(f\"Test Accuracy: {accuracy:.4f}\")\n",
    "print(f\"Test Precision: {precision:.4f}\")\n",
    "print(f\"Test Recall: {recall:.4f}\")\n",
    "print(f\"Test F1 Score: {f1:.4f}\")\n",
    "print(f\"Test AUC-ROC: {auc:.4f}\")"
   ]
  },
  {
   "cell_type": "markdown",
   "metadata": {},
   "source": [
    "#### 6.1.2. Count Vect"
   ]
  },
  {
   "cell_type": "code",
   "execution_count": 17,
   "metadata": {},
   "outputs": [
    {
     "name": "stdout",
     "output_type": "stream",
     "text": [
      "Validation AUC-ROC: 0.9366\n",
      "Test Accuracy: 0.9848\n",
      "Test Precision: 0.9000\n",
      "Test Recall: 0.7574\n",
      "Test F1 Score: 0.8226\n",
      "Test AUC-ROC: 0.9692\n"
     ]
    }
   ],
   "source": [
    "# Fit the model to the training data\n",
    "model.fit(X_train_count, y_train)\n",
    "\n",
    "# Evaluate on validation set (to minimize loss)\n",
    "val_pred_proba = model.predict_proba(X_val_count)[:, 1]\n",
    "val_auc = roc_auc_score(y_val, val_pred_proba)\n",
    "print(f\"Validation AUC-ROC: {val_auc:.4f}\")\n",
    "\n",
    "# Final evaluation on test set\n",
    "test_pred = model.predict(X_test_count)\n",
    "test_pred_proba = model.predict_proba(X_test_count)[:, 1]\n",
    "\n",
    "accuracy = accuracy_score(y_test, test_pred)\n",
    "precision = precision_score(y_test, test_pred)\n",
    "recall = recall_score(y_test, test_pred)\n",
    "f1 = f1_score(y_test, test_pred)\n",
    "auc = roc_auc_score(y_test, test_pred_proba)\n",
    "\n",
    "print(f\"Test Accuracy: {accuracy:.4f}\")\n",
    "print(f\"Test Precision: {precision:.4f}\")\n",
    "print(f\"Test Recall: {recall:.4f}\")\n",
    "print(f\"Test F1 Score: {f1:.4f}\")\n",
    "print(f\"Test AUC-ROC: {auc:.4f}\")"
   ]
  },
  {
   "cell_type": "markdown",
   "metadata": {},
   "source": [
    "#### 6.1.3. TF-IDF"
   ]
  },
  {
   "cell_type": "code",
   "execution_count": 18,
   "metadata": {},
   "outputs": [
    {
     "name": "stdout",
     "output_type": "stream",
     "text": [
      "Validation AUC-ROC: 0.9274\n",
      "Test Accuracy: 0.9720\n",
      "Test Precision: 0.9762\n",
      "Test Recall: 0.4059\n",
      "Test F1 Score: 0.5734\n",
      "Test AUC-ROC: 0.9695\n"
     ]
    }
   ],
   "source": [
    "# Fit the model to the training data\n",
    "model.fit(X_train_tfidf, y_train)\n",
    "\n",
    "# Evaluate on validation set (to minimize loss)\n",
    "val_pred_proba = model.predict_proba(X_val_tfidf)[:, 1]\n",
    "val_auc = roc_auc_score(y_val, val_pred_proba)\n",
    "print(f\"Validation AUC-ROC: {val_auc:.4f}\")\n",
    "\n",
    "# Final evaluation on test set\n",
    "test_pred = model.predict(X_test_tfidf)\n",
    "test_pred_proba = model.predict_proba(X_test_tfidf)[:, 1]\n",
    "\n",
    "accuracy = accuracy_score(y_test, test_pred)\n",
    "precision = precision_score(y_test, test_pred)\n",
    "recall = recall_score(y_test, test_pred)\n",
    "f1 = f1_score(y_test, test_pred)\n",
    "auc = roc_auc_score(y_test, test_pred_proba)\n",
    "\n",
    "print(f\"Test Accuracy: {accuracy:.4f}\")\n",
    "print(f\"Test Precision: {precision:.4f}\")\n",
    "print(f\"Test Recall: {recall:.4f}\")\n",
    "print(f\"Test F1 Score: {f1:.4f}\")\n",
    "print(f\"Test AUC-ROC: {auc:.4f}\")"
   ]
  },
  {
   "cell_type": "code",
   "execution_count": 19,
   "metadata": {},
   "outputs": [
    {
     "data": {
      "image/png": "[encoded data removed]",
      "text/plain": [
       "<Figure size 800x600 with 1 Axes>"
      ]
     },
     "metadata": {},
     "output_type": "display_data"
    }
   ],
   "source": [
    "from sklearn.metrics import roc_curve, auc\n",
    "import matplotlib.pyplot as plt\n",
    "\n",
    "# Calculate the ROC curve\n",
    "fpr, tpr, thresholds = roc_curve(y_test, test_pred_proba)\n",
    "\n",
    "# Calculate the AUC score\n",
    "roc_auc = auc(fpr, tpr)\n",
    "\n",
    "# Plot the ROC curve\n",
    "plt.figure(figsize=(8, 6))\n",
    "plt.plot(fpr, tpr, color='blue', lw=2, label=f'ROC Curve (AUC = {roc_auc:.4f})')\n",
    "plt.plot([0, 1], [0, 1], color='gray', linestyle='--', lw=2, label='Random Guess')\n",
    "plt.xlim([0.0, 1.0])\n",
    "plt.ylim([0.0, 1.05])\n",
    "plt.xlabel('False Positive Rate (FPR)', fontsize=12)\n",
    "plt.ylabel('True Positive Rate (TPR)', fontsize=12)\n",
    "plt.title('Receiver Operating Characteristic (ROC) Curve', fontsize=14)\n",
    "plt.legend(loc='lower right', fontsize=10)\n",
    "plt.grid(alpha=0.3)\n",
    "plt.show()"
   ]
  },
  {
   "cell_type": "markdown",
   "metadata": {},
   "source": [
    "### 6.2. Boosting Models"
   ]
  },
  {
   "cell_type": "code",
   "execution_count": 30,
   "metadata": {},
   "outputs": [],
   "source": [
    "from scipy.sparse import hstack\n",
    "\n",
    "binary_columns= ['telecommuting', 'has_company_logo', 'has_questions', 'in_balanced_dataset']\n",
    "feature_columns = ['salary_lower', 'salary_upper', 'salary_average', 'salary_range_diff'] + binary_columns\n",
    "\n",
    "X_train_combined_count = hstack([X_train_count, X_train[feature_columns].values])\n",
    "X_val_combined_count = hstack([X_val_count, X_val[feature_columns].values])\n",
    "X_test_combined_count = hstack([X_test_count, X_test[feature_columns].values])\n",
    "\n",
    "X_train_combined_tfidf = hstack([X_train_tfidf, X_train[feature_columns].values])\n",
    "X_val_combined_tfidf = hstack([X_val_tfidf, X_val[feature_columns].values])\n",
    "X_test_combined_tfidf = hstack([X_test_tfidf, X_test[feature_columns].values])\n"
   ]
  },
  {
   "cell_type": "markdown",
   "metadata": {},
   "source": [
    "#### 6.2.1. XGBoost"
   ]
  },
  {
   "cell_type": "code",
   "execution_count": 31,
   "metadata": {},
   "outputs": [
    {
     "name": "stdout",
     "output_type": "stream",
     "text": [
      "XGBoost AUC (CountVectorizer with binary columns): 0.9882\n",
      "XGBoost AUC (TFIDF with binary columns): 0.9928\n"
     ]
    }
   ],
   "source": [
    "import xgboost as xgb\n",
    "from sklearn.metrics import classification_report, roc_auc_score\n",
    "\n",
    "## ===== COUNT VECTORISER =====\n",
    "\n",
    "xgb_model_count = xgb.XGBClassifier(\n",
    "    verbosity = 0,\n",
    "    objective='binary:logistic',\n",
    "    eval_metric='auc',\n",
    "    use_label_encoder=False,\n",
    "    random_state=42\n",
    ")\n",
    "xgb_model_count.fit(X_train_combined_count, y_train)\n",
    "\n",
    "xgb_pred_count = xgb_model_count.predict(X_test_combined_count)\n",
    "xgb_auc_count = roc_auc_score(y_test, xgb_model_count.predict_proba(X_test_combined_count)[:, 1])\n",
    "print(f\"XGBoost AUC (CountVectorizer with binary columns): {xgb_auc_count:.4f}\")\n",
    "\n",
    "## ===== TFIDF =====\n",
    "\n",
    "xgb_model_tfidf = xgb.XGBClassifier(\n",
    "    verbosity = 0,\n",
    "    objective='binary:logistic',\n",
    "    eval_metric='auc',\n",
    "    use_label_encoder=False,\n",
    "    random_state=42\n",
    ")\n",
    "xgb_model_tfidf.fit(X_train_combined_tfidf, y_train)\n",
    "\n",
    "xgb_pred_tfidf = xgb_model_tfidf.predict(X_test_combined_tfidf)\n",
    "xgb_auc_tfidf = roc_auc_score(y_test, xgb_model_tfidf.predict_proba(X_test_combined_tfidf)[:, 1])\n",
    "print(f\"XGBoost AUC (TFIDF with binary columns): {xgb_auc_tfidf:.4f}\")"
   ]
  },
  {
   "cell_type": "markdown",
   "metadata": {},
   "source": [
    "#### 6.2.2. LightBoost"
   ]
  },
  {
   "cell_type": "code",
   "execution_count": 29,
   "metadata": {},
   "outputs": [
    {
     "name": "stderr",
     "output_type": "stream",
     "text": [
      "/Library/Frameworks/Python.framework/Versions/3.10/lib/python3.10/site-packages/lightgbm/basic.py:1218: UserWarning: Converting data to scipy sparse matrix.\n",
      "  _log_warning(\"Converting data to scipy sparse matrix.\")\n",
      "/Library/Frameworks/Python.framework/Versions/3.10/lib/python3.10/site-packages/lightgbm/basic.py:1218: UserWarning: Converting data to scipy sparse matrix.\n",
      "  _log_warning(\"Converting data to scipy sparse matrix.\")\n"
     ]
    },
    {
     "name": "stdout",
     "output_type": "stream",
     "text": [
      "LightGBM AUC (CountVectoriser with binary columns): 0.9901\n",
      "LightGBM AUC (TfidfVectorizer with binary columns): 0.9901\n"
     ]
    },
    {
     "name": "stderr",
     "output_type": "stream",
     "text": [
      "/Library/Frameworks/Python.framework/Versions/3.10/lib/python3.10/site-packages/lightgbm/basic.py:1218: UserWarning: Converting data to scipy sparse matrix.\n",
      "  _log_warning(\"Converting data to scipy sparse matrix.\")\n",
      "/Library/Frameworks/Python.framework/Versions/3.10/lib/python3.10/site-packages/lightgbm/basic.py:1218: UserWarning: Converting data to scipy sparse matrix.\n",
      "  _log_warning(\"Converting data to scipy sparse matrix.\")\n"
     ]
    }
   ],
   "source": [
    "import lightgbm as lgb\n",
    "\n",
    "## ===== COUNT VECTORISER =====\n",
    "\n",
    "lgb_model_count = lgb.LGBMClassifier(verbose=-1, random_state=42)\n",
    "lgb_model_count.fit(X_train_combined_count, y_train)\n",
    "lgb_pred_count = lgb_model_count.predict(X_test_combined_count)\n",
    "lgb_auc_count = roc_auc_score(y_test, lgb_model_count.predict_proba(X_test_combined_count)[:, 1])\n",
    "print(f\"LightGBM AUC (CountVectoriser with binary columns): {lgb_auc_count:.4f}\")\n",
    "\n",
    "## ===== TFIDF =====\n",
    "\n",
    "lgb_model_tfidf = lgb.LGBMClassifier(verbose=-1, random_state=42)\n",
    "lgb_model_tfidf.fit(X_train_combined_tfidf, y_train)\n",
    "lgb_pred_tfidf = lgb_model_tfidf.predict(X_test_combined_tfidf)\n",
    "lgb_auc_tfidf = roc_auc_score(y_test, lgb_model_tfidf.predict_proba(X_test_combined_tfidf)[:, 1])\n",
    "print(f\"LightGBM AUC (TfidfVectorizer with binary columns): {lgb_auc_tfidf:.4f}\")"
   ]
  },
  {
   "cell_type": "markdown",
   "metadata": {},
   "source": [
    "#### 6.2.3. CatBoost"
   ]
  },
  {
   "cell_type": "code",
   "execution_count": 34,
   "metadata": {},
   "outputs": [
    {
     "name": "stdout",
     "output_type": "stream",
     "text": [
      "0:\ttest: 0.5028058\tbest: 0.5028058 (0)\ttotal: 141ms\tremaining: 2m 20s\n",
      "100:\ttest: 0.9815728\tbest: 0.9815728 (88)\ttotal: 6.9s\tremaining: 1m 1s\n",
      "200:\ttest: 0.9882024\tbest: 0.9886201 (195)\ttotal: 13.3s\tremaining: 53s\n",
      "300:\ttest: 0.9899251\tbest: 0.9899512 (293)\ttotal: 19.7s\tremaining: 45.7s\n",
      "Stopped by overfitting detector  (50 iterations wait)\n",
      "\n",
      "bestTest = 0.9900033931\n",
      "bestIteration = 304\n",
      "\n",
      "Shrink model to first 305 iterations.\n",
      "ROC-AUC: 0.9870\n",
      "              precision    recall  f1-score   support\n",
      "\n",
      "           0       0.99      1.00      0.99      4154\n",
      "           1       0.94      0.84      0.89       202\n",
      "\n",
      "    accuracy                           0.99      4356\n",
      "   macro avg       0.97      0.92      0.94      4356\n",
      "weighted avg       0.99      0.99      0.99      4356\n",
      "\n"
     ]
    }
   ],
   "source": [
    "from catboost import CatBoostClassifier\n",
    "\n",
    "X_train_combined_dense = X_train_combined_count.toarray()\n",
    "X_val_combined_dense = X_val_combined_count.toarray()\n",
    "X_test_combined_dense = X_test_combined_count.toarray()\n",
    "\n",
    "cat_model = CatBoostClassifier(\n",
    "    iterations=1000,              # Number of boosting iterations\n",
    "    learning_rate=0.1,            # Learning rate\n",
    "    depth=6,                      # Depth of the tree\n",
    "    loss_function='Logloss',      # Binary classification loss\n",
    "    eval_metric='AUC',            # Evaluation metric\n",
    "    random_seed=42,               # Seed for reproducibility\n",
    "    verbose=100                   # Print training progress every 100 iterations\n",
    ")\n",
    "\n",
    "cat_model.fit(X_train_combined_dense, y_train, eval_set=(X_val_combined_dense, y_val), early_stopping_rounds=50)\n",
    "\n",
    "test_pred_proba = cat_model.predict_proba(X_test_combined_dense)[:, 1]  # Probabilities for positive class\n",
    "auc_score = roc_auc_score(y_test, test_pred_proba)\n",
    "print(f\"ROC-AUC: {auc_score:.4f}\")\n",
    "\n",
    "test_pred = cat_model.predict(X_test_combined_dense)\n",
    "print(classification_report(y_test, test_pred))\n",
    "\n"
   ]
  }
 ],
 "metadata": {
  "kernelspec": {
   "display_name": "Python 3.12.6 ('project': venv)",
   "language": "python",
   "name": "python3"
  },
  "language_info": {
   "codemirror_mode": {
    "name": "ipython",
    "version": 3
   },
   "file_extension": ".py",
   "mimetype": "text/x-python",
   "name": "python",
   "nbconvert_exporter": "python",
   "pygments_lexer": "ipython3",
   "version": "3.10.9"
  },
  "vscode": {
   "interpreter": {
    "hash": "643a9d2ca26ce45b27386ef8940c8ce0d888c70cc45f61d60264c2b0e58d842b"
   }
  }
 },
 "nbformat": 4,
 "nbformat_minor": 2
}
