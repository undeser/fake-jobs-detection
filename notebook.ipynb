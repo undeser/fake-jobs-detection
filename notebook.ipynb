{
 "cells": [
  {
   "cell_type": "code",
   "execution_count": 131,
   "metadata": {},
   "outputs": [
    {
     "name": "stderr",
     "output_type": "stream",
     "text": [
      "[nltk_data] Downloading package stopwords to\n",
      "[nltk_data]     /Users/mervseah/nltk_data...\n",
      "[nltk_data]   Package stopwords is already up-to-date!\n"
     ]
    },
    {
     "data": {
      "text/plain": [
       "(17880, 18)"
      ]
     },
     "execution_count": 131,
     "metadata": {},
     "output_type": "execute_result"
    }
   ],
   "source": [
    "import pandas as pd\n",
    "import emoji, string\n",
    "import nltk\n",
    "import re\n",
    "\n",
    "from sklearn.model_selection import train_test_split\n",
    "from sklearn.feature_extraction.text import TfidfVectorizer\n",
    "from sklearn.preprocessing import LabelEncoder, OneHotEncoder\n",
    "from sklearn.preprocessing import MinMaxScaler\n",
    "from sklearn.feature_extraction.text import TfidfVectorizer, CountVectorizer\n",
    "\n",
    "from nltk.corpus import stopwords\n",
    "nltk.download('stopwords')\n",
    "\n",
    "df = pd.read_csv('DataSet.csv')\n",
    "# Set pandas option to display all columns\n",
    "pd.set_option('display.max_columns', None)\n",
    "\n",
    "df.shape"
   ]
  },
  {
   "cell_type": "markdown",
   "metadata": {},
   "source": [
    "## Exploratory Data Analysis"
   ]
  },
  {
   "cell_type": "code",
   "execution_count": null,
   "metadata": {},
   "outputs": [],
   "source": []
  },
  {
   "cell_type": "markdown",
   "metadata": {},
   "source": [
    "## Data Cleaning"
   ]
  },
  {
   "cell_type": "code",
   "execution_count": 132,
   "metadata": {},
   "outputs": [
    {
     "data": {
      "text/plain": [
       "(17632, 18)"
      ]
     },
     "execution_count": 132,
     "metadata": {},
     "output_type": "execute_result"
    }
   ],
   "source": [
    "df.drop_duplicates(subset=['title','location', 'department' , 'salary_range', 'company_profile', 'description', 'requirements', 'benefits','telecommuting', 'has_company_logo', 'has_questions', 'employment_type', 'required_experience', 'required_education', 'industry', 'function', 'fraudulent'], keep='first', inplace=True)\n",
    "df.shape"
   ]
  },
  {
   "cell_type": "markdown",
   "metadata": {},
   "source": [
    "## Feature Engineering"
   ]
  },
  {
   "cell_type": "code",
   "execution_count": 133,
   "metadata": {},
   "outputs": [],
   "source": [
    "## TEXT PREPROCESSING FOR TEXTUAL COLUMNS\n",
    "\n",
    "def clean_text_features(text):\n",
    "    try:\n",
    "        if pd.isnull(text):\n",
    "            return \"\"\n",
    "        \n",
    "        # Remove HTML tags\n",
    "        text = re.sub(r'<[^>]*>', '', text)\n",
    "        \n",
    "        # Convert to lowercase\n",
    "        text = text.lower()\n",
    "        \n",
    "        # Remove non-alphanumeric characters (except specified punctuation)\n",
    "        text = re.sub(r'[^\\w\\s.,:;!?\\'\"-]', '', text)\n",
    "        \n",
    "        # Remove punctuation\n",
    "        text = text.translate(str.maketrans('', '', string.punctuation))\n",
    "        \n",
    "        # Remove emojis\n",
    "        text = emoji.replace_emoji(text, replace=\"\")\n",
    "        \n",
    "        # Remove stopwords\n",
    "        stop_words = set(stopwords.words(\"english\"))\n",
    "        words = text.split()\n",
    "        filtered_words = [word for word in words if word not in stop_words]\n",
    "        text = \" \".join(filtered_words)\n",
    "        \n",
    "        return text\n",
    "\n",
    "    except Exception as e:\n",
    "        print(f\"Error cleaning text: {e}\")\n",
    "        return \"\"\n",
    "\n",
    "\n",
    "text_columns = ['title', 'benefits', 'description', 'requirements', 'company_profile']\n",
    "\n",
    "for col in text_columns:\n",
    "    df[col] = df[col].apply(clean_text_features)\n",
    "\n",
    "df['combined_text_data'] = (\n",
    "    df['title'] + ' ' +\n",
    "    df['description'] + ' ' +\n",
    "    df['requirements'] + ' ' +\n",
    "    df['company_profile'] + ' ' +\n",
    "    df['benefits']\n",
    ")\n"
   ]
  },
  {
   "cell_type": "code",
   "execution_count": 134,
   "metadata": {},
   "outputs": [],
   "source": [
    "## encoding categorical columns\n",
    "\n",
    "categorical_columns = ['location', 'department', 'employment_type', 'required_experience', \n",
    "                       'required_education', 'industry', 'function']\n",
    "\n",
    "encoders = {} ## storing this here first if we wanna use them later\n",
    "\n",
    "for column in categorical_columns:\n",
    "    if column in df.columns:\n",
    "\n",
    "        le = LabelEncoder()\n",
    "        encoders[column] = le\n",
    "        \n",
    "        df[column] = df[column].fillna('Unknown') \n",
    "        df[f\"{column}_encoded\"] = le.fit_transform(df[column])"
   ]
  },
  {
   "cell_type": "code",
   "execution_count": 135,
   "metadata": {},
   "outputs": [],
   "source": [
    "## encodign binary columns\n",
    "\n",
    "'''\n",
    "important: idk if we should keep in_balanced_dataset\n",
    "'''\n",
    "binary_columns = ['telecommuting', 'has_company_logo', 'has_questions', 'fraudulent', 'in_balanced_dataset']\n",
    "\n",
    "for column in binary_columns:\n",
    "    if column in df.columns:\n",
    "        df[column] = df[column].apply(lambda x: 1 if x == 't' else (0 if x == 'f' else None))"
   ]
  },
  {
   "cell_type": "code",
   "execution_count": 136,
   "metadata": {},
   "outputs": [],
   "source": [
    "## numerical columns\n",
    "\n",
    "columns_to_normalize = ['salary_lower', 'salary_upper', 'salary_average', 'salary_range_diff']\n",
    "\n",
    "df[['salary_lower', 'salary_upper']] = df['salary_range'].str.split('-', expand=True).astype(float)\n",
    "df['salary_average'] = (df['salary_lower'] + df['salary_upper']) / 2\n",
    "df['salary_range_diff'] = df['salary_upper'] - df['salary_lower']\n",
    "\n",
    "scaler = MinMaxScaler()\n",
    "df[columns_to_normalize] = scaler.fit_transform(df[columns_to_normalize])"
   ]
  },
  {
   "cell_type": "code",
   "execution_count": 137,
   "metadata": {},
   "outputs": [],
   "source": [
    "# DROPPING RAW TEXTUAL COLUMNS THAT ARE UNUSED\n",
    "\n",
    "columns_to_drop = ['title', 'description', 'requirements', 'company_profile', 'benefits', 'salary_range', 'location', 'department', 'employment_type', 'required_experience', 'required_education', 'industry', 'function']\n",
    "df.drop(columns_to_drop, axis = 1, inplace = True)"
   ]
  },
  {
   "cell_type": "markdown",
   "metadata": {},
   "source": [
    "## Train Validation Test Split (Text and Categorical)\n",
    "Train-Test-Validation: 70-15-15"
   ]
  },
  {
   "cell_type": "code",
   "execution_count": 138,
   "metadata": {},
   "outputs": [
    {
     "data": {
      "text/plain": [
       "(12342, 16)"
      ]
     },
     "metadata": {},
     "output_type": "display_data"
    },
    {
     "data": {
      "text/plain": [
       "(934, 16)"
      ]
     },
     "metadata": {},
     "output_type": "display_data"
    },
    {
     "data": {
      "text/plain": [
       "(4356, 16)"
      ]
     },
     "metadata": {},
     "output_type": "display_data"
    }
   ],
   "source": [
    "X = df.drop('fraudulent', axis=1, inplace=False)\n",
    "y = df['fraudulent']  # Target variable to predict\n",
    "\n",
    "## splitting into training (70%) and remaining (30%)\n",
    "X_train, X_rem, y_train, y_rem = train_test_split(X, y, test_size = 0.3, random_state=42)\n",
    "\n",
    "## splitting remaining into test (15%) and validation (15%)\n",
    "X_test, X_val, y_test, y_val = train_test_split(X_rem, y_rem, test_size = 0.15 / 0.85, random_state=42)\n",
    "\n",
    "for dataset in [X_train, X_val, X_test]:\n",
    "    display(dataset.shape)"
   ]
  },
  {
   "cell_type": "markdown",
   "metadata": {},
   "source": [
    "## Train Validation Test Split (No Combined Cleaned Text)\n"
   ]
  },
  {
   "cell_type": "code",
   "execution_count": 139,
   "metadata": {},
   "outputs": [
    {
     "data": {
      "text/plain": [
       "(12342, 11)"
      ]
     },
     "metadata": {},
     "output_type": "display_data"
    },
    {
     "data": {
      "text/plain": [
       "(934, 11)"
      ]
     },
     "metadata": {},
     "output_type": "display_data"
    },
    {
     "data": {
      "text/plain": [
       "(4356, 11)"
      ]
     },
     "metadata": {},
     "output_type": "display_data"
    }
   ],
   "source": [
    "X = df.drop('fraudulent', axis=1, inplace=False)\n",
    "y = df['fraudulent']\n",
    "\n",
    "columns_to_drop2 = ['combined_text_data', 'salary_lower', 'salary_upper', 'salary_average', 'salary_range_diff']\n",
    "X_cat = X.drop(columns_to_drop2, axis = 1)\n",
    "\n",
    "## splitting into training (70%) and remaining (30%)\n",
    "X_train_cat, X_rem_cat, y_train_cat, y_rem_cat = train_test_split(X_cat, y, test_size = 0.3, random_state=42)\n",
    "\n",
    "## splitting remaining into test (15%) and validation (15%)\n",
    "X_test_cat, X_val_cat, y_test_cat, y_val_cat = train_test_split(X_rem_cat, y_rem_cat, test_size = 0.15 / 0.85, random_state=42)\n",
    "\n",
    "for dataset in [X_train_cat, X_val_cat, X_test_cat]:\n",
    "    display(dataset.shape)"
   ]
  },
  {
   "cell_type": "markdown",
   "metadata": {},
   "source": [
    "# Embeddings for textual data"
   ]
  },
  {
   "cell_type": "code",
   "execution_count": 140,
   "metadata": {},
   "outputs": [],
   "source": [
    "#Count Vectorizer Embedding \n",
    "count_vect = CountVectorizer(analyzer='word', token_pattern=r'\\w{1,}')\n",
    "count_vect.fit(X_train['combined_text_data'])\n",
    "X_train_count =  count_vect.transform(X_train['combined_text_data'])\n",
    "X_val_count = count_vect.transform(X_val['combined_text_data'])\n",
    "X_test_count = count_vect.transform(X_test['combined_text_data'])\n",
    "\n",
    "#TFIDF Embedding \n",
    "tfidf_vect = TfidfVectorizer()\n",
    "tfidf_vect.fit(X_train['combined_text_data'])\n",
    "X_train_tfidf = tfidf_vect.transform(X_train['combined_text_data'])\n",
    "X_val_tfidf = tfidf_vect.transform(X_val['combined_text_data'])\n",
    "X_test_tfidf = tfidf_vect.transform(X_test['combined_text_data'])"
   ]
  },
  {
   "cell_type": "code",
   "execution_count": 141,
   "metadata": {},
   "outputs": [
    {
     "data": {
      "text/plain": [
       "(12342, 60186)"
      ]
     },
     "metadata": {},
     "output_type": "display_data"
    },
    {
     "data": {
      "text/plain": [
       "(934, 60186)"
      ]
     },
     "metadata": {},
     "output_type": "display_data"
    },
    {
     "data": {
      "text/plain": [
       "(4356, 60186)"
      ]
     },
     "metadata": {},
     "output_type": "display_data"
    }
   ],
   "source": [
    "display(X_train_count.shape)\n",
    "display(X_val_count.shape)\n",
    "display(X_test_count.shape)"
   ]
  },
  {
   "cell_type": "code",
   "execution_count": 142,
   "metadata": {},
   "outputs": [
    {
     "data": {
      "text/plain": [
       "(12342, 60126)"
      ]
     },
     "metadata": {},
     "output_type": "display_data"
    },
    {
     "data": {
      "text/plain": [
       "(934, 60126)"
      ]
     },
     "metadata": {},
     "output_type": "display_data"
    },
    {
     "data": {
      "text/plain": [
       "(4356, 60126)"
      ]
     },
     "metadata": {},
     "output_type": "display_data"
    }
   ],
   "source": [
    "display(X_train_tfidf.shape)\n",
    "display(X_val_tfidf.shape)\n",
    "display(X_test_tfidf.shape)"
   ]
  },
  {
   "cell_type": "markdown",
   "metadata": {},
   "source": [
    "## Machine Learning Models\n"
   ]
  },
  {
   "cell_type": "markdown",
   "metadata": {},
   "source": [
    "### Log Reg"
   ]
  },
  {
   "cell_type": "code",
   "execution_count": 143,
   "metadata": {},
   "outputs": [],
   "source": [
    "from sklearn.linear_model import LogisticRegression\n",
    "from sklearn.metrics import accuracy_score, precision_score, recall_score, f1_score, roc_auc_score, roc_curve\n",
    "from sklearn.preprocessing import StandardScaler\n",
    "\n",
    "model = LogisticRegression(max_iter= 3000)"
   ]
  },
  {
   "cell_type": "markdown",
   "metadata": {},
   "source": [
    "#### Categorical Only"
   ]
  },
  {
   "cell_type": "code",
   "execution_count": 144,
   "metadata": {},
   "outputs": [
    {
     "name": "stdout",
     "output_type": "stream",
     "text": [
      "Validation AUC-ROC: 0.8602\n",
      "Test Accuracy: 0.9695\n",
      "Test Precision: 0.8286\n",
      "Test Recall: 0.4307\n",
      "Test F1 Score: 0.5668\n",
      "Test AUC-ROC: 0.8511\n"
     ]
    }
   ],
   "source": [
    "# Fit the model to the training data\n",
    "model.fit(X_train_cat, y_train)\n",
    "\n",
    "# Evaluate on validation set (to minimize loss)\n",
    "val_pred_proba = model.predict_proba(X_val_cat)[:, 1]\n",
    "val_auc = roc_auc_score(y_val, val_pred_proba)\n",
    "print(f\"Validation AUC-ROC: {val_auc:.4f}\")\n",
    "\n",
    "# Final evaluation on test set\n",
    "test_pred = model.predict(X_test_cat)\n",
    "test_pred_proba = model.predict_proba(X_test_cat)[:, 1]\n",
    "\n",
    "accuracy = accuracy_score(y_test, test_pred)\n",
    "precision = precision_score(y_test, test_pred)\n",
    "recall = recall_score(y_test, test_pred)\n",
    "f1 = f1_score(y_test, test_pred)\n",
    "auc = roc_auc_score(y_test, test_pred_proba)\n",
    "\n",
    "print(f\"Test Accuracy: {accuracy:.4f}\")\n",
    "print(f\"Test Precision: {precision:.4f}\")\n",
    "print(f\"Test Recall: {recall:.4f}\")\n",
    "print(f\"Test F1 Score: {f1:.4f}\")\n",
    "print(f\"Test AUC-ROC: {auc:.4f}\")"
   ]
  },
  {
   "cell_type": "markdown",
   "metadata": {},
   "source": [
    "#### Count Vect"
   ]
  },
  {
   "cell_type": "code",
   "execution_count": 145,
   "metadata": {},
   "outputs": [
    {
     "name": "stdout",
     "output_type": "stream",
     "text": [
      "Validation AUC-ROC: 0.9393\n",
      "Test Accuracy: 0.9844\n",
      "Test Precision: 0.8895\n",
      "Test Recall: 0.7574\n",
      "Test F1 Score: 0.8182\n",
      "Test AUC-ROC: 0.9696\n"
     ]
    }
   ],
   "source": [
    "# Fit the model to the training data\n",
    "model.fit(X_train_count, y_train)\n",
    "\n",
    "# Evaluate on validation set (to minimize loss)\n",
    "val_pred_proba = model.predict_proba(X_val_count)[:, 1]\n",
    "val_auc = roc_auc_score(y_val, val_pred_proba)\n",
    "print(f\"Validation AUC-ROC: {val_auc:.4f}\")\n",
    "\n",
    "# Final evaluation on test set\n",
    "test_pred = model.predict(X_test_count)\n",
    "test_pred_proba = model.predict_proba(X_test_count)[:, 1]\n",
    "\n",
    "accuracy = accuracy_score(y_test, test_pred)\n",
    "precision = precision_score(y_test, test_pred)\n",
    "recall = recall_score(y_test, test_pred)\n",
    "f1 = f1_score(y_test, test_pred)\n",
    "auc = roc_auc_score(y_test, test_pred_proba)\n",
    "\n",
    "print(f\"Test Accuracy: {accuracy:.4f}\")\n",
    "print(f\"Test Precision: {precision:.4f}\")\n",
    "print(f\"Test Recall: {recall:.4f}\")\n",
    "print(f\"Test F1 Score: {f1:.4f}\")\n",
    "print(f\"Test AUC-ROC: {auc:.4f}\")"
   ]
  },
  {
   "cell_type": "markdown",
   "metadata": {},
   "source": [
    "#### TF-IDF"
   ]
  },
  {
   "cell_type": "code",
   "execution_count": 146,
   "metadata": {},
   "outputs": [
    {
     "name": "stdout",
     "output_type": "stream",
     "text": [
      "Validation AUC-ROC: 0.9294\n",
      "Test Accuracy: 0.9722\n",
      "Test Precision: 0.9880\n",
      "Test Recall: 0.4059\n",
      "Test F1 Score: 0.5754\n",
      "Test AUC-ROC: 0.9702\n"
     ]
    }
   ],
   "source": [
    "# Fit the model to the training data\n",
    "model.fit(X_train_tfidf, y_train)\n",
    "\n",
    "# Evaluate on validation set (to minimize loss)\n",
    "val_pred_proba = model.predict_proba(X_val_tfidf)[:, 1]\n",
    "val_auc = roc_auc_score(y_val, val_pred_proba)\n",
    "print(f\"Validation AUC-ROC: {val_auc:.4f}\")\n",
    "\n",
    "# Final evaluation on test set\n",
    "test_pred = model.predict(X_test_tfidf)\n",
    "test_pred_proba = model.predict_proba(X_test_tfidf)[:, 1]\n",
    "\n",
    "accuracy = accuracy_score(y_test, test_pred)\n",
    "precision = precision_score(y_test, test_pred)\n",
    "recall = recall_score(y_test, test_pred)\n",
    "f1 = f1_score(y_test, test_pred)\n",
    "auc = roc_auc_score(y_test, test_pred_proba)\n",
    "\n",
    "print(f\"Test Accuracy: {accuracy:.4f}\")\n",
    "print(f\"Test Precision: {precision:.4f}\")\n",
    "print(f\"Test Recall: {recall:.4f}\")\n",
    "print(f\"Test F1 Score: {f1:.4f}\")\n",
    "print(f\"Test AUC-ROC: {auc:.4f}\")"
   ]
  },
  {
   "cell_type": "code",
   "execution_count": 147,
   "metadata": {},
   "outputs": [
    {
     "data": {
      "image/png": "[encoded data removed]",
      "text/plain": [
       "<Figure size 800x600 with 1 Axes>"
      ]
     },
     "metadata": {},
     "output_type": "display_data"
    }
   ],
   "source": [
    "from sklearn.metrics import roc_curve, auc\n",
    "import matplotlib.pyplot as plt\n",
    "\n",
    "# Calculate the ROC curve\n",
    "fpr, tpr, thresholds = roc_curve(y_test, test_pred_proba)\n",
    "\n",
    "# Calculate the AUC score\n",
    "roc_auc = auc(fpr, tpr)\n",
    "\n",
    "# Plot the ROC curve\n",
    "plt.figure(figsize=(8, 6))\n",
    "plt.plot(fpr, tpr, color='blue', lw=2, label=f'ROC Curve (AUC = {roc_auc:.4f})')\n",
    "plt.plot([0, 1], [0, 1], color='gray', linestyle='--', lw=2, label='Random Guess')\n",
    "plt.xlim([0.0, 1.0])\n",
    "plt.ylim([0.0, 1.05])\n",
    "plt.xlabel('False Positive Rate (FPR)', fontsize=12)\n",
    "plt.ylabel('True Positive Rate (TPR)', fontsize=12)\n",
    "plt.title('Receiver Operating Characteristic (ROC) Curve', fontsize=14)\n",
    "plt.legend(loc='lower right', fontsize=10)\n",
    "plt.grid(alpha=0.3)\n",
    "plt.show()"
   ]
  }
 ],
 "metadata": {
  "kernelspec": {
   "display_name": "Python 3.12.6 ('project': venv)",
   "language": "python",
   "name": "python3"
  },
  "language_info": {
   "codemirror_mode": {
    "name": "ipython",
    "version": 3
   },
   "file_extension": ".py",
   "mimetype": "text/x-python",
   "name": "python",
   "nbconvert_exporter": "python",
   "pygments_lexer": "ipython3",
   "version": "3.12.6"
  },
  "vscode": {
   "interpreter": {
    "hash": "643a9d2ca26ce45b27386ef8940c8ce0d888c70cc45f61d60264c2b0e58d842b"
   }
  }
 },
 "nbformat": 4,
 "nbformat_minor": 2
}
