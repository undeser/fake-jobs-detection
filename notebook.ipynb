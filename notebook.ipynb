{
 "cells": [
  {
   "cell_type": "code",
   "execution_count": 16,
   "metadata": {
    "colab": {
     "base_uri": "https://localhost:8080/"
    },
    "id": "x9hI29G7wIsp",
    "outputId": "61e601af-d45e-41f9-fb59-5d7fce185039"
   },
   "outputs": [
    {
     "name": "stderr",
     "output_type": "stream",
     "text": [
      "[nltk_data] Downloading package stopwords to\n",
      "[nltk_data]     C:\\Users\\skypo\\AppData\\Roaming\\nltk_data...\n",
      "[nltk_data]   Package stopwords is already up-to-date!\n"
     ]
    },
    {
     "data": {
      "text/plain": [
       "(17880, 18)"
      ]
     },
     "execution_count": 16,
     "metadata": {},
     "output_type": "execute_result"
    }
   ],
   "source": [
    "import pandas as pd\n",
    "import matplotlib.pyplot as plt\n",
    "import seaborn as sns\n",
    "import emoji, string\n",
    "import nltk\n",
    "import re\n",
    "\n",
    "from sklearn.model_selection import train_test_split\n",
    "from sklearn.feature_extraction.text import TfidfVectorizer\n",
    "from sklearn.preprocessing import LabelEncoder, OneHotEncoder\n",
    "from sklearn.feature_extraction.text import TfidfVectorizer, CountVectorizer\n",
    "\n",
    "from nltk.corpus import stopwords\n",
    "nltk.download('stopwords')\n",
    "\n",
    "df = pd.read_csv('DataSet.csv')\n",
    "# Set pandas option to display all columns\n",
    "pd.set_option('display.max_columns', None)\n",
    "\n",
    "df.shape"
   ]
  },
  {
   "cell_type": "code",
   "execution_count": 17,
   "metadata": {
    "colab": {
     "base_uri": "https://localhost:8080/",
     "height": 754
    },
    "id": "i660BfdrwIsp",
    "outputId": "95490f9a-24a4-422f-9bbb-77286b17fecb"
   },
   "outputs": [
    {
     "data": {
      "text/html": [
       "<div>\n",
       "<style scoped>\n",
       "    .dataframe tbody tr th:only-of-type {\n",
       "        vertical-align: middle;\n",
       "    }\n",
       "\n",
       "    .dataframe tbody tr th {\n",
       "        vertical-align: top;\n",
       "    }\n",
       "\n",
       "    .dataframe thead th {\n",
       "        text-align: right;\n",
       "    }\n",
       "</style>\n",
       "<table border=\"1\" class=\"dataframe\">\n",
       "  <thead>\n",
       "    <tr style=\"text-align: right;\">\n",
       "      <th></th>\n",
       "      <th>title</th>\n",
       "      <th>location</th>\n",
       "      <th>department</th>\n",
       "      <th>salary_range</th>\n",
       "      <th>company_profile</th>\n",
       "      <th>description</th>\n",
       "      <th>requirements</th>\n",
       "      <th>benefits</th>\n",
       "      <th>telecommuting</th>\n",
       "      <th>has_company_logo</th>\n",
       "      <th>has_questions</th>\n",
       "      <th>employment_type</th>\n",
       "      <th>required_experience</th>\n",
       "      <th>required_education</th>\n",
       "      <th>industry</th>\n",
       "      <th>function</th>\n",
       "      <th>fraudulent</th>\n",
       "      <th>in_balanced_dataset</th>\n",
       "    </tr>\n",
       "  </thead>\n",
       "  <tbody>\n",
       "    <tr>\n",
       "      <th>0</th>\n",
       "      <td>Marketing Intern</td>\n",
       "      <td>US, NY, New York</td>\n",
       "      <td>Marketing</td>\n",
       "      <td>NaN</td>\n",
       "      <td>&lt;h3&gt;We're Food52, and we've created a groundbr...</td>\n",
       "      <td>&lt;p&gt;Food52, a fast-growing, James Beard Award-w...</td>\n",
       "      <td>&lt;ul&gt;\\r\\n&lt;li&gt;Experience with content management...</td>\n",
       "      <td>NaN</td>\n",
       "      <td>f</td>\n",
       "      <td>t</td>\n",
       "      <td>f</td>\n",
       "      <td>Other</td>\n",
       "      <td>Internship</td>\n",
       "      <td>NaN</td>\n",
       "      <td>NaN</td>\n",
       "      <td>Marketing</td>\n",
       "      <td>f</td>\n",
       "      <td>f</td>\n",
       "    </tr>\n",
       "    <tr>\n",
       "      <th>1</th>\n",
       "      <td>Customer Service - Cloud Video Production</td>\n",
       "      <td>NZ, , Auckland</td>\n",
       "      <td>Success</td>\n",
       "      <td>NaN</td>\n",
       "      <td>&lt;h3&gt;90 Seconds, the worlds Cloud Video Product...</td>\n",
       "      <td>&lt;p&gt;Organised - Focused - Vibrant - Awesome!&lt;br...</td>\n",
       "      <td>&lt;p&gt;&lt;b&gt;What we expect from you:&lt;/b&gt;&lt;/p&gt;\\r\\n&lt;p&gt;Y...</td>\n",
       "      <td>&lt;h3&gt;&lt;b&gt;What you will get from us&lt;/b&gt;&lt;/h3&gt;\\r\\n&lt;...</td>\n",
       "      <td>f</td>\n",
       "      <td>t</td>\n",
       "      <td>f</td>\n",
       "      <td>Full-time</td>\n",
       "      <td>Not Applicable</td>\n",
       "      <td>NaN</td>\n",
       "      <td>Marketing and Advertising</td>\n",
       "      <td>Customer Service</td>\n",
       "      <td>f</td>\n",
       "      <td>f</td>\n",
       "    </tr>\n",
       "    <tr>\n",
       "      <th>2</th>\n",
       "      <td>Commissioning Machinery Assistant (CMA)</td>\n",
       "      <td>US, IA, Wever</td>\n",
       "      <td>NaN</td>\n",
       "      <td>NaN</td>\n",
       "      <td>&lt;h3&gt;&lt;/h3&gt;\\r\\n&lt;p&gt;Valor Services provides Workfo...</td>\n",
       "      <td>&lt;p&gt;Our client, located in Houston, is actively...</td>\n",
       "      <td>&lt;ul&gt;\\r\\n&lt;li&gt;Implement pre-commissioning and co...</td>\n",
       "      <td>NaN</td>\n",
       "      <td>f</td>\n",
       "      <td>t</td>\n",
       "      <td>f</td>\n",
       "      <td>NaN</td>\n",
       "      <td>NaN</td>\n",
       "      <td>NaN</td>\n",
       "      <td>NaN</td>\n",
       "      <td>NaN</td>\n",
       "      <td>f</td>\n",
       "      <td>f</td>\n",
       "    </tr>\n",
       "    <tr>\n",
       "      <th>3</th>\n",
       "      <td>Account Executive - Washington DC</td>\n",
       "      <td>US, DC, Washington</td>\n",
       "      <td>Sales</td>\n",
       "      <td>NaN</td>\n",
       "      <td>&lt;p&gt;Our passion for improving quality of life t...</td>\n",
       "      <td>&lt;p&gt;&lt;b&gt;THE COMPANY: ESRI – Environmental System...</td>\n",
       "      <td>&lt;ul&gt;\\r\\n&lt;li&gt;\\r\\n&lt;b&gt;EDUCATION: &lt;/b&gt;Bachelor’s o...</td>\n",
       "      <td>&lt;p&gt;Our culture is anything but corporate—we ha...</td>\n",
       "      <td>f</td>\n",
       "      <td>t</td>\n",
       "      <td>f</td>\n",
       "      <td>Full-time</td>\n",
       "      <td>Mid-Senior level</td>\n",
       "      <td>Bachelor's Degree</td>\n",
       "      <td>Computer Software</td>\n",
       "      <td>Sales</td>\n",
       "      <td>f</td>\n",
       "      <td>f</td>\n",
       "    </tr>\n",
       "    <tr>\n",
       "      <th>4</th>\n",
       "      <td>Bill Review Manager</td>\n",
       "      <td>US, FL, Fort Worth</td>\n",
       "      <td>NaN</td>\n",
       "      <td>NaN</td>\n",
       "      <td>&lt;p&gt;SpotSource Solutions LLC is a Global Human ...</td>\n",
       "      <td>&lt;p&gt;&lt;b&gt;JOB TITLE:&lt;/b&gt; Itemization Review Manage...</td>\n",
       "      <td>&lt;p&gt;&lt;b&gt;QUALIFICATIONS:&lt;/b&gt;&lt;/p&gt;\\r\\n&lt;ul&gt;\\r\\n&lt;li&gt;R...</td>\n",
       "      <td>&lt;p&gt;Full Benefits Offered&lt;/p&gt;</td>\n",
       "      <td>f</td>\n",
       "      <td>t</td>\n",
       "      <td>t</td>\n",
       "      <td>Full-time</td>\n",
       "      <td>Mid-Senior level</td>\n",
       "      <td>Bachelor's Degree</td>\n",
       "      <td>Hospital &amp; Health Care</td>\n",
       "      <td>Health Care Provider</td>\n",
       "      <td>f</td>\n",
       "      <td>f</td>\n",
       "    </tr>\n",
       "    <tr>\n",
       "      <th>...</th>\n",
       "      <td>...</td>\n",
       "      <td>...</td>\n",
       "      <td>...</td>\n",
       "      <td>...</td>\n",
       "      <td>...</td>\n",
       "      <td>...</td>\n",
       "      <td>...</td>\n",
       "      <td>...</td>\n",
       "      <td>...</td>\n",
       "      <td>...</td>\n",
       "      <td>...</td>\n",
       "      <td>...</td>\n",
       "      <td>...</td>\n",
       "      <td>...</td>\n",
       "      <td>...</td>\n",
       "      <td>...</td>\n",
       "      <td>...</td>\n",
       "      <td>...</td>\n",
       "    </tr>\n",
       "    <tr>\n",
       "      <th>17875</th>\n",
       "      <td>Account Director - Distribution</td>\n",
       "      <td>CA, ON, Toronto</td>\n",
       "      <td>Sales</td>\n",
       "      <td>NaN</td>\n",
       "      <td>&lt;p&gt;Vend is looking for some awesome new talent...</td>\n",
       "      <td>&lt;p&gt;Just in case this is the first time you’ve ...</td>\n",
       "      <td>&lt;p&gt;To ace this role you:&lt;/p&gt;\\r\\n&lt;ul&gt;\\r\\n&lt;li&gt;Wi...</td>\n",
       "      <td>&lt;p&gt;&lt;b&gt;What can you expect from us?&lt;/b&gt;&lt;/p&gt;\\r\\n...</td>\n",
       "      <td>f</td>\n",
       "      <td>t</td>\n",
       "      <td>t</td>\n",
       "      <td>Full-time</td>\n",
       "      <td>Mid-Senior level</td>\n",
       "      <td>NaN</td>\n",
       "      <td>Computer Software</td>\n",
       "      <td>Sales</td>\n",
       "      <td>f</td>\n",
       "      <td>f</td>\n",
       "    </tr>\n",
       "    <tr>\n",
       "      <th>17876</th>\n",
       "      <td>Payroll Accountant</td>\n",
       "      <td>US, PA, Philadelphia</td>\n",
       "      <td>Accounting</td>\n",
       "      <td>NaN</td>\n",
       "      <td>&lt;p&gt;WebLinc is the e-commerce platform and serv...</td>\n",
       "      <td>&lt;p&gt;&lt;/p&gt;\\r\\n&lt;p&gt;The Payroll Accountant will focu...</td>\n",
       "      <td>&lt;p&gt;&lt;/p&gt;\\r\\n&lt;p&gt;- B.A. or B.S. in Accounting&lt;/p&gt;...</td>\n",
       "      <td>&lt;p&gt;&lt;/p&gt;\\r\\n&lt;h3&gt;Health &amp;amp; Wellness&lt;/h3&gt;\\r\\n&lt;...</td>\n",
       "      <td>f</td>\n",
       "      <td>t</td>\n",
       "      <td>t</td>\n",
       "      <td>Full-time</td>\n",
       "      <td>Mid-Senior level</td>\n",
       "      <td>Bachelor's Degree</td>\n",
       "      <td>Internet</td>\n",
       "      <td>Accounting/Auditing</td>\n",
       "      <td>f</td>\n",
       "      <td>f</td>\n",
       "    </tr>\n",
       "    <tr>\n",
       "      <th>17877</th>\n",
       "      <td>Project Cost Control Staff Engineer - Cost Con...</td>\n",
       "      <td>US, TX, Houston</td>\n",
       "      <td>NaN</td>\n",
       "      <td>NaN</td>\n",
       "      <td>&lt;p&gt;We Provide Full Time Permanent Positions fo...</td>\n",
       "      <td>&lt;p&gt;Experienced Project Cost Control Staff Engi...</td>\n",
       "      <td>&lt;ul&gt;\\r\\n&lt;li&gt;At least 12 years professional exp...</td>\n",
       "      <td>NaN</td>\n",
       "      <td>f</td>\n",
       "      <td>f</td>\n",
       "      <td>f</td>\n",
       "      <td>Full-time</td>\n",
       "      <td>NaN</td>\n",
       "      <td>NaN</td>\n",
       "      <td>NaN</td>\n",
       "      <td>NaN</td>\n",
       "      <td>f</td>\n",
       "      <td>f</td>\n",
       "    </tr>\n",
       "    <tr>\n",
       "      <th>17878</th>\n",
       "      <td>Graphic Designer</td>\n",
       "      <td>NG, LA, Lagos</td>\n",
       "      <td>NaN</td>\n",
       "      <td>NaN</td>\n",
       "      <td>NaN</td>\n",
       "      <td>&lt;p&gt;Nemsia Studios is looking for an experience...</td>\n",
       "      <td>&lt;p&gt;1. Must be fluent in the latest versions of...</td>\n",
       "      <td>&lt;p&gt;Competitive salary (compensation will be ba...</td>\n",
       "      <td>f</td>\n",
       "      <td>f</td>\n",
       "      <td>t</td>\n",
       "      <td>Contract</td>\n",
       "      <td>Not Applicable</td>\n",
       "      <td>Professional</td>\n",
       "      <td>Graphic Design</td>\n",
       "      <td>Design</td>\n",
       "      <td>f</td>\n",
       "      <td>f</td>\n",
       "    </tr>\n",
       "    <tr>\n",
       "      <th>17879</th>\n",
       "      <td>Web Application Developers</td>\n",
       "      <td>NZ, N, Wellington</td>\n",
       "      <td>Engineering</td>\n",
       "      <td>NaN</td>\n",
       "      <td>&lt;p&gt;Vend is looking for some awesome new talent...</td>\n",
       "      <td>&lt;p&gt;&lt;b&gt;Who are we?&lt;/b&gt;&lt;/p&gt;\\r\\n&lt;p&gt;Vend is an awa...</td>\n",
       "      <td>&lt;p&gt;&lt;b&gt;We want to hear from you if:&lt;/b&gt;&lt;/p&gt;\\r\\n...</td>\n",
       "      <td>NaN</td>\n",
       "      <td>f</td>\n",
       "      <td>t</td>\n",
       "      <td>t</td>\n",
       "      <td>Full-time</td>\n",
       "      <td>Mid-Senior level</td>\n",
       "      <td>NaN</td>\n",
       "      <td>Computer Software</td>\n",
       "      <td>Engineering</td>\n",
       "      <td>f</td>\n",
       "      <td>f</td>\n",
       "    </tr>\n",
       "  </tbody>\n",
       "</table>\n",
       "<p>17880 rows × 18 columns</p>\n",
       "</div>"
      ],
      "text/plain": [
       "                                                   title  \\\n",
       "0                                       Marketing Intern   \n",
       "1              Customer Service - Cloud Video Production   \n",
       "2                Commissioning Machinery Assistant (CMA)   \n",
       "3                      Account Executive - Washington DC   \n",
       "4                                    Bill Review Manager   \n",
       "...                                                  ...   \n",
       "17875                   Account Director - Distribution    \n",
       "17876                                 Payroll Accountant   \n",
       "17877  Project Cost Control Staff Engineer - Cost Con...   \n",
       "17878                                   Graphic Designer   \n",
       "17879                         Web Application Developers   \n",
       "\n",
       "                   location   department salary_range  \\\n",
       "0          US, NY, New York    Marketing          NaN   \n",
       "1            NZ, , Auckland      Success          NaN   \n",
       "2             US, IA, Wever          NaN          NaN   \n",
       "3        US, DC, Washington        Sales          NaN   \n",
       "4        US, FL, Fort Worth          NaN          NaN   \n",
       "...                     ...          ...          ...   \n",
       "17875       CA, ON, Toronto        Sales          NaN   \n",
       "17876  US, PA, Philadelphia   Accounting          NaN   \n",
       "17877       US, TX, Houston          NaN          NaN   \n",
       "17878         NG, LA, Lagos          NaN          NaN   \n",
       "17879     NZ, N, Wellington  Engineering          NaN   \n",
       "\n",
       "                                         company_profile  \\\n",
       "0      <h3>We're Food52, and we've created a groundbr...   \n",
       "1      <h3>90 Seconds, the worlds Cloud Video Product...   \n",
       "2      <h3></h3>\\r\\n<p>Valor Services provides Workfo...   \n",
       "3      <p>Our passion for improving quality of life t...   \n",
       "4      <p>SpotSource Solutions LLC is a Global Human ...   \n",
       "...                                                  ...   \n",
       "17875  <p>Vend is looking for some awesome new talent...   \n",
       "17876  <p>WebLinc is the e-commerce platform and serv...   \n",
       "17877  <p>We Provide Full Time Permanent Positions fo...   \n",
       "17878                                                NaN   \n",
       "17879  <p>Vend is looking for some awesome new talent...   \n",
       "\n",
       "                                             description  \\\n",
       "0      <p>Food52, a fast-growing, James Beard Award-w...   \n",
       "1      <p>Organised - Focused - Vibrant - Awesome!<br...   \n",
       "2      <p>Our client, located in Houston, is actively...   \n",
       "3      <p><b>THE COMPANY: ESRI – Environmental System...   \n",
       "4      <p><b>JOB TITLE:</b> Itemization Review Manage...   \n",
       "...                                                  ...   \n",
       "17875  <p>Just in case this is the first time you’ve ...   \n",
       "17876  <p></p>\\r\\n<p>The Payroll Accountant will focu...   \n",
       "17877  <p>Experienced Project Cost Control Staff Engi...   \n",
       "17878  <p>Nemsia Studios is looking for an experience...   \n",
       "17879  <p><b>Who are we?</b></p>\\r\\n<p>Vend is an awa...   \n",
       "\n",
       "                                            requirements  \\\n",
       "0      <ul>\\r\\n<li>Experience with content management...   \n",
       "1      <p><b>What we expect from you:</b></p>\\r\\n<p>Y...   \n",
       "2      <ul>\\r\\n<li>Implement pre-commissioning and co...   \n",
       "3      <ul>\\r\\n<li>\\r\\n<b>EDUCATION: </b>Bachelor’s o...   \n",
       "4      <p><b>QUALIFICATIONS:</b></p>\\r\\n<ul>\\r\\n<li>R...   \n",
       "...                                                  ...   \n",
       "17875  <p>To ace this role you:</p>\\r\\n<ul>\\r\\n<li>Wi...   \n",
       "17876  <p></p>\\r\\n<p>- B.A. or B.S. in Accounting</p>...   \n",
       "17877  <ul>\\r\\n<li>At least 12 years professional exp...   \n",
       "17878  <p>1. Must be fluent in the latest versions of...   \n",
       "17879  <p><b>We want to hear from you if:</b></p>\\r\\n...   \n",
       "\n",
       "                                                benefits telecommuting  \\\n",
       "0                                                    NaN             f   \n",
       "1      <h3><b>What you will get from us</b></h3>\\r\\n<...             f   \n",
       "2                                                    NaN             f   \n",
       "3      <p>Our culture is anything but corporate—we ha...             f   \n",
       "4                           <p>Full Benefits Offered</p>             f   \n",
       "...                                                  ...           ...   \n",
       "17875  <p><b>What can you expect from us?</b></p>\\r\\n...             f   \n",
       "17876  <p></p>\\r\\n<h3>Health &amp; Wellness</h3>\\r\\n<...             f   \n",
       "17877                                                NaN             f   \n",
       "17878  <p>Competitive salary (compensation will be ba...             f   \n",
       "17879                                                NaN             f   \n",
       "\n",
       "      has_company_logo has_questions employment_type required_experience  \\\n",
       "0                    t             f           Other          Internship   \n",
       "1                    t             f       Full-time      Not Applicable   \n",
       "2                    t             f             NaN                 NaN   \n",
       "3                    t             f       Full-time    Mid-Senior level   \n",
       "4                    t             t       Full-time    Mid-Senior level   \n",
       "...                ...           ...             ...                 ...   \n",
       "17875                t             t       Full-time    Mid-Senior level   \n",
       "17876                t             t       Full-time    Mid-Senior level   \n",
       "17877                f             f       Full-time                 NaN   \n",
       "17878                f             t        Contract      Not Applicable   \n",
       "17879                t             t       Full-time    Mid-Senior level   \n",
       "\n",
       "      required_education                   industry              function  \\\n",
       "0                    NaN                        NaN             Marketing   \n",
       "1                    NaN  Marketing and Advertising      Customer Service   \n",
       "2                    NaN                        NaN                   NaN   \n",
       "3      Bachelor's Degree          Computer Software                 Sales   \n",
       "4      Bachelor's Degree     Hospital & Health Care  Health Care Provider   \n",
       "...                  ...                        ...                   ...   \n",
       "17875                NaN          Computer Software                 Sales   \n",
       "17876  Bachelor's Degree                   Internet   Accounting/Auditing   \n",
       "17877                NaN                        NaN                   NaN   \n",
       "17878       Professional             Graphic Design                Design   \n",
       "17879                NaN          Computer Software           Engineering   \n",
       "\n",
       "      fraudulent in_balanced_dataset  \n",
       "0              f                   f  \n",
       "1              f                   f  \n",
       "2              f                   f  \n",
       "3              f                   f  \n",
       "4              f                   f  \n",
       "...          ...                 ...  \n",
       "17875          f                   f  \n",
       "17876          f                   f  \n",
       "17877          f                   f  \n",
       "17878          f                   f  \n",
       "17879          f                   f  \n",
       "\n",
       "[17880 rows x 18 columns]"
      ]
     },
     "metadata": {},
     "output_type": "display_data"
    }
   ],
   "source": [
    "display(df)"
   ]
  },
  {
   "cell_type": "code",
   "execution_count": 18,
   "metadata": {
    "colab": {
     "base_uri": "https://localhost:8080/"
    },
    "id": "nmgxzYswwIsp",
    "outputId": "83b1a086-27b9-4532-a9c6-6b9a1edb1555"
   },
   "outputs": [
    {
     "name": "stdout",
     "output_type": "stream",
     "text": [
      "Number of unique values in 'location': 3105\n"
     ]
    }
   ],
   "source": [
    "unique_locations = df['location'].nunique()\n",
    "print(f\"Number of unique values in 'location': {unique_locations}\")"
   ]
  },
  {
   "cell_type": "code",
   "execution_count": null,
   "metadata": {
    "id": "BVLV6QWMwIsp"
   },
   "outputs": [],
   "source": []
  },
  {
   "cell_type": "markdown",
   "metadata": {
    "id": "lU-3zNMMwIsq"
   },
   "source": [
    "## Exploratory Data Analysis"
   ]
  },
  {
   "cell_type": "code",
   "execution_count": 19,
   "metadata": {
    "id": "KanzO7AawIsq"
   },
   "outputs": [
    {
     "name": "stdout",
     "output_type": "stream",
     "text": [
      "First 5 rows of the dataset:\n",
      "                                       title            location department  \\\n",
      "0                           Marketing Intern    US, NY, New York  Marketing   \n",
      "1  Customer Service - Cloud Video Production      NZ, , Auckland    Success   \n",
      "2    Commissioning Machinery Assistant (CMA)       US, IA, Wever        NaN   \n",
      "3          Account Executive - Washington DC  US, DC, Washington      Sales   \n",
      "4                        Bill Review Manager  US, FL, Fort Worth        NaN   \n",
      "\n",
      "  salary_range                                    company_profile  \\\n",
      "0          NaN  <h3>We're Food52, and we've created a groundbr...   \n",
      "1          NaN  <h3>90 Seconds, the worlds Cloud Video Product...   \n",
      "2          NaN  <h3></h3>\\r\\n<p>Valor Services provides Workfo...   \n",
      "3          NaN  <p>Our passion for improving quality of life t...   \n",
      "4          NaN  <p>SpotSource Solutions LLC is a Global Human ...   \n",
      "\n",
      "                                         description  \\\n",
      "0  <p>Food52, a fast-growing, James Beard Award-w...   \n",
      "1  <p>Organised - Focused - Vibrant - Awesome!<br...   \n",
      "2  <p>Our client, located in Houston, is actively...   \n",
      "3  <p><b>THE COMPANY: ESRI – Environmental System...   \n",
      "4  <p><b>JOB TITLE:</b> Itemization Review Manage...   \n",
      "\n",
      "                                        requirements  \\\n",
      "0  <ul>\\r\\n<li>Experience with content management...   \n",
      "1  <p><b>What we expect from you:</b></p>\\r\\n<p>Y...   \n",
      "2  <ul>\\r\\n<li>Implement pre-commissioning and co...   \n",
      "3  <ul>\\r\\n<li>\\r\\n<b>EDUCATION: </b>Bachelor’s o...   \n",
      "4  <p><b>QUALIFICATIONS:</b></p>\\r\\n<ul>\\r\\n<li>R...   \n",
      "\n",
      "                                            benefits telecommuting  \\\n",
      "0                                                NaN             f   \n",
      "1  <h3><b>What you will get from us</b></h3>\\r\\n<...             f   \n",
      "2                                                NaN             f   \n",
      "3  <p>Our culture is anything but corporate—we ha...             f   \n",
      "4                       <p>Full Benefits Offered</p>             f   \n",
      "\n",
      "  has_company_logo has_questions employment_type required_experience  \\\n",
      "0                t             f           Other          Internship   \n",
      "1                t             f       Full-time      Not Applicable   \n",
      "2                t             f             NaN                 NaN   \n",
      "3                t             f       Full-time    Mid-Senior level   \n",
      "4                t             t       Full-time    Mid-Senior level   \n",
      "\n",
      "  required_education                   industry              function  \\\n",
      "0                NaN                        NaN             Marketing   \n",
      "1                NaN  Marketing and Advertising      Customer Service   \n",
      "2                NaN                        NaN                   NaN   \n",
      "3  Bachelor's Degree          Computer Software                 Sales   \n",
      "4  Bachelor's Degree     Hospital & Health Care  Health Care Provider   \n",
      "\n",
      "  fraudulent in_balanced_dataset  \n",
      "0          f                   f  \n",
      "1          f                   f  \n",
      "2          f                   f  \n",
      "3          f                   f  \n",
      "4          f                   f  \n"
     ]
    }
   ],
   "source": [
    "# Display the first few rows of the dataset\n",
    "print(\"First 5 rows of the dataset:\")\n",
    "print(df.head())\n"
   ]
  },
  {
   "cell_type": "code",
   "execution_count": 20,
   "metadata": {},
   "outputs": [
    {
     "name": "stdout",
     "output_type": "stream",
     "text": [
      "\n",
      "Dataset Info:\n",
      "<class 'pandas.core.frame.DataFrame'>\n",
      "RangeIndex: 17880 entries, 0 to 17879\n",
      "Data columns (total 18 columns):\n",
      " #   Column               Non-Null Count  Dtype \n",
      "---  ------               --------------  ----- \n",
      " 0   title                17880 non-null  object\n",
      " 1   location             17534 non-null  object\n",
      " 2   department           6333 non-null   object\n",
      " 3   salary_range         2868 non-null   object\n",
      " 4   company_profile      14572 non-null  object\n",
      " 5   description          17880 non-null  object\n",
      " 6   requirements         15191 non-null  object\n",
      " 7   benefits             10684 non-null  object\n",
      " 8   telecommuting        17880 non-null  object\n",
      " 9   has_company_logo     17880 non-null  object\n",
      " 10  has_questions        17880 non-null  object\n",
      " 11  employment_type      14409 non-null  object\n",
      " 12  required_experience  10830 non-null  object\n",
      " 13  required_education   9775 non-null   object\n",
      " 14  industry             12977 non-null  object\n",
      " 15  function             11425 non-null  object\n",
      " 16  fraudulent           17880 non-null  object\n",
      " 17  in_balanced_dataset  17880 non-null  object\n",
      "dtypes: object(18)\n",
      "memory usage: 2.5+ MB\n"
     ]
    }
   ],
   "source": [
    "# Check for basic information about the dataset\n",
    "print(\"\\nDataset Info:\")\n",
    "df.info()"
   ]
  },
  {
   "cell_type": "code",
   "execution_count": 21,
   "metadata": {},
   "outputs": [
    {
     "name": "stdout",
     "output_type": "stream",
     "text": [
      "\n",
      "Summary Statistics:\n",
      "                          title         location department salary_range  \\\n",
      "count                     17880            17534       6333         2868   \n",
      "unique                    11231             3105       1337          874   \n",
      "top     English Teacher Abroad   GB, LND, London      Sales          0-0   \n",
      "freq                        311              718        551          142   \n",
      "\n",
      "                                          company_profile  \\\n",
      "count                                               14572   \n",
      "unique                                               1710   \n",
      "top     <p>We help teachers get safe &amp; secure jobs...   \n",
      "freq                                                  726   \n",
      "\n",
      "                                              description  \\\n",
      "count                                               17880   \n",
      "unique                                              15095   \n",
      "top     <p>Play with kids, get paid for it </p>\\r\\n<p>...   \n",
      "freq                                                  376   \n",
      "\n",
      "                                             requirements  \\\n",
      "count                                               15191   \n",
      "unique                                              12119   \n",
      "top     <p>University degree required. TEFL / TESOL / ...   \n",
      "freq                                                  410   \n",
      "\n",
      "                          benefits telecommuting has_company_logo  \\\n",
      "count                        10684         17880            17880   \n",
      "unique                        6510             2                2   \n",
      "top     <p>See job description</p>             f                t   \n",
      "freq                           726         17113            14220   \n",
      "\n",
      "       has_questions employment_type required_experience required_education  \\\n",
      "count          17880           14409               10830               9775   \n",
      "unique             2               5                   7                 13   \n",
      "top                f       Full-time    Mid-Senior level  Bachelor's Degree   \n",
      "freq            9088           11620                3809               5145   \n",
      "\n",
      "                                   industry                function  \\\n",
      "count                                 12977                   11425   \n",
      "unique                                  131                      37   \n",
      "top     Information Technology and Services  Information Technology   \n",
      "freq                                   1734                    1749   \n",
      "\n",
      "       fraudulent in_balanced_dataset  \n",
      "count       17880               17880  \n",
      "unique          2                   2  \n",
      "top             f                   f  \n",
      "freq        17014               16980  \n"
     ]
    }
   ],
   "source": [
    "# Summary statistics for numerical columns\n",
    "print(\"\\nSummary Statistics:\")\n",
    "print(df.describe())"
   ]
  },
  {
   "cell_type": "code",
   "execution_count": 22,
   "metadata": {},
   "outputs": [
    {
     "name": "stdout",
     "output_type": "stream",
     "text": [
      "\n",
      "Missing Values:\n",
      "title                      0\n",
      "location                 346\n",
      "department             11547\n",
      "salary_range           15012\n",
      "company_profile         3308\n",
      "description                0\n",
      "requirements            2689\n",
      "benefits                7196\n",
      "telecommuting              0\n",
      "has_company_logo           0\n",
      "has_questions              0\n",
      "employment_type         3471\n",
      "required_experience     7050\n",
      "required_education      8105\n",
      "industry                4903\n",
      "function                6455\n",
      "fraudulent                 0\n",
      "in_balanced_dataset        0\n",
      "dtype: int64\n"
     ]
    }
   ],
   "source": [
    "# Check for missing values\n",
    "print(\"\\nMissing Values:\")\n",
    "print(df.isnull().sum())"
   ]
  },
  {
   "cell_type": "code",
   "execution_count": 23,
   "metadata": {},
   "outputs": [
    {
     "name": "stdout",
     "output_type": "stream",
     "text": [
      "\n",
      "Number of duplicate rows:\n",
      "235\n"
     ]
    }
   ],
   "source": [
    "# Check for duplicate rows\n",
    "print(\"\\nNumber of duplicate rows:\")\n",
    "print(df.duplicated().sum())"
   ]
  },
  {
   "cell_type": "code",
   "execution_count": 24,
   "metadata": {},
   "outputs": [
    {
     "ename": "SyntaxError",
     "evalue": "'break' outside loop (2864654861.py, line 7)",
     "output_type": "error",
     "traceback": [
      "\u001b[1;36m  Cell \u001b[1;32mIn[24], line 7\u001b[1;36m\u001b[0m\n\u001b[1;33m    break\u001b[0m\n\u001b[1;37m    ^\u001b[0m\n\u001b[1;31mSyntaxError\u001b[0m\u001b[1;31m:\u001b[0m 'break' outside loop\n"
     ]
    }
   ],
   "source": [
    "# # Check the distribution of categorical columns\n",
    "# print(\"\\nCategorical Column Distributions:\")\n",
    "# categorical_cols = df.select_dtypes(include=['object', 'category']).columns\n",
    "# for col in categorical_cols:\n",
    "#     print(f\"\\nValue Counts for {col}:\")\n",
    "#     print(df[col].value_counts())\n",
    "break"
   ]
  },
  {
   "cell_type": "markdown",
   "metadata": {
    "id": "Sw7O3sHFwIsq"
   },
   "source": [
    "## Data Cleaning"
   ]
  },
  {
   "cell_type": "code",
   "execution_count": null,
   "metadata": {
    "colab": {
     "base_uri": "https://localhost:8080/"
    },
    "id": "vUVkZi4_wIsq",
    "outputId": "03498b4c-ab4b-4d57-b6eb-43aee368dbe4"
   },
   "outputs": [
    {
     "data": {
      "text/plain": [
       "(17632, 18)"
      ]
     },
     "execution_count": 6,
     "metadata": {},
     "output_type": "execute_result"
    }
   ],
   "source": [
    "df.drop_duplicates(subset=['title','location', 'department' , 'salary_range', 'company_profile', 'description', 'requirements', 'benefits','telecommuting', 'has_company_logo', 'has_questions', 'employment_type', 'required_experience', 'required_education', 'industry', 'function', 'fraudulent'], keep='first', inplace=True)\n",
    "df.shape"
   ]
  },
  {
   "cell_type": "markdown",
   "metadata": {
    "id": "GyGEWc8wwIsq"
   },
   "source": [
    "## Feature Engineering"
   ]
  },
  {
   "cell_type": "code",
   "execution_count": null,
   "metadata": {
    "colab": {
     "base_uri": "https://localhost:8080/"
    },
    "id": "1ABUUVrswIsq",
    "outputId": "3b9d520d-1690-4991-c279-42dae1ef9b58"
   },
   "outputs": [
    {
     "name": "stdout",
     "output_type": "stream",
     "text": [
      "Number of unique values in 'location': 3106\n",
      "Number of unique values in 'country': 91\n"
     ]
    }
   ],
   "source": [
    "## TEXT PREPROCESSING FOR TEXTUAL COLUMNS\n",
    "\n",
    "# Feature 1: COMBINING TEXTUAL COLUMNS INTO 1 COMBINED TEXT COLUMN\n",
    "\n",
    "def clean_text_features(text):\n",
    "    try:\n",
    "        if pd.isnull(text):\n",
    "            return \"\"\n",
    "\n",
    "        # Remove HTML tags\n",
    "        text = re.sub(r'<[^>]*>', '', text)\n",
    "\n",
    "        # Convert to lowercase\n",
    "        text = text.lower()\n",
    "\n",
    "        # Remove non-alphanumeric characters (except specified punctuation)\n",
    "        text = re.sub(r'[^\\w\\s.,:;!?\\'\"-]', '', text)\n",
    "\n",
    "        # Remove punctuation\n",
    "        text = text.translate(str.maketrans('', '', string.punctuation))\n",
    "\n",
    "        # Remove emojis\n",
    "        #text = emoji.replace_emoji(text, replace=\"\")\n",
    "\n",
    "        # Remove stopwords\n",
    "        stop_words = set(stopwords.words(\"english\"))\n",
    "        words = text.split()\n",
    "        filtered_words = [word for word in words if word not in stop_words]\n",
    "        text = \" \".join(filtered_words)\n",
    "\n",
    "        return text\n",
    "\n",
    "    except Exception as e:\n",
    "        print(f\"Error cleaning text: {e}\")\n",
    "        return \"\"\n",
    "\n",
    "\n",
    "text_columns = ['title', 'benefits', 'description', 'requirements', 'company_profile']\n",
    "\n",
    "for col in text_columns:\n",
    "    df[col] = df[col].apply(clean_text_features)\n",
    "\n",
    "df['combined_text_data'] = (\n",
    "    df['title'] + ' ' +\n",
    "    df['description'] + ' ' +\n",
    "    df['requirements'] + ' ' +\n",
    "    df['company_profile'] + ' ' +\n",
    "    df['benefits']\n",
    ")\n",
    "\n",
    "# Feature 2: Since there are too many categories for location (3106) hence we decided to perform dimensionality reduction and just limit to the country and perform one-hot-encoding on country column\n",
    "df['location'] = df['location'].fillna(\",,\")\n",
    "df['country']=df['location'].apply(lambda x: x.split(\",\")[0])\n",
    "\n",
    "# Dimensionality reduction\n",
    "unique_locations = df['location'].nunique()\n",
    "print(f\"Number of unique values in 'location': {unique_locations}\")\n",
    "\n",
    "unique_country = df['country'].nunique()\n",
    "print(f\"Number of unique values in 'country': {unique_country}\")\n",
    "\n",
    "\n",
    "## Feature 3: feature engineering new numerical columns based on salary range column\n",
    "\n",
    "df[['salary_lower', 'salary_upper']] = df['salary_range'].str.split('-', expand=True).astype(float)\n",
    "df['salary_average'] = (df['salary_lower'] + df['salary_upper']) / 2\n",
    "df['salary_range_diff'] = df['salary_upper'] - df['salary_lower']\n",
    "\n"
   ]
  },
  {
   "cell_type": "code",
   "execution_count": null,
   "metadata": {
    "colab": {
     "base_uri": "https://localhost:8080/"
    },
    "id": "9lUWIoVowIsr",
    "outputId": "bc214f5c-578a-47ec-8d47-ea6f8de9ab3b"
   },
   "outputs": [
    {
     "data": {
      "application/vnd.google.colaboratory.intrinsic+json": {
       "type": "dataframe",
       "variable_name": "df"
      },
      "text/html": [
       "\n",
       "  <div id=\"df-5b47dd94-64d8-48c4-abc2-b9cdd8c2fc2a\" class=\"colab-df-container\">\n",
       "    <div>\n",
       "<style scoped>\n",
       "    .dataframe tbody tr th:only-of-type {\n",
       "        vertical-align: middle;\n",
       "    }\n",
       "\n",
       "    .dataframe tbody tr th {\n",
       "        vertical-align: top;\n",
       "    }\n",
       "\n",
       "    .dataframe thead th {\n",
       "        text-align: right;\n",
       "    }\n",
       "</style>\n",
       "<table border=\"1\" class=\"dataframe\">\n",
       "  <thead>\n",
       "    <tr style=\"text-align: right;\">\n",
       "      <th></th>\n",
       "      <th>title</th>\n",
       "      <th>location</th>\n",
       "      <th>department</th>\n",
       "      <th>salary_range</th>\n",
       "      <th>company_profile</th>\n",
       "      <th>description</th>\n",
       "      <th>requirements</th>\n",
       "      <th>benefits</th>\n",
       "      <th>telecommuting</th>\n",
       "      <th>has_company_logo</th>\n",
       "      <th>has_questions</th>\n",
       "      <th>employment_type</th>\n",
       "      <th>required_experience</th>\n",
       "      <th>required_education</th>\n",
       "      <th>industry</th>\n",
       "      <th>function</th>\n",
       "      <th>fraudulent</th>\n",
       "      <th>in_balanced_dataset</th>\n",
       "      <th>combined_text_data</th>\n",
       "      <th>country</th>\n",
       "      <th>salary_lower</th>\n",
       "      <th>salary_upper</th>\n",
       "      <th>salary_average</th>\n",
       "      <th>salary_range_diff</th>\n",
       "    </tr>\n",
       "  </thead>\n",
       "  <tbody>\n",
       "    <tr>\n",
       "      <th>0</th>\n",
       "      <td>marketing intern</td>\n",
       "      <td>US, NY, New York</td>\n",
       "      <td>Marketing</td>\n",
       "      <td>NaN</td>\n",
       "      <td>food52 weve created groundbreaking awardwinnin...</td>\n",
       "      <td>food52 fastgrowing james beard awardwinning on...</td>\n",
       "      <td>experience content management systems major pl...</td>\n",
       "      <td></td>\n",
       "      <td>f</td>\n",
       "      <td>t</td>\n",
       "      <td>f</td>\n",
       "      <td>Other</td>\n",
       "      <td>Internship</td>\n",
       "      <td>NaN</td>\n",
       "      <td>NaN</td>\n",
       "      <td>Marketing</td>\n",
       "      <td>f</td>\n",
       "      <td>f</td>\n",
       "      <td>marketing intern food52 fastgrowing james bear...</td>\n",
       "      <td>US</td>\n",
       "      <td>NaN</td>\n",
       "      <td>NaN</td>\n",
       "      <td>NaN</td>\n",
       "      <td>NaN</td>\n",
       "    </tr>\n",
       "    <tr>\n",
       "      <th>1</th>\n",
       "      <td>customer service cloud video production</td>\n",
       "      <td>NZ, , Auckland</td>\n",
       "      <td>Success</td>\n",
       "      <td>NaN</td>\n",
       "      <td>90 seconds worlds cloud video production servi...</td>\n",
       "      <td>organised focused vibrant awesomedo passion cu...</td>\n",
       "      <td>expect key responsibility communicate client 9...</td>\n",
       "      <td>get us part 90 seconds team gain experience wo...</td>\n",
       "      <td>f</td>\n",
       "      <td>t</td>\n",
       "      <td>f</td>\n",
       "      <td>Full-time</td>\n",
       "      <td>Not Applicable</td>\n",
       "      <td>NaN</td>\n",
       "      <td>Marketing and Advertising</td>\n",
       "      <td>Customer Service</td>\n",
       "      <td>f</td>\n",
       "      <td>f</td>\n",
       "      <td>customer service cloud video production organi...</td>\n",
       "      <td>NZ</td>\n",
       "      <td>NaN</td>\n",
       "      <td>NaN</td>\n",
       "      <td>NaN</td>\n",
       "      <td>NaN</td>\n",
       "    </tr>\n",
       "    <tr>\n",
       "      <th>2</th>\n",
       "      <td>commissioning machinery assistant cma</td>\n",
       "      <td>US, IA, Wever</td>\n",
       "      <td>NaN</td>\n",
       "      <td>NaN</td>\n",
       "      <td>valor services provides workforce solutions me...</td>\n",
       "      <td>client located houston actively seeking experi...</td>\n",
       "      <td>implement precommissioning commissioning proce...</td>\n",
       "      <td></td>\n",
       "      <td>f</td>\n",
       "      <td>t</td>\n",
       "      <td>f</td>\n",
       "      <td>NaN</td>\n",
       "      <td>NaN</td>\n",
       "      <td>NaN</td>\n",
       "      <td>NaN</td>\n",
       "      <td>NaN</td>\n",
       "      <td>f</td>\n",
       "      <td>f</td>\n",
       "      <td>commissioning machinery assistant cma client l...</td>\n",
       "      <td>US</td>\n",
       "      <td>NaN</td>\n",
       "      <td>NaN</td>\n",
       "      <td>NaN</td>\n",
       "      <td>NaN</td>\n",
       "    </tr>\n",
       "    <tr>\n",
       "      <th>3</th>\n",
       "      <td>account executive washington dc</td>\n",
       "      <td>US, DC, Washington</td>\n",
       "      <td>Sales</td>\n",
       "      <td>NaN</td>\n",
       "      <td>passion improving quality life geography heart...</td>\n",
       "      <td>company esri environmental systems research in...</td>\n",
       "      <td>education bachelors masters gis business admin...</td>\n",
       "      <td>culture anything corporatewe collaborative cre...</td>\n",
       "      <td>f</td>\n",
       "      <td>t</td>\n",
       "      <td>f</td>\n",
       "      <td>Full-time</td>\n",
       "      <td>Mid-Senior level</td>\n",
       "      <td>Bachelor's Degree</td>\n",
       "      <td>Computer Software</td>\n",
       "      <td>Sales</td>\n",
       "      <td>f</td>\n",
       "      <td>f</td>\n",
       "      <td>account executive washington dc company esri e...</td>\n",
       "      <td>US</td>\n",
       "      <td>NaN</td>\n",
       "      <td>NaN</td>\n",
       "      <td>NaN</td>\n",
       "      <td>NaN</td>\n",
       "    </tr>\n",
       "    <tr>\n",
       "      <th>4</th>\n",
       "      <td>bill review manager</td>\n",
       "      <td>US, FL, Fort Worth</td>\n",
       "      <td>NaN</td>\n",
       "      <td>NaN</td>\n",
       "      <td>spotsource solutions llc global human capital ...</td>\n",
       "      <td>job title itemization review manager location ...</td>\n",
       "      <td>qualifications rn license state texas diploma ...</td>\n",
       "      <td>full benefits offered</td>\n",
       "      <td>f</td>\n",
       "      <td>t</td>\n",
       "      <td>t</td>\n",
       "      <td>Full-time</td>\n",
       "      <td>Mid-Senior level</td>\n",
       "      <td>Bachelor's Degree</td>\n",
       "      <td>Hospital &amp; Health Care</td>\n",
       "      <td>Health Care Provider</td>\n",
       "      <td>f</td>\n",
       "      <td>f</td>\n",
       "      <td>bill review manager job title itemization revi...</td>\n",
       "      <td>US</td>\n",
       "      <td>NaN</td>\n",
       "      <td>NaN</td>\n",
       "      <td>NaN</td>\n",
       "      <td>NaN</td>\n",
       "    </tr>\n",
       "    <tr>\n",
       "      <th>...</th>\n",
       "      <td>...</td>\n",
       "      <td>...</td>\n",
       "      <td>...</td>\n",
       "      <td>...</td>\n",
       "      <td>...</td>\n",
       "      <td>...</td>\n",
       "      <td>...</td>\n",
       "      <td>...</td>\n",
       "      <td>...</td>\n",
       "      <td>...</td>\n",
       "      <td>...</td>\n",
       "      <td>...</td>\n",
       "      <td>...</td>\n",
       "      <td>...</td>\n",
       "      <td>...</td>\n",
       "      <td>...</td>\n",
       "      <td>...</td>\n",
       "      <td>...</td>\n",
       "      <td>...</td>\n",
       "      <td>...</td>\n",
       "      <td>...</td>\n",
       "      <td>...</td>\n",
       "      <td>...</td>\n",
       "      <td>...</td>\n",
       "    </tr>\n",
       "    <tr>\n",
       "      <th>17875</th>\n",
       "      <td>account director distribution</td>\n",
       "      <td>CA, ON, Toronto</td>\n",
       "      <td>Sales</td>\n",
       "      <td>NaN</td>\n",
       "      <td>vend looking awesome new talent come join us y...</td>\n",
       "      <td>case first time youve visited website vend awa...</td>\n",
       "      <td>ace role eat comprehensive statements work bre...</td>\n",
       "      <td>expect us open culture openly share results in...</td>\n",
       "      <td>f</td>\n",
       "      <td>t</td>\n",
       "      <td>t</td>\n",
       "      <td>Full-time</td>\n",
       "      <td>Mid-Senior level</td>\n",
       "      <td>NaN</td>\n",
       "      <td>Computer Software</td>\n",
       "      <td>Sales</td>\n",
       "      <td>f</td>\n",
       "      <td>f</td>\n",
       "      <td>account director distribution case first time ...</td>\n",
       "      <td>CA</td>\n",
       "      <td>NaN</td>\n",
       "      <td>NaN</td>\n",
       "      <td>NaN</td>\n",
       "      <td>NaN</td>\n",
       "    </tr>\n",
       "    <tr>\n",
       "      <th>17876</th>\n",
       "      <td>payroll accountant</td>\n",
       "      <td>US, PA, Philadelphia</td>\n",
       "      <td>Accounting</td>\n",
       "      <td>NaN</td>\n",
       "      <td>weblinc ecommerce platform services provider f...</td>\n",
       "      <td>payroll accountant focus primarily payroll fun...</td>\n",
       "      <td>ba bs accounting desire fun love genuine passi...</td>\n",
       "      <td>health amp wellness medical plan prescription ...</td>\n",
       "      <td>f</td>\n",
       "      <td>t</td>\n",
       "      <td>t</td>\n",
       "      <td>Full-time</td>\n",
       "      <td>Mid-Senior level</td>\n",
       "      <td>Bachelor's Degree</td>\n",
       "      <td>Internet</td>\n",
       "      <td>Accounting/Auditing</td>\n",
       "      <td>f</td>\n",
       "      <td>f</td>\n",
       "      <td>payroll accountant payroll accountant focus pr...</td>\n",
       "      <td>US</td>\n",
       "      <td>NaN</td>\n",
       "      <td>NaN</td>\n",
       "      <td>NaN</td>\n",
       "      <td>NaN</td>\n",
       "    </tr>\n",
       "    <tr>\n",
       "      <th>17877</th>\n",
       "      <td>project cost control staff engineer cost contr...</td>\n",
       "      <td>US, TX, Houston</td>\n",
       "      <td>NaN</td>\n",
       "      <td>NaN</td>\n",
       "      <td>provide full time permanent positions many med...</td>\n",
       "      <td>experienced project cost control staff enginee...</td>\n",
       "      <td>least 12 years professional experience ability...</td>\n",
       "      <td></td>\n",
       "      <td>f</td>\n",
       "      <td>f</td>\n",
       "      <td>f</td>\n",
       "      <td>Full-time</td>\n",
       "      <td>NaN</td>\n",
       "      <td>NaN</td>\n",
       "      <td>NaN</td>\n",
       "      <td>NaN</td>\n",
       "      <td>f</td>\n",
       "      <td>f</td>\n",
       "      <td>project cost control staff engineer cost contr...</td>\n",
       "      <td>US</td>\n",
       "      <td>NaN</td>\n",
       "      <td>NaN</td>\n",
       "      <td>NaN</td>\n",
       "      <td>NaN</td>\n",
       "    </tr>\n",
       "    <tr>\n",
       "      <th>17878</th>\n",
       "      <td>graphic designer</td>\n",
       "      <td>NG, LA, Lagos</td>\n",
       "      <td>NaN</td>\n",
       "      <td>NaN</td>\n",
       "      <td></td>\n",
       "      <td>nemsia studios looking experienced visualgraph...</td>\n",
       "      <td>1 must fluent latest versions corel amp adobe ...</td>\n",
       "      <td>competitive salary compensation based experien...</td>\n",
       "      <td>f</td>\n",
       "      <td>f</td>\n",
       "      <td>t</td>\n",
       "      <td>Contract</td>\n",
       "      <td>Not Applicable</td>\n",
       "      <td>Professional</td>\n",
       "      <td>Graphic Design</td>\n",
       "      <td>Design</td>\n",
       "      <td>f</td>\n",
       "      <td>f</td>\n",
       "      <td>graphic designer nemsia studios looking experi...</td>\n",
       "      <td>NG</td>\n",
       "      <td>NaN</td>\n",
       "      <td>NaN</td>\n",
       "      <td>NaN</td>\n",
       "      <td>NaN</td>\n",
       "    </tr>\n",
       "    <tr>\n",
       "      <th>17879</th>\n",
       "      <td>web application developers</td>\n",
       "      <td>NZ, N, Wellington</td>\n",
       "      <td>Engineering</td>\n",
       "      <td>NaN</td>\n",
       "      <td>vend looking awesome new talent come join us y...</td>\n",
       "      <td>vend award winning web based point sale softwa...</td>\n",
       "      <td>want hear indepth understanding oo programming...</td>\n",
       "      <td></td>\n",
       "      <td>f</td>\n",
       "      <td>t</td>\n",
       "      <td>t</td>\n",
       "      <td>Full-time</td>\n",
       "      <td>Mid-Senior level</td>\n",
       "      <td>NaN</td>\n",
       "      <td>Computer Software</td>\n",
       "      <td>Engineering</td>\n",
       "      <td>f</td>\n",
       "      <td>f</td>\n",
       "      <td>web application developers vend award winning ...</td>\n",
       "      <td>NZ</td>\n",
       "      <td>NaN</td>\n",
       "      <td>NaN</td>\n",
       "      <td>NaN</td>\n",
       "      <td>NaN</td>\n",
       "    </tr>\n",
       "  </tbody>\n",
       "</table>\n",
       "<p>17632 rows × 24 columns</p>\n",
       "</div>\n",
       "    <div class=\"colab-df-buttons\">\n",
       "\n",
       "  <div class=\"colab-df-container\">\n",
       "    <button class=\"colab-df-convert\" onclick=\"convertToInteractive('df-5b47dd94-64d8-48c4-abc2-b9cdd8c2fc2a')\"\n",
       "            title=\"Convert this dataframe to an interactive table.\"\n",
       "            style=\"display:none;\">\n",
       "\n",
       "  <svg xmlns=\"http://www.w3.org/2000/svg\" height=\"24px\" viewBox=\"0 -960 960 960\">\n",
       "    <path d=\"M120-120v-720h720v720H120Zm60-500h600v-160H180v160Zm220 220h160v-160H400v160Zm0 220h160v-160H400v160ZM180-400h160v-160H180v160Zm440 0h160v-160H620v160ZM180-180h160v-160H180v160Zm440 0h160v-160H620v160Z\"/>\n",
       "  </svg>\n",
       "    </button>\n",
       "\n",
       "  <style>\n",
       "    .colab-df-container {\n",
       "      display:flex;\n",
       "      gap: 12px;\n",
       "    }\n",
       "\n",
       "    .colab-df-convert {\n",
       "      background-color: #E8F0FE;\n",
       "      border: none;\n",
       "      border-radius: 50%;\n",
       "      cursor: pointer;\n",
       "      display: none;\n",
       "      fill: #1967D2;\n",
       "      height: 32px;\n",
       "      padding: 0 0 0 0;\n",
       "      width: 32px;\n",
       "    }\n",
       "\n",
       "    .colab-df-convert:hover {\n",
       "      background-color: #E2EBFA;\n",
       "      box-shadow: 0px 1px 2px rgba(60, 64, 67, 0.3), 0px 1px 3px 1px rgba(60, 64, 67, 0.15);\n",
       "      fill: #174EA6;\n",
       "    }\n",
       "\n",
       "    .colab-df-buttons div {\n",
       "      margin-bottom: 4px;\n",
       "    }\n",
       "\n",
       "    [theme=dark] .colab-df-convert {\n",
       "      background-color: #3B4455;\n",
       "      fill: #D2E3FC;\n",
       "    }\n",
       "\n",
       "    [theme=dark] .colab-df-convert:hover {\n",
       "      background-color: #434B5C;\n",
       "      box-shadow: 0px 1px 3px 1px rgba(0, 0, 0, 0.15);\n",
       "      filter: drop-shadow(0px 1px 2px rgba(0, 0, 0, 0.3));\n",
       "      fill: #FFFFFF;\n",
       "    }\n",
       "  </style>\n",
       "\n",
       "    <script>\n",
       "      const buttonEl =\n",
       "        document.querySelector('#df-5b47dd94-64d8-48c4-abc2-b9cdd8c2fc2a button.colab-df-convert');\n",
       "      buttonEl.style.display =\n",
       "        google.colab.kernel.accessAllowed ? 'block' : 'none';\n",
       "\n",
       "      async function convertToInteractive(key) {\n",
       "        const element = document.querySelector('#df-5b47dd94-64d8-48c4-abc2-b9cdd8c2fc2a');\n",
       "        const dataTable =\n",
       "          await google.colab.kernel.invokeFunction('convertToInteractive',\n",
       "                                                    [key], {});\n",
       "        if (!dataTable) return;\n",
       "\n",
       "        const docLinkHtml = 'Like what you see? Visit the ' +\n",
       "          '<a target=\"_blank\" href=https://colab.research.google.com/notebooks/data_table.ipynb>data table notebook</a>'\n",
       "          + ' to learn more about interactive tables.';\n",
       "        element.innerHTML = '';\n",
       "        dataTable['output_type'] = 'display_data';\n",
       "        await google.colab.output.renderOutput(dataTable, element);\n",
       "        const docLink = document.createElement('div');\n",
       "        docLink.innerHTML = docLinkHtml;\n",
       "        element.appendChild(docLink);\n",
       "      }\n",
       "    </script>\n",
       "  </div>\n",
       "\n",
       "\n",
       "<div id=\"df-0386ee6f-075b-48aa-bc58-8f1a0d74e769\">\n",
       "  <button class=\"colab-df-quickchart\" onclick=\"quickchart('df-0386ee6f-075b-48aa-bc58-8f1a0d74e769')\"\n",
       "            title=\"Suggest charts\"\n",
       "            style=\"display:none;\">\n",
       "\n",
       "<svg xmlns=\"http://www.w3.org/2000/svg\" height=\"24px\"viewBox=\"0 0 24 24\"\n",
       "     width=\"24px\">\n",
       "    <g>\n",
       "        <path d=\"M19 3H5c-1.1 0-2 .9-2 2v14c0 1.1.9 2 2 2h14c1.1 0 2-.9 2-2V5c0-1.1-.9-2-2-2zM9 17H7v-7h2v7zm4 0h-2V7h2v10zm4 0h-2v-4h2v4z\"/>\n",
       "    </g>\n",
       "</svg>\n",
       "  </button>\n",
       "\n",
       "<style>\n",
       "  .colab-df-quickchart {\n",
       "      --bg-color: #E8F0FE;\n",
       "      --fill-color: #1967D2;\n",
       "      --hover-bg-color: #E2EBFA;\n",
       "      --hover-fill-color: #174EA6;\n",
       "      --disabled-fill-color: #AAA;\n",
       "      --disabled-bg-color: #DDD;\n",
       "  }\n",
       "\n",
       "  [theme=dark] .colab-df-quickchart {\n",
       "      --bg-color: #3B4455;\n",
       "      --fill-color: #D2E3FC;\n",
       "      --hover-bg-color: #434B5C;\n",
       "      --hover-fill-color: #FFFFFF;\n",
       "      --disabled-bg-color: #3B4455;\n",
       "      --disabled-fill-color: #666;\n",
       "  }\n",
       "\n",
       "  .colab-df-quickchart {\n",
       "    background-color: var(--bg-color);\n",
       "    border: none;\n",
       "    border-radius: 50%;\n",
       "    cursor: pointer;\n",
       "    display: none;\n",
       "    fill: var(--fill-color);\n",
       "    height: 32px;\n",
       "    padding: 0;\n",
       "    width: 32px;\n",
       "  }\n",
       "\n",
       "  .colab-df-quickchart:hover {\n",
       "    background-color: var(--hover-bg-color);\n",
       "    box-shadow: 0 1px 2px rgba(60, 64, 67, 0.3), 0 1px 3px 1px rgba(60, 64, 67, 0.15);\n",
       "    fill: var(--button-hover-fill-color);\n",
       "  }\n",
       "\n",
       "  .colab-df-quickchart-complete:disabled,\n",
       "  .colab-df-quickchart-complete:disabled:hover {\n",
       "    background-color: var(--disabled-bg-color);\n",
       "    fill: var(--disabled-fill-color);\n",
       "    box-shadow: none;\n",
       "  }\n",
       "\n",
       "  .colab-df-spinner {\n",
       "    border: 2px solid var(--fill-color);\n",
       "    border-color: transparent;\n",
       "    border-bottom-color: var(--fill-color);\n",
       "    animation:\n",
       "      spin 1s steps(1) infinite;\n",
       "  }\n",
       "\n",
       "  @keyframes spin {\n",
       "    0% {\n",
       "      border-color: transparent;\n",
       "      border-bottom-color: var(--fill-color);\n",
       "      border-left-color: var(--fill-color);\n",
       "    }\n",
       "    20% {\n",
       "      border-color: transparent;\n",
       "      border-left-color: var(--fill-color);\n",
       "      border-top-color: var(--fill-color);\n",
       "    }\n",
       "    30% {\n",
       "      border-color: transparent;\n",
       "      border-left-color: var(--fill-color);\n",
       "      border-top-color: var(--fill-color);\n",
       "      border-right-color: var(--fill-color);\n",
       "    }\n",
       "    40% {\n",
       "      border-color: transparent;\n",
       "      border-right-color: var(--fill-color);\n",
       "      border-top-color: var(--fill-color);\n",
       "    }\n",
       "    60% {\n",
       "      border-color: transparent;\n",
       "      border-right-color: var(--fill-color);\n",
       "    }\n",
       "    80% {\n",
       "      border-color: transparent;\n",
       "      border-right-color: var(--fill-color);\n",
       "      border-bottom-color: var(--fill-color);\n",
       "    }\n",
       "    90% {\n",
       "      border-color: transparent;\n",
       "      border-bottom-color: var(--fill-color);\n",
       "    }\n",
       "  }\n",
       "</style>\n",
       "\n",
       "  <script>\n",
       "    async function quickchart(key) {\n",
       "      const quickchartButtonEl =\n",
       "        document.querySelector('#' + key + ' button');\n",
       "      quickchartButtonEl.disabled = true;  // To prevent multiple clicks.\n",
       "      quickchartButtonEl.classList.add('colab-df-spinner');\n",
       "      try {\n",
       "        const charts = await google.colab.kernel.invokeFunction(\n",
       "            'suggestCharts', [key], {});\n",
       "      } catch (error) {\n",
       "        console.error('Error during call to suggestCharts:', error);\n",
       "      }\n",
       "      quickchartButtonEl.classList.remove('colab-df-spinner');\n",
       "      quickchartButtonEl.classList.add('colab-df-quickchart-complete');\n",
       "    }\n",
       "    (() => {\n",
       "      let quickchartButtonEl =\n",
       "        document.querySelector('#df-0386ee6f-075b-48aa-bc58-8f1a0d74e769 button');\n",
       "      quickchartButtonEl.style.display =\n",
       "        google.colab.kernel.accessAllowed ? 'block' : 'none';\n",
       "    })();\n",
       "  </script>\n",
       "</div>\n",
       "\n",
       "  <div id=\"id_5f01959a-e8ea-4129-a566-380beb56c9d2\">\n",
       "    <style>\n",
       "      .colab-df-generate {\n",
       "        background-color: #E8F0FE;\n",
       "        border: none;\n",
       "        border-radius: 50%;\n",
       "        cursor: pointer;\n",
       "        display: none;\n",
       "        fill: #1967D2;\n",
       "        height: 32px;\n",
       "        padding: 0 0 0 0;\n",
       "        width: 32px;\n",
       "      }\n",
       "\n",
       "      .colab-df-generate:hover {\n",
       "        background-color: #E2EBFA;\n",
       "        box-shadow: 0px 1px 2px rgba(60, 64, 67, 0.3), 0px 1px 3px 1px rgba(60, 64, 67, 0.15);\n",
       "        fill: #174EA6;\n",
       "      }\n",
       "\n",
       "      [theme=dark] .colab-df-generate {\n",
       "        background-color: #3B4455;\n",
       "        fill: #D2E3FC;\n",
       "      }\n",
       "\n",
       "      [theme=dark] .colab-df-generate:hover {\n",
       "        background-color: #434B5C;\n",
       "        box-shadow: 0px 1px 3px 1px rgba(0, 0, 0, 0.15);\n",
       "        filter: drop-shadow(0px 1px 2px rgba(0, 0, 0, 0.3));\n",
       "        fill: #FFFFFF;\n",
       "      }\n",
       "    </style>\n",
       "    <button class=\"colab-df-generate\" onclick=\"generateWithVariable('df')\"\n",
       "            title=\"Generate code using this dataframe.\"\n",
       "            style=\"display:none;\">\n",
       "\n",
       "  <svg xmlns=\"http://www.w3.org/2000/svg\" height=\"24px\"viewBox=\"0 0 24 24\"\n",
       "       width=\"24px\">\n",
       "    <path d=\"M7,19H8.4L18.45,9,17,7.55,7,17.6ZM5,21V16.75L18.45,3.32a2,2,0,0,1,2.83,0l1.4,1.43a1.91,1.91,0,0,1,.58,1.4,1.91,1.91,0,0,1-.58,1.4L9.25,21ZM18.45,9,17,7.55Zm-12,3A5.31,5.31,0,0,0,4.9,8.1,5.31,5.31,0,0,0,1,6.5,5.31,5.31,0,0,0,4.9,4.9,5.31,5.31,0,0,0,6.5,1,5.31,5.31,0,0,0,8.1,4.9,5.31,5.31,0,0,0,12,6.5,5.46,5.46,0,0,0,6.5,12Z\"/>\n",
       "  </svg>\n",
       "    </button>\n",
       "    <script>\n",
       "      (() => {\n",
       "      const buttonEl =\n",
       "        document.querySelector('#id_5f01959a-e8ea-4129-a566-380beb56c9d2 button.colab-df-generate');\n",
       "      buttonEl.style.display =\n",
       "        google.colab.kernel.accessAllowed ? 'block' : 'none';\n",
       "\n",
       "      buttonEl.onclick = () => {\n",
       "        google.colab.notebook.generateWithVariable('df');\n",
       "      }\n",
       "      })();\n",
       "    </script>\n",
       "  </div>\n",
       "\n",
       "    </div>\n",
       "  </div>\n"
      ],
      "text/plain": [
       "                                                   title  \\\n",
       "0                                       marketing intern   \n",
       "1                customer service cloud video production   \n",
       "2                  commissioning machinery assistant cma   \n",
       "3                        account executive washington dc   \n",
       "4                                    bill review manager   \n",
       "...                                                  ...   \n",
       "17875                      account director distribution   \n",
       "17876                                 payroll accountant   \n",
       "17877  project cost control staff engineer cost contr...   \n",
       "17878                                   graphic designer   \n",
       "17879                         web application developers   \n",
       "\n",
       "                   location   department salary_range  \\\n",
       "0          US, NY, New York    Marketing          NaN   \n",
       "1            NZ, , Auckland      Success          NaN   \n",
       "2             US, IA, Wever          NaN          NaN   \n",
       "3        US, DC, Washington        Sales          NaN   \n",
       "4        US, FL, Fort Worth          NaN          NaN   \n",
       "...                     ...          ...          ...   \n",
       "17875       CA, ON, Toronto        Sales          NaN   \n",
       "17876  US, PA, Philadelphia   Accounting          NaN   \n",
       "17877       US, TX, Houston          NaN          NaN   \n",
       "17878         NG, LA, Lagos          NaN          NaN   \n",
       "17879     NZ, N, Wellington  Engineering          NaN   \n",
       "\n",
       "                                         company_profile  \\\n",
       "0      food52 weve created groundbreaking awardwinnin...   \n",
       "1      90 seconds worlds cloud video production servi...   \n",
       "2      valor services provides workforce solutions me...   \n",
       "3      passion improving quality life geography heart...   \n",
       "4      spotsource solutions llc global human capital ...   \n",
       "...                                                  ...   \n",
       "17875  vend looking awesome new talent come join us y...   \n",
       "17876  weblinc ecommerce platform services provider f...   \n",
       "17877  provide full time permanent positions many med...   \n",
       "17878                                                      \n",
       "17879  vend looking awesome new talent come join us y...   \n",
       "\n",
       "                                             description  \\\n",
       "0      food52 fastgrowing james beard awardwinning on...   \n",
       "1      organised focused vibrant awesomedo passion cu...   \n",
       "2      client located houston actively seeking experi...   \n",
       "3      company esri environmental systems research in...   \n",
       "4      job title itemization review manager location ...   \n",
       "...                                                  ...   \n",
       "17875  case first time youve visited website vend awa...   \n",
       "17876  payroll accountant focus primarily payroll fun...   \n",
       "17877  experienced project cost control staff enginee...   \n",
       "17878  nemsia studios looking experienced visualgraph...   \n",
       "17879  vend award winning web based point sale softwa...   \n",
       "\n",
       "                                            requirements  \\\n",
       "0      experience content management systems major pl...   \n",
       "1      expect key responsibility communicate client 9...   \n",
       "2      implement precommissioning commissioning proce...   \n",
       "3      education bachelors masters gis business admin...   \n",
       "4      qualifications rn license state texas diploma ...   \n",
       "...                                                  ...   \n",
       "17875  ace role eat comprehensive statements work bre...   \n",
       "17876  ba bs accounting desire fun love genuine passi...   \n",
       "17877  least 12 years professional experience ability...   \n",
       "17878  1 must fluent latest versions corel amp adobe ...   \n",
       "17879  want hear indepth understanding oo programming...   \n",
       "\n",
       "                                                benefits telecommuting  \\\n",
       "0                                                                    f   \n",
       "1      get us part 90 seconds team gain experience wo...             f   \n",
       "2                                                                    f   \n",
       "3      culture anything corporatewe collaborative cre...             f   \n",
       "4                                  full benefits offered             f   \n",
       "...                                                  ...           ...   \n",
       "17875  expect us open culture openly share results in...             f   \n",
       "17876  health amp wellness medical plan prescription ...             f   \n",
       "17877                                                                f   \n",
       "17878  competitive salary compensation based experien...             f   \n",
       "17879                                                                f   \n",
       "\n",
       "      has_company_logo has_questions employment_type required_experience  \\\n",
       "0                    t             f           Other          Internship   \n",
       "1                    t             f       Full-time      Not Applicable   \n",
       "2                    t             f             NaN                 NaN   \n",
       "3                    t             f       Full-time    Mid-Senior level   \n",
       "4                    t             t       Full-time    Mid-Senior level   \n",
       "...                ...           ...             ...                 ...   \n",
       "17875                t             t       Full-time    Mid-Senior level   \n",
       "17876                t             t       Full-time    Mid-Senior level   \n",
       "17877                f             f       Full-time                 NaN   \n",
       "17878                f             t        Contract      Not Applicable   \n",
       "17879                t             t       Full-time    Mid-Senior level   \n",
       "\n",
       "      required_education                   industry              function  \\\n",
       "0                    NaN                        NaN             Marketing   \n",
       "1                    NaN  Marketing and Advertising      Customer Service   \n",
       "2                    NaN                        NaN                   NaN   \n",
       "3      Bachelor's Degree          Computer Software                 Sales   \n",
       "4      Bachelor's Degree     Hospital & Health Care  Health Care Provider   \n",
       "...                  ...                        ...                   ...   \n",
       "17875                NaN          Computer Software                 Sales   \n",
       "17876  Bachelor's Degree                   Internet   Accounting/Auditing   \n",
       "17877                NaN                        NaN                   NaN   \n",
       "17878       Professional             Graphic Design                Design   \n",
       "17879                NaN          Computer Software           Engineering   \n",
       "\n",
       "      fraudulent in_balanced_dataset  \\\n",
       "0              f                   f   \n",
       "1              f                   f   \n",
       "2              f                   f   \n",
       "3              f                   f   \n",
       "4              f                   f   \n",
       "...          ...                 ...   \n",
       "17875          f                   f   \n",
       "17876          f                   f   \n",
       "17877          f                   f   \n",
       "17878          f                   f   \n",
       "17879          f                   f   \n",
       "\n",
       "                                      combined_text_data country  \\\n",
       "0      marketing intern food52 fastgrowing james bear...      US   \n",
       "1      customer service cloud video production organi...      NZ   \n",
       "2      commissioning machinery assistant cma client l...      US   \n",
       "3      account executive washington dc company esri e...      US   \n",
       "4      bill review manager job title itemization revi...      US   \n",
       "...                                                  ...     ...   \n",
       "17875  account director distribution case first time ...      CA   \n",
       "17876  payroll accountant payroll accountant focus pr...      US   \n",
       "17877  project cost control staff engineer cost contr...      US   \n",
       "17878  graphic designer nemsia studios looking experi...      NG   \n",
       "17879  web application developers vend award winning ...      NZ   \n",
       "\n",
       "       salary_lower  salary_upper  salary_average  salary_range_diff  \n",
       "0               NaN           NaN             NaN                NaN  \n",
       "1               NaN           NaN             NaN                NaN  \n",
       "2               NaN           NaN             NaN                NaN  \n",
       "3               NaN           NaN             NaN                NaN  \n",
       "4               NaN           NaN             NaN                NaN  \n",
       "...             ...           ...             ...                ...  \n",
       "17875           NaN           NaN             NaN                NaN  \n",
       "17876           NaN           NaN             NaN                NaN  \n",
       "17877           NaN           NaN             NaN                NaN  \n",
       "17878           NaN           NaN             NaN                NaN  \n",
       "17879           NaN           NaN             NaN                NaN  \n",
       "\n",
       "[17632 rows x 24 columns]"
      ]
     },
     "metadata": {},
     "output_type": "display_data"
    }
   ],
   "source": [
    "display(df)"
   ]
  },
  {
   "cell_type": "code",
   "execution_count": null,
   "metadata": {
    "id": "vTu1EiobwIsr"
   },
   "outputs": [],
   "source": [
    "## encoding binary columns\n",
    "\n",
    "binary_columns = ['telecommuting', 'has_company_logo', 'has_questions', 'fraudulent']\n",
    "\n",
    "for column in binary_columns:\n",
    "    if column in df.columns:\n",
    "        df[column] = df[column].apply(lambda x: 1 if x == 't' else (0 if x == 'f' else None))"
   ]
  },
  {
   "cell_type": "code",
   "execution_count": null,
   "metadata": {
    "colab": {
     "base_uri": "https://localhost:8080/"
    },
    "id": "Y3q8qIl7wIsr",
    "outputId": "56570214-c798-414a-817d-aaec1b8551d6"
   },
   "outputs": [
    {
     "data": {
      "text/plain": [
       "(17632, 24)"
      ]
     },
     "metadata": {},
     "output_type": "display_data"
    }
   ],
   "source": [
    "display(df.shape)\n"
   ]
  },
  {
   "cell_type": "code",
   "execution_count": null,
   "metadata": {
    "id": "dDT9UspWwIsr"
   },
   "outputs": [],
   "source": [
    "#One hot encoding for categorical columns\n",
    "\n",
    "categorical_columns = ['country', 'department', 'employment_type', 'required_experience',\n",
    "                       'required_education', 'industry', 'function']\n",
    "\n",
    "df[categorical_columns] = df[categorical_columns].fillna('Unknown')\n",
    "# Perform one-hot encoding on the specified columns\n",
    "df = pd.get_dummies(df, columns=categorical_columns, prefix=categorical_columns, drop_first=False)\n",
    "\n",
    "# Convert all resulting one-hot encoded columns to integers\n",
    "for col in df.columns:\n",
    "    if df[col].dtype == 'bool':\n",
    "        df[col] = df[col].astype(int)"
   ]
  },
  {
   "cell_type": "code",
   "execution_count": null,
   "metadata": {
    "colab": {
     "base_uri": "https://localhost:8080/"
    },
    "id": "R-9_WiyrwIsr",
    "outputId": "023dae3c-4284-4abb-c66f-6bd48b1ddf28"
   },
   "outputs": [
    {
     "data": {
      "text/plain": [
       "(17632, 1643)"
      ]
     },
     "metadata": {},
     "output_type": "display_data"
    }
   ],
   "source": [
    "display(df.shape)"
   ]
  },
  {
   "cell_type": "code",
   "execution_count": null,
   "metadata": {
    "id": "w_FGIPIGwIsr"
   },
   "outputs": [],
   "source": [
    "# DROPPING RAW TEXTUAL COLUMNS THAT ARE UNUSED\n",
    "\n",
    "columns_to_drop = ['title',\n",
    "                    'description',\n",
    "                    'requirements',\n",
    "                    'company_profile',\n",
    "                    'benefits',\n",
    "                    'salary_range',\n",
    "                    'location',\n",
    "                    'in_balanced_dataset']\n",
    "\n",
    "df.drop(columns_to_drop, axis = 1, inplace = True)\n",
    "\n"
   ]
  },
  {
   "cell_type": "code",
   "execution_count": null,
   "metadata": {
    "colab": {
     "base_uri": "https://localhost:8080/"
    },
    "id": "tlJd8sE8wIsr",
    "outputId": "dfa7ca51-d801-4c11-9a30-0bd79f13bac3"
   },
   "outputs": [
    {
     "data": {
      "text/plain": [
       "(17632, 1635)"
      ]
     },
     "metadata": {},
     "output_type": "display_data"
    }
   ],
   "source": [
    "display(df.shape)"
   ]
  },
  {
   "cell_type": "code",
   "execution_count": null,
   "metadata": {
    "id": "CjpVRExJwIsr"
   },
   "outputs": [],
   "source": []
  },
  {
   "cell_type": "markdown",
   "metadata": {
    "id": "uEDv4ZeHwIsr"
   },
   "source": [
    "## Train Validation Test Split (Text, Categorical and Numerical columns)\n",
    "Train-Test-Validation: 70-15-15\n",
    "\n",
    "Standard scaling for numerical columns"
   ]
  },
  {
   "cell_type": "code",
   "execution_count": null,
   "metadata": {
    "id": "HBPxxmc8wIsr"
   },
   "outputs": [],
   "source": [
    "from sklearn.preprocessing import StandardScaler"
   ]
  },
  {
   "cell_type": "code",
   "execution_count": null,
   "metadata": {
    "colab": {
     "base_uri": "https://localhost:8080/"
    },
    "id": "c9sozVEIwIsr",
    "outputId": "ecac6f69-7716-4ba8-d8e8-f21d3e7cd02a"
   },
   "outputs": [
    {
     "data": {
      "text/plain": [
       "(12342, 1634)"
      ]
     },
     "metadata": {},
     "output_type": "display_data"
    },
    {
     "data": {
      "text/plain": [
       "(2645, 1634)"
      ]
     },
     "metadata": {},
     "output_type": "display_data"
    },
    {
     "data": {
      "text/plain": [
       "(2645, 1634)"
      ]
     },
     "metadata": {},
     "output_type": "display_data"
    }
   ],
   "source": [
    "X = df.drop('fraudulent', axis=1, inplace=False)\n",
    "y = df['fraudulent']  # Target variable to predict\n",
    "\n",
    "## splitting into training (70%) and remaining (30%)\n",
    "X_train, X_rem, y_train, y_rem = train_test_split(X, y, test_size = 0.3, random_state=42)\n",
    "\n",
    "## splitting remaining into test (15%) and validation (15%)\n",
    "X_test, X_val, y_test, y_val = train_test_split(X_rem, y_rem, test_size = 0.5, random_state=42)\n",
    "\n",
    "# Scaling numerical columnsx\n",
    "\n",
    "columns_to_normalize = ['salary_lower', 'salary_upper', 'salary_average', 'salary_range_diff']\n",
    "scaler = StandardScaler()\n",
    "X_train[columns_to_normalize] = scaler.fit_transform(X_train[columns_to_normalize])\n",
    "X_test[columns_to_normalize] = scaler.transform(X_test[columns_to_normalize])\n",
    "X_val[columns_to_normalize] = scaler.transform(X_val[columns_to_normalize])\n",
    "\n",
    "for dataset in [X_train, X_val, X_test]:\n",
    "    display(dataset.shape)"
   ]
  },
  {
   "cell_type": "markdown",
   "metadata": {
    "id": "Bqtvse_xwIsr"
   },
   "source": [
    "## Train Validation Test Split (Only categorical columns) (No Combined Cleaned Text + No numerical columns)\n"
   ]
  },
  {
   "cell_type": "code",
   "execution_count": null,
   "metadata": {
    "colab": {
     "base_uri": "https://localhost:8080/",
     "height": 69
    },
    "id": "AZLb-vpjwIsr",
    "outputId": "81381cd3-ed47-47b7-b733-e43a19961816"
   },
   "outputs": [
    {
     "data": {
      "text/plain": [
       "(12342, 1629)"
      ]
     },
     "metadata": {},
     "output_type": "display_data"
    },
    {
     "data": {
      "text/plain": [
       "(2645, 1629)"
      ]
     },
     "metadata": {},
     "output_type": "display_data"
    },
    {
     "data": {
      "text/plain": [
       "(2645, 1629)"
      ]
     },
     "metadata": {},
     "output_type": "display_data"
    }
   ],
   "source": [
    "X = df.drop('fraudulent', axis=1, inplace=False)\n",
    "y = df['fraudulent']\n",
    "\n",
    "columns_to_drop2 = ['combined_text_data', 'salary_lower', 'salary_upper', 'salary_average', 'salary_range_diff']\n",
    "X_cat = X.drop(columns_to_drop2, axis = 1)\n",
    "\n",
    "## splitting into training (70%) and remaining (30%)\n",
    "X_train_cat, X_rem_cat, y_train_cat, y_rem_cat = train_test_split(X_cat, y, test_size = 0.3, random_state=42)\n",
    "\n",
    "## splitting remaining into test (15%) and validation (15%)\n",
    "X_test_cat, X_val_cat, y_test_cat, y_val_cat = train_test_split(X_rem_cat, y_rem_cat, test_size = 0.5, random_state=42)\n",
    "\n",
    "\n",
    "for dataset in [X_train_cat, X_val_cat, X_test_cat]:\n",
    "    display(dataset.shape)"
   ]
  },
  {
   "cell_type": "markdown",
   "metadata": {
    "id": "KWefvOmVwIsr"
   },
   "source": [
    "# Embeddings for textual data"
   ]
  },
  {
   "cell_type": "code",
   "execution_count": null,
   "metadata": {
    "id": "fgjyWMG8wIsr"
   },
   "outputs": [],
   "source": [
    "#Count Vectorizer Embedding\n",
    "count_vect = CountVectorizer(analyzer='word', token_pattern=r'\\w{1,}')\n",
    "count_vect.fit(X_train['combined_text_data'])\n",
    "X_train_count =  count_vect.transform(X_train['combined_text_data'])\n",
    "X_val_count = count_vect.transform(X_val['combined_text_data'])\n",
    "X_test_count = count_vect.transform(X_test['combined_text_data'])\n",
    "\n",
    "#TFIDF Embedding\n",
    "tfidf_vect = TfidfVectorizer()\n",
    "tfidf_vect.fit(X_train['combined_text_data'])\n",
    "X_train_tfidf = tfidf_vect.transform(X_train['combined_text_data'])\n",
    "X_val_tfidf = tfidf_vect.transform(X_val['combined_text_data'])\n",
    "X_test_tfidf = tfidf_vect.transform(X_test['combined_text_data'])"
   ]
  },
  {
   "cell_type": "code",
   "execution_count": null,
   "metadata": {
    "colab": {
     "base_uri": "https://localhost:8080/"
    },
    "id": "iem8QczEwIsr",
    "outputId": "d9d9570f-43f9-4c00-f361-878a57729fd9"
   },
   "outputs": [
    {
     "data": {
      "text/plain": [
       "(12342, 60186)"
      ]
     },
     "metadata": {},
     "output_type": "display_data"
    },
    {
     "data": {
      "text/plain": [
       "(2645, 60186)"
      ]
     },
     "metadata": {},
     "output_type": "display_data"
    },
    {
     "data": {
      "text/plain": [
       "(2645, 60186)"
      ]
     },
     "metadata": {},
     "output_type": "display_data"
    }
   ],
   "source": [
    "display(X_train_count.shape)\n",
    "display(X_val_count.shape)\n",
    "display(X_test_count.shape)"
   ]
  },
  {
   "cell_type": "code",
   "execution_count": null,
   "metadata": {
    "colab": {
     "base_uri": "https://localhost:8080/"
    },
    "id": "7VSwI-bNwIsr",
    "outputId": "faf0466c-96b4-4ebc-8485-73bbc021c88c"
   },
   "outputs": [
    {
     "data": {
      "text/plain": [
       "(12342, 60126)"
      ]
     },
     "metadata": {},
     "output_type": "display_data"
    },
    {
     "data": {
      "text/plain": [
       "(2645, 60126)"
      ]
     },
     "metadata": {},
     "output_type": "display_data"
    },
    {
     "data": {
      "text/plain": [
       "(2645, 60126)"
      ]
     },
     "metadata": {},
     "output_type": "display_data"
    }
   ],
   "source": [
    "display(X_train_tfidf.shape)\n",
    "display(X_val_tfidf.shape)\n",
    "display(X_test_tfidf.shape)"
   ]
  },
  {
   "cell_type": "code",
   "execution_count": null,
   "metadata": {
    "id": "6MDFpGHCwIss"
   },
   "outputs": [],
   "source": [
    "\n",
    "import matplotlib.pyplot as plt\n",
    "from sklearn.metrics import accuracy_score, precision_score, recall_score, f1_score, roc_auc_score, roc_curve, auc\n",
    "from sklearn.metrics import confusion_matrix, ConfusionMatrixDisplay\n",
    "from sklearn.model_selection import cross_val_score\n",
    "from sklearn.linear_model import LogisticRegression\n"
   ]
  },
  {
   "cell_type": "markdown",
   "metadata": {
    "id": "gLYvjq4NwIss"
   },
   "source": [
    "## Machine Learning Models\n"
   ]
  },
  {
   "cell_type": "markdown",
   "metadata": {
    "id": "WtKmgPF4wIst"
   },
   "source": [
    "# Evaluation of different models"
   ]
  },
  {
   "cell_type": "code",
   "execution_count": null,
   "metadata": {
    "id": "DouLNBBlwIst"
   },
   "outputs": [],
   "source": [
    "from sklearn.metrics import roc_auc_score, accuracy_score, precision_score, recall_score, f1_score, roc_curve, auc\n",
    "from sklearn.model_selection import cross_val_score\n",
    "import matplotlib.pyplot as plt\n",
    "\n",
    "def evaluate_model(model, X_train, y_train, X_val, y_val, X_test, y_test, scoring='roc_auc'):\n",
    "    \"\"\"\n",
    "    Function to train, cross-validate, and evaluate a model.\n",
    "\n",
    "    Parameters:\n",
    "        model: The machine learning model (e.g., LogisticRegression, RandomForestClassifier).\n",
    "        X_train: Features for training.\n",
    "        y_train: Labels for training.\n",
    "        X_val: Features for validation.\n",
    "        y_val: Labels for validation.\n",
    "        X_test: Features for testing.\n",
    "        y_test: Labels for testing.\n",
    "        scoring: Metric for cross-validation (default is 'roc_auc').\n",
    "    \"\"\"\n",
    "    # Fit the model to the training data\n",
    "    model.fit(X_train, y_train)\n",
    "\n",
    "    # Cross-validation on training set\n",
    "    cv_scores = cross_val_score(model, X_train, y_train, cv=5, scoring=scoring)\n",
    "    print(f\"Cross-Validation {scoring.upper()} Scores: {cv_scores}\")\n",
    "    print(f\"Cross-Validation Mean {scoring.upper()}: {cv_scores.mean():.4f}\")\n",
    "\n",
    "    # Evaluate on validation set\n",
    "    val_pred_proba = model.predict_proba(X_val)[:, 1]\n",
    "    val_auc = roc_auc_score(y_val, val_pred_proba)\n",
    "    print(f\"Validation AUC-ROC: {val_auc:.4f}\")\n",
    "\n",
    "    # Final evaluation on test set\n",
    "    test_pred = model.predict(X_test)\n",
    "    test_pred_proba = model.predict_proba(X_test)[:, 1]\n",
    "\n",
    "    # Calculate confusion matrix\n",
    "    conf_matrix = confusion_matrix(y_test, test_pred)\n",
    "    # Extract individual elements\n",
    "    TN, FP, FN, TP = conf_matrix.ravel()\n",
    "    # Print the confusion matrix as a formatted table\n",
    "    print(\"\\nConfusion Matrix Table:\")\n",
    "    print(f\"{'':<20} {'Predicted Negative':<20} {'Predicted Positive':<20}\")\n",
    "    print(f\"{'Actual Negative':<20} {TN:<20} {FP:<20}\")\n",
    "    print(f\"{'Actual Positive':<20} {FN:<20} {TP:<20}\")\n",
    "    print(\"\")\n",
    "\n",
    "    accuracy = accuracy_score(y_test, test_pred)\n",
    "    precision = precision_score(y_test, test_pred)\n",
    "    recall = recall_score(y_test, test_pred)\n",
    "    f1 = f1_score(y_test, test_pred)\n",
    "    auc_score = roc_auc_score(y_test, test_pred_proba)\n",
    "\n",
    "    print(f\"Test Accuracy: {accuracy:.4f}\")\n",
    "    print(f\"Test Precision: {precision:.4f}\")\n",
    "    print(f\"Test Recall: {recall:.4f}\")\n",
    "    print(f\"Test F1 Score: {f1:.4f}\")\n",
    "    print(f\"Test AUC-ROC: {auc_score:.4f}\")\n",
    "\n",
    "    # Calculate and plot the ROC curve\n",
    "    fpr, tpr, thresholds = roc_curve(y_test, test_pred_proba)\n",
    "    roc_auc = auc(fpr, tpr)\n",
    "\n",
    "    plt.figure(figsize=(8, 6))\n",
    "    plt.plot(fpr, tpr, color='blue', lw=2, label=f'ROC Curve (AUC = {roc_auc:.4f})')\n",
    "    plt.plot([0, 1], [0, 1], color='gray', linestyle='--', lw=2, label='Random Guess')\n",
    "    plt.xlim([0.0, 1.0])\n",
    "    plt.ylim([0.0, 1.05])\n",
    "    plt.xlabel('False Positive Rate (FPR)', fontsize=12)\n",
    "    plt.ylabel('True Positive Rate (TPR)', fontsize=12)\n",
    "    plt.title('Receiver Operating Characteristic (ROC) Curve', fontsize=14)\n",
    "    plt.legend(loc='lower right', fontsize=10)\n",
    "    plt.grid(alpha=0.3)\n",
    "    plt.show()\n"
   ]
  },
  {
   "cell_type": "code",
   "execution_count": null,
   "metadata": {
    "id": "kyTppeMr-7MR"
   },
   "outputs": [],
   "source": [
    "def evaluate_keras_nn_model(model, X_train, y_train, X_val, y_val, X_test, y_test, epochs=20, batch_size=32):\n",
    "    \"\"\"\n",
    "    Function to train, cross-validate, and evaluate a Keras model.\n",
    "\n",
    "    Parameters:\n",
    "        model: The Keras model.\n",
    "        X_train: Features for training.\n",
    "        y_train: Labels for training.\n",
    "        X_val: Features for validation.\n",
    "        y_val: Labels for validation.\n",
    "        X_test: Features for testing.\n",
    "        y_test: Labels for testing.\n",
    "        epochs: Number of training epochs.\n",
    "        batch_size: Batch size for training.\n",
    "    \"\"\"\n",
    "    # Train the model\n",
    "    model.fit(X_train, y_train, validation_data=(X_val, y_val), epochs=epochs, batch_size=batch_size, verbose=1)\n",
    "\n",
    "    # Evaluate on validation set\n",
    "    val_pred_proba = model.predict(X_val).flatten()  # Keras `predict` for probabilities\n",
    "    val_auc = roc_auc_score(y_val, val_pred_proba)\n",
    "    print(f\"Validation AUC-ROC: {val_auc:.4f}\")\n",
    "\n",
    "    # Final evaluation on test set\n",
    "    test_pred_proba = model.predict(X_test).flatten()  # Probabilities\n",
    "    test_pred = (test_pred_proba > 0.5).astype(int)  # Binary predictions\n",
    "\n",
    "    # Metrics\n",
    "    accuracy = accuracy_score(y_test, test_pred)\n",
    "    precision = precision_score(y_test, test_pred)\n",
    "    recall = recall_score(y_test, test_pred)\n",
    "    f1 = f1_score(y_test, test_pred)\n",
    "    auc_score = roc_auc_score(y_test, test_pred_proba)\n",
    "\n",
    "    print(f\"Test Accuracy: {accuracy:.4f}\")\n",
    "    print(f\"Test Precision: {precision:.4f}\")\n",
    "    print(f\"Test Recall: {recall:.4f}\")\n",
    "    print(f\"Test F1 Score: {f1:.4f}\")\n",
    "    print(f\"Test AUC-ROC: {auc_score:.4f}\")\n",
    "\n",
    "    # Plot ROC curve\n",
    "    fpr, tpr, thresholds = roc_curve(y_test, test_pred_proba)\n",
    "    roc_auc = auc(fpr, tpr)\n",
    "\n",
    "    plt.figure(figsize=(8, 6))\n",
    "    plt.plot(fpr, tpr, color='blue', lw=2, label=f'ROC Curve (AUC = {roc_auc:.4f})')\n",
    "    plt.plot([0, 1], [0, 1], color='gray', linestyle='--', lw=2, label='Random Guess')\n",
    "    plt.xlim([0.0, 1.0])\n",
    "    plt.ylim([0.0, 1.05])\n",
    "    plt.xlabel('False Positive Rate (FPR)', fontsize=12)\n",
    "    plt.ylabel('True Positive Rate (TPR)', fontsize=12)\n",
    "    plt.title('Receiver Operating Characteristic (ROC) Curve', fontsize=14)\n",
    "    plt.legend(loc='lower right', fontsize=10)\n",
    "    plt.grid(alpha=0.3)\n",
    "    plt.show()"
   ]
  },
  {
   "cell_type": "markdown",
   "metadata": {
    "id": "uwZChEzawIst"
   },
   "source": [
    "# Logistic Regression"
   ]
  },
  {
   "cell_type": "code",
   "execution_count": null,
   "metadata": {
    "id": "LmfYN9fKwIst"
   },
   "outputs": [],
   "source": [
    "from sklearn.linear_model import LogisticRegression\n",
    "LogRmodel = LogisticRegression(max_iter= 3000)"
   ]
  },
  {
   "cell_type": "markdown",
   "metadata": {
    "id": "1X5Z6e6qwIst"
   },
   "source": [
    "#### Categorical variables only"
   ]
  },
  {
   "cell_type": "code",
   "execution_count": null,
   "metadata": {
    "id": "dKGWUodlwIst",
    "outputId": "1791dce4-77a3-4f38-99e8-f8bc5a15de7a"
   },
   "outputs": [
    {
     "name": "stdout",
     "output_type": "stream",
     "text": [
      "Cross-Validation ROC_AUC Scores: [0.92833719 0.93427491 0.92957668 0.94685932 0.90303866]\n",
      "Cross-Validation Mean ROC_AUC: 0.9284\n",
      "Validation AUC-ROC: 0.9054\n",
      "\n",
      "Confusion Matrix Table:\n",
      "                     Predicted Negative   Predicted Positive  \n",
      "Actual Negative      2515                 9                   \n",
      "Actual Positive      82                   39                  \n",
      "\n",
      "Test Accuracy: 0.9656\n",
      "Test Precision: 0.8125\n",
      "Test Recall: 0.3223\n",
      "Test F1 Score: 0.4615\n",
      "Test AUC-ROC: 0.9237\n"
     ]
    },
    {
     "data": {
      "image/png": "[encoded data removed]",
      "text/plain": [
       "<Figure size 800x600 with 1 Axes>"
      ]
     },
     "metadata": {},
     "output_type": "display_data"
    }
   ],
   "source": [
    "evaluate_model(LogRmodel, X_train_cat, y_train_cat, X_val_cat, y_val_cat, X_test_cat, y_test_cat, scoring='roc_auc')"
   ]
  },
  {
   "cell_type": "markdown",
   "metadata": {
    "id": "Rydt0FH1wIst"
   },
   "source": [
    "#### Count Vect"
   ]
  },
  {
   "cell_type": "code",
   "execution_count": null,
   "metadata": {
    "id": "WcxH6PwfwIst",
    "outputId": "e77bacb8-11a1-46f0-8930-5b054fb99e95"
   },
   "outputs": [
    {
     "name": "stdout",
     "output_type": "stream",
     "text": [
      "Cross-Validation ROC_AUC Scores: [0.98092787 0.97603948 0.97438263 0.97924615 0.9861676 ]\n",
      "Cross-Validation Mean ROC_AUC: 0.9794\n",
      "Validation AUC-ROC: 0.9592\n",
      "\n",
      "Confusion Matrix Table:\n",
      "                     Predicted Negative   Predicted Positive  \n",
      "Actual Negative      2515                 9                   \n",
      "Actual Positive      31                   90                  \n",
      "\n",
      "Test Accuracy: 0.9849\n",
      "Test Precision: 0.9091\n",
      "Test Recall: 0.7438\n",
      "Test F1 Score: 0.8182\n",
      "Test AUC-ROC: 0.9685\n"
     ]
    },
    {
     "data": {
      "image/png": "[encoded data removed]",
      "text/plain": [
       "<Figure size 800x600 with 1 Axes>"
      ]
     },
     "metadata": {},
     "output_type": "display_data"
    }
   ],
   "source": [
    "evaluate_model(LogRmodel, X_train_count, y_train, X_val_count, y_val, X_test_count, y_test, scoring='roc_auc')"
   ]
  },
  {
   "cell_type": "markdown",
   "metadata": {
    "id": "Cz1AYam1wIst"
   },
   "source": [
    "#### TF-IDF"
   ]
  },
  {
   "cell_type": "code",
   "execution_count": null,
   "metadata": {
    "id": "FhaspZLswIst",
    "outputId": "dcfa3b24-d54c-4a9a-992e-750f3cff49c1"
   },
   "outputs": [
    {
     "name": "stdout",
     "output_type": "stream",
     "text": [
      "Cross-Validation ROC_AUC Scores: [0.96960892 0.97374878 0.97504298 0.98235923 0.9847281 ]\n",
      "Cross-Validation Mean ROC_AUC: 0.9771\n",
      "Validation AUC-ROC: 0.9508\n",
      "\n",
      "Confusion Matrix Table:\n",
      "                     Predicted Negative   Predicted Positive  \n",
      "Actual Negative      2523                 1                   \n",
      "Actual Positive      70                   51                  \n",
      "\n",
      "Test Accuracy: 0.9732\n",
      "Test Precision: 0.9808\n",
      "Test Recall: 0.4215\n",
      "Test F1 Score: 0.5896\n",
      "Test AUC-ROC: 0.9743\n"
     ]
    },
    {
     "data": {
      "image/png": "[encoded data removed]",
      "text/plain": [
       "<Figure size 800x600 with 1 Axes>"
      ]
     },
     "metadata": {},
     "output_type": "display_data"
    }
   ],
   "source": [
    "evaluate_model(LogRmodel, X_train_tfidf, y_train, X_val_tfidf, y_val, X_test_tfidf, y_test, scoring='roc_auc')"
   ]
  },
  {
   "cell_type": "markdown",
   "metadata": {
    "id": "y1BLf7rVwIst"
   },
   "source": [
    "# Random Forest"
   ]
  },
  {
   "cell_type": "code",
   "execution_count": null,
   "metadata": {
    "id": "L0CdVpohwIst"
   },
   "outputs": [],
   "source": [
    "from sklearn.ensemble import RandomForestClassifier\n",
    "RFmodel = RandomForestClassifier(n_estimators=100, random_state=42)"
   ]
  },
  {
   "cell_type": "markdown",
   "metadata": {
    "id": "idmbN-IqwIsu"
   },
   "source": [
    "#### Categorical variables only"
   ]
  },
  {
   "cell_type": "code",
   "execution_count": null,
   "metadata": {
    "id": "iTTviJ4XwIsu",
    "outputId": "2278bf70-28f6-48d6-bb7e-b0353b44ef53"
   },
   "outputs": [
    {
     "name": "stdout",
     "output_type": "stream",
     "text": [
      "Cross-Validation ROC_AUC Scores: [0.94527719 0.93898107 0.96806738 0.96743148 0.94311559]\n",
      "Cross-Validation Mean ROC_AUC: 0.9526\n",
      "Validation AUC-ROC: 0.9539\n",
      "\n",
      "Confusion Matrix Table:\n",
      "                     Predicted Negative   Predicted Positive  \n",
      "Actual Negative      2522                 2                   \n",
      "Actual Positive      54                   67                  \n",
      "\n",
      "Test Accuracy: 0.9788\n",
      "Test Precision: 0.9710\n",
      "Test Recall: 0.5537\n",
      "Test F1 Score: 0.7053\n",
      "Test AUC-ROC: 0.9569\n"
     ]
    },
    {
     "data": {
      "image/png": "[encoded data removed]",
      "text/plain": [
       "<Figure size 800x600 with 1 Axes>"
      ]
     },
     "metadata": {},
     "output_type": "display_data"
    }
   ],
   "source": [
    "evaluate_model(RFmodel, X_train_cat, y_train_cat, X_val_cat, y_val_cat, X_test_cat, y_test_cat, scoring='roc_auc')"
   ]
  },
  {
   "cell_type": "markdown",
   "metadata": {
    "id": "iz7pR9pQwIsu"
   },
   "source": [
    "#### Count Vect"
   ]
  },
  {
   "cell_type": "code",
   "execution_count": null,
   "metadata": {
    "id": "PtDjD3zfwIsu"
   },
   "outputs": [],
   "source": [
    "evaluate_model(RFmodel, X_train_count, y_train, X_val_count, y_val, X_test_count, y_test, scoring='roc_auc')"
   ]
  },
  {
   "cell_type": "markdown",
   "metadata": {
    "id": "E59w2MxQwIsu"
   },
   "source": [
    "#### TF-IDF"
   ]
  },
  {
   "cell_type": "code",
   "execution_count": null,
   "metadata": {
    "id": "lEPQlHE1wIsu"
   },
   "outputs": [],
   "source": [
    "evaluate_model(RFmodel, X_train_tfidf, y_train, X_val_tfidf, y_val, X_test_tfidf, y_test, scoring='roc_auc')"
   ]
  },
  {
   "cell_type": "markdown",
   "metadata": {
    "id": "WEKBWksywIsu"
   },
   "source": [
    "# Decision Tree Classfier"
   ]
  },
  {
   "cell_type": "code",
   "execution_count": null,
   "metadata": {
    "id": "Zh4sDbvbwIsu"
   },
   "outputs": [],
   "source": [
    "from sklearn.tree import DecisionTreeClassifier\n",
    "DTmodel = DecisionTreeClassifier(\n",
    "    max_depth=5,              # Limit the depth of the tree to prevent overfitting\n",
    "    min_samples_split=10,     # Minimum samples required to split an internal node\n",
    "    min_samples_leaf=5,       # Minimum samples required to be a leaf node\n",
    "    random_state=42           # Ensure reproducibility\n",
    ")\n"
   ]
  },
  {
   "cell_type": "markdown",
   "metadata": {
    "id": "o4Vkw_8hwIsu"
   },
   "source": [
    "#### Categorical variables only"
   ]
  },
  {
   "cell_type": "code",
   "execution_count": null,
   "metadata": {
    "id": "MSAcb-J7wIsu"
   },
   "outputs": [],
   "source": [
    "evaluate_model(DTmodel, X_train_cat, y_train_cat, X_val_cat, y_val_cat, X_test_cat, y_test_cat, scoring='roc_auc')"
   ]
  },
  {
   "cell_type": "markdown",
   "metadata": {
    "id": "7jrcukTUwIsu"
   },
   "source": [
    "#### Count Vect"
   ]
  },
  {
   "cell_type": "code",
   "execution_count": null,
   "metadata": {
    "id": "s0G6vjlwwIsu"
   },
   "outputs": [],
   "source": [
    "evaluate_model(DTmodel, X_train_count, y_train, X_val_count, y_val, X_test_count, y_test, scoring='roc_auc')"
   ]
  },
  {
   "cell_type": "markdown",
   "metadata": {
    "id": "AoM-CvmKwIsu"
   },
   "source": [
    "#### TF-IDF"
   ]
  },
  {
   "cell_type": "code",
   "execution_count": null,
   "metadata": {
    "id": "nAqyDAWGwIsu"
   },
   "outputs": [],
   "source": [
    "evaluate_model(DTmodel, X_train_tfidf, y_train, X_val_tfidf, y_val, X_test_tfidf, y_test, scoring='roc_auc')"
   ]
  },
  {
   "cell_type": "markdown",
   "metadata": {
    "id": "P96RZlIdwIsu"
   },
   "source": [
    "# Support Vector Machine (SVM)"
   ]
  },
  {
   "cell_type": "code",
   "execution_count": null,
   "metadata": {
    "id": "-Ta5_cNrwIsu"
   },
   "outputs": [],
   "source": [
    "from sklearn.svm import SVC\n",
    "SVMmodel = SVC(kernel='rbf', probability=True, random_state=42)"
   ]
  },
  {
   "cell_type": "markdown",
   "metadata": {
    "id": "FFOsGFlfwIsu"
   },
   "source": [
    "#### Categorical variables only"
   ]
  },
  {
   "cell_type": "code",
   "execution_count": null,
   "metadata": {
    "id": "pwzT-ETDwIsu"
   },
   "outputs": [],
   "source": [
    "evaluate_model(SVMmodel, X_train_cat, y_train_cat, X_val_cat, y_val_cat, X_test_cat, y_test_cat, scoring='roc_auc')"
   ]
  },
  {
   "cell_type": "markdown",
   "metadata": {
    "id": "E0_3YsTfwIsu"
   },
   "source": [
    "#### Count Vect"
   ]
  },
  {
   "cell_type": "code",
   "execution_count": null,
   "metadata": {
    "id": "iHrjm8d_wIsu"
   },
   "outputs": [],
   "source": [
    "evaluate_model(SVMmodel, X_train_count, y_train, X_val_count, y_val, X_test_count, y_test, scoring='roc_auc')"
   ]
  },
  {
   "cell_type": "markdown",
   "metadata": {
    "id": "lwhvgJ8LwIsu"
   },
   "source": [
    "#### TF-IDF"
   ]
  },
  {
   "cell_type": "code",
   "execution_count": null,
   "metadata": {
    "id": "2SpJCfruwIsu"
   },
   "outputs": [],
   "source": [
    "evaluate_model(SVMmodel, X_train_tfidf, y_train, X_val_tfidf, y_val, X_test_tfidf, y_test, scoring='roc_auc')"
   ]
  },
  {
   "cell_type": "markdown",
   "metadata": {
    "id": "_6GrMosC7DAm"
   },
   "source": [
    "# Neural Network"
   ]
  },
  {
   "cell_type": "code",
   "execution_count": null,
   "metadata": {
    "id": "MdnIOPQQ7F52"
   },
   "outputs": [],
   "source": [
    "import tensorflow as tf\n",
    "from tensorflow.keras.models import Sequential\n",
    "from tensorflow.keras.layers import Dense, Input\n",
    "\n",
    "nn_model_cat = Sequential([\n",
    "    Input(shape=(X_train_cat.shape[1],)),\n",
    "    Dense(16, activation='relu'),\n",
    "    Dense(8, activation='relu'),\n",
    "    Dense(1, activation='sigmoid')\n",
    "])\n",
    "\n",
    "nn_model_cat.compile(optimizer='adam', loss='binary_crossentropy', metrics=['accuracy'])\n",
    "\n",
    "nn_model_count = Sequential([\n",
    "    Input(shape=(X_train_count.shape[1],)),\n",
    "    Dense(16, activation='relu'),\n",
    "    Dense(8, activation='relu'),\n",
    "    Dense(1, activation='sigmoid')\n",
    "])\n",
    "\n",
    "nn_model_count.compile(optimizer='adam', loss='binary_crossentropy', metrics=['accuracy'])\n",
    "\n",
    "nn_model_tfidf = Sequential([\n",
    "    Input(shape=(X_train_tfidf.shape[1],)),\n",
    "    Dense(16, activation='relu'),\n",
    "    Dense(8, activation='relu'),\n",
    "    Dense(1, activation='sigmoid')\n",
    "])\n",
    "\n",
    "nn_model_tfidf.compile(optimizer='adam', loss='binary_crossentropy', metrics=['accuracy'])"
   ]
  },
  {
   "cell_type": "markdown",
   "metadata": {
    "id": "8oPC9H-SAViX"
   },
   "source": [
    "For Neural Network we use a threshold probability of 0.5 to determine if prediction is fraud or not"
   ]
  },
  {
   "cell_type": "markdown",
   "metadata": {
    "id": "cwtsts1mAIJx"
   },
   "source": [
    "#### Categorical Variables Only"
   ]
  },
  {
   "cell_type": "code",
   "execution_count": null,
   "metadata": {
    "colab": {
     "base_uri": "https://localhost:8080/",
     "height": 1000
    },
    "id": "j1NE7LPT8A6f",
    "outputId": "2a1a3250-c16b-485c-acc3-869a33d28ce5"
   },
   "outputs": [
    {
     "name": "stdout",
     "output_type": "stream",
     "text": [
      "Epoch 1/20\n",
      "\u001b[1m386/386\u001b[0m \u001b[32m━━━━━━━━━━━━━━━━━━━━\u001b[0m\u001b[37m\u001b[0m \u001b[1m4s\u001b[0m 10ms/step - accuracy: 0.9860 - loss: 0.0393 - val_accuracy: 0.9716 - val_loss: 0.1217\n",
      "Epoch 2/20\n",
      "\u001b[1m386/386\u001b[0m \u001b[32m━━━━━━━━━━━━━━━━━━━━\u001b[0m\u001b[37m\u001b[0m \u001b[1m4s\u001b[0m 10ms/step - accuracy: 0.9885 - loss: 0.0347 - val_accuracy: 0.9735 - val_loss: 0.1199\n",
      "Epoch 3/20\n",
      "\u001b[1m386/386\u001b[0m \u001b[32m━━━━━━━━━━━━━━━━━━━━\u001b[0m\u001b[37m\u001b[0m \u001b[1m5s\u001b[0m 13ms/step - accuracy: 0.9881 - loss: 0.0341 - val_accuracy: 0.9735 - val_loss: 0.1236\n",
      "Epoch 4/20\n",
      "\u001b[1m386/386\u001b[0m \u001b[32m━━━━━━━━━━━━━━━━━━━━\u001b[0m\u001b[37m\u001b[0m \u001b[1m4s\u001b[0m 9ms/step - accuracy: 0.9883 - loss: 0.0350 - val_accuracy: 0.9747 - val_loss: 0.1201\n",
      "Epoch 5/20\n",
      "\u001b[1m386/386\u001b[0m \u001b[32m━━━━━━━━━━━━━━━━━━━━\u001b[0m\u001b[37m\u001b[0m \u001b[1m4s\u001b[0m 10ms/step - accuracy: 0.9883 - loss: 0.0342 - val_accuracy: 0.9705 - val_loss: 0.1276\n",
      "Epoch 6/20\n",
      "\u001b[1m386/386\u001b[0m \u001b[32m━━━━━━━━━━━━━━━━━━━━\u001b[0m\u001b[37m\u001b[0m \u001b[1m4s\u001b[0m 6ms/step - accuracy: 0.9863 - loss: 0.0376 - val_accuracy: 0.9599 - val_loss: 0.1343\n",
      "Epoch 7/20\n",
      "\u001b[1m386/386\u001b[0m \u001b[32m━━━━━━━━━━━━━━━━━━━━\u001b[0m\u001b[37m\u001b[0m \u001b[1m3s\u001b[0m 8ms/step - accuracy: 0.9885 - loss: 0.0334 - val_accuracy: 0.9720 - val_loss: 0.1279\n",
      "Epoch 8/20\n",
      "\u001b[1m386/386\u001b[0m \u001b[32m━━━━━━━━━━━━━━━━━━━━\u001b[0m\u001b[37m\u001b[0m \u001b[1m5s\u001b[0m 7ms/step - accuracy: 0.9874 - loss: 0.0376 - val_accuracy: 0.9743 - val_loss: 0.1259\n",
      "Epoch 9/20\n",
      "\u001b[1m386/386\u001b[0m \u001b[32m━━━━━━━━━━━━━━━━━━━━\u001b[0m\u001b[37m\u001b[0m \u001b[1m4s\u001b[0m 5ms/step - accuracy: 0.9855 - loss: 0.0384 - val_accuracy: 0.9735 - val_loss: 0.1258\n",
      "Epoch 10/20\n",
      "\u001b[1m386/386\u001b[0m \u001b[32m━━━━━━━━━━━━━━━━━━━━\u001b[0m\u001b[37m\u001b[0m \u001b[1m1s\u001b[0m 2ms/step - accuracy: 0.9889 - loss: 0.0336 - val_accuracy: 0.9705 - val_loss: 0.1329\n",
      "Epoch 11/20\n",
      "\u001b[1m386/386\u001b[0m \u001b[32m━━━━━━━━━━━━━━━━━━━━\u001b[0m\u001b[37m\u001b[0m \u001b[1m1s\u001b[0m 2ms/step - accuracy: 0.9878 - loss: 0.0361 - val_accuracy: 0.9724 - val_loss: 0.1300\n",
      "Epoch 12/20\n",
      "\u001b[1m386/386\u001b[0m \u001b[32m━━━━━━━━━━━━━━━━━━━━\u001b[0m\u001b[37m\u001b[0m \u001b[1m1s\u001b[0m 2ms/step - accuracy: 0.9892 - loss: 0.0339 - val_accuracy: 0.9637 - val_loss: 0.1337\n",
      "Epoch 13/20\n",
      "\u001b[1m386/386\u001b[0m \u001b[32m━━━━━━━━━━━━━━━━━━━━\u001b[0m\u001b[37m\u001b[0m \u001b[1m1s\u001b[0m 4ms/step - accuracy: 0.9883 - loss: 0.0345 - val_accuracy: 0.9720 - val_loss: 0.1315\n",
      "Epoch 14/20\n",
      "\u001b[1m386/386\u001b[0m \u001b[32m━━━━━━━━━━━━━━━━━━━━\u001b[0m\u001b[37m\u001b[0m \u001b[1m2s\u001b[0m 3ms/step - accuracy: 0.9872 - loss: 0.0361 - val_accuracy: 0.9724 - val_loss: 0.1307\n",
      "Epoch 15/20\n",
      "\u001b[1m386/386\u001b[0m \u001b[32m━━━━━━━━━━━━━━━━━━━━\u001b[0m\u001b[37m\u001b[0m \u001b[1m1s\u001b[0m 2ms/step - accuracy: 0.9871 - loss: 0.0373 - val_accuracy: 0.9739 - val_loss: 0.1321\n",
      "Epoch 16/20\n",
      "\u001b[1m386/386\u001b[0m \u001b[32m━━━━━━━━━━━━━━━━━━━━\u001b[0m\u001b[37m\u001b[0m \u001b[1m1s\u001b[0m 2ms/step - accuracy: 0.9879 - loss: 0.0364 - val_accuracy: 0.9739 - val_loss: 0.1345\n",
      "Epoch 17/20\n",
      "\u001b[1m386/386\u001b[0m \u001b[32m━━━━━━━━━━━━━━━━━━━━\u001b[0m\u001b[37m\u001b[0m \u001b[1m1s\u001b[0m 2ms/step - accuracy: 0.9880 - loss: 0.0342 - val_accuracy: 0.9739 - val_loss: 0.1329\n",
      "Epoch 18/20\n",
      "\u001b[1m386/386\u001b[0m \u001b[32m━━━━━━━━━━━━━━━━━━━━\u001b[0m\u001b[37m\u001b[0m \u001b[1m1s\u001b[0m 2ms/step - accuracy: 0.9873 - loss: 0.0342 - val_accuracy: 0.9618 - val_loss: 0.1416\n",
      "Epoch 19/20\n",
      "\u001b[1m386/386\u001b[0m \u001b[32m━━━━━━━━━━━━━━━━━━━━\u001b[0m\u001b[37m\u001b[0m \u001b[1m1s\u001b[0m 2ms/step - accuracy: 0.9881 - loss: 0.0326 - val_accuracy: 0.9705 - val_loss: 0.1403\n",
      "Epoch 20/20\n",
      "\u001b[1m386/386\u001b[0m \u001b[32m━━━━━━━━━━━━━━━━━━━━\u001b[0m\u001b[37m\u001b[0m \u001b[1m1s\u001b[0m 2ms/step - accuracy: 0.9889 - loss: 0.0307 - val_accuracy: 0.9701 - val_loss: 0.1418\n",
      "\u001b[1m83/83\u001b[0m \u001b[32m━━━━━━━━━━━━━━━━━━━━\u001b[0m\u001b[37m\u001b[0m \u001b[1m0s\u001b[0m 1ms/step\n",
      "Validation AUC-ROC: 0.9192\n",
      "\u001b[1m83/83\u001b[0m \u001b[32m━━━━━━━━━━━━━━━━━━━━\u001b[0m\u001b[37m\u001b[0m \u001b[1m0s\u001b[0m 2ms/step\n",
      "Test Accuracy: 0.9667\n",
      "Test Precision: 0.6486\n",
      "Test Recall: 0.5950\n",
      "Test F1 Score: 0.6207\n",
      "Test AUC-ROC: 0.9352\n"
     ]
    },
    {
     "data": {
      "image/png": "[encoded data removed]",
      "text/plain": [
       "<Figure size 800x600 with 1 Axes>"
      ]
     },
     "metadata": {},
     "output_type": "display_data"
    }
   ],
   "source": [
    "evaluate_keras_nn_model(nn_model,  X_train_cat, y_train_cat, X_val_cat, y_val_cat, X_test_cat, y_test_cat, epochs=20, batch_size=32)"
   ]
  },
  {
   "cell_type": "markdown",
   "metadata": {
    "id": "HpdntOazAPoa"
   },
   "source": [
    "#### Count Vectorizer"
   ]
  },
  {
   "cell_type": "code",
   "execution_count": null,
   "metadata": {
    "colab": {
     "base_uri": "https://localhost:8080/",
     "height": 1000
    },
    "id": "DasoP8US-L-p",
    "outputId": "29367c68-2f68-4f2b-b931-eb2662ba01ba"
   },
   "outputs": [
    {
     "name": "stdout",
     "output_type": "stream",
     "text": [
      "Epoch 1/20\n",
      "\u001b[1m386/386\u001b[0m \u001b[32m━━━━━━━━━━━━━━━━━━━━\u001b[0m\u001b[37m\u001b[0m \u001b[1m11s\u001b[0m 25ms/step - accuracy: 0.9520 - loss: 0.1616 - val_accuracy: 0.9811 - val_loss: 0.0801\n",
      "Epoch 2/20\n",
      "\u001b[1m386/386\u001b[0m \u001b[32m━━━━━━━━━━━━━━━━━━━━\u001b[0m\u001b[37m\u001b[0m \u001b[1m9s\u001b[0m 21ms/step - accuracy: 0.9928 - loss: 0.0322 - val_accuracy: 0.9849 - val_loss: 0.0757\n",
      "Epoch 3/20\n",
      "\u001b[1m386/386\u001b[0m \u001b[32m━━━━━━━━━━━━━━━━━━━━\u001b[0m\u001b[37m\u001b[0m \u001b[1m11s\u001b[0m 27ms/step - accuracy: 0.9978 - loss: 0.0082 - val_accuracy: 0.9856 - val_loss: 0.0912\n",
      "Epoch 4/20\n",
      "\u001b[1m386/386\u001b[0m \u001b[32m━━━━━━━━━━━━━━━━━━━━\u001b[0m\u001b[37m\u001b[0m \u001b[1m19s\u001b[0m 24ms/step - accuracy: 0.9996 - loss: 0.0031 - val_accuracy: 0.9856 - val_loss: 0.1035\n",
      "Epoch 5/20\n",
      "\u001b[1m386/386\u001b[0m \u001b[32m━━━━━━━━━━━━━━━━━━━━\u001b[0m\u001b[37m\u001b[0m \u001b[1m11s\u001b[0m 28ms/step - accuracy: 0.9999 - loss: 0.0013 - val_accuracy: 0.9849 - val_loss: 0.1129\n",
      "Epoch 6/20\n",
      "\u001b[1m386/386\u001b[0m \u001b[32m━━━━━━━━━━━━━━━━━━━━\u001b[0m\u001b[37m\u001b[0m \u001b[1m10s\u001b[0m 25ms/step - accuracy: 0.9994 - loss: 0.0024 - val_accuracy: 0.9853 - val_loss: 0.1232\n",
      "Epoch 7/20\n",
      "\u001b[1m386/386\u001b[0m \u001b[32m━━━━━━━━━━━━━━━━━━━━\u001b[0m\u001b[37m\u001b[0m \u001b[1m10s\u001b[0m 25ms/step - accuracy: 0.9999 - loss: 5.9654e-04 - val_accuracy: 0.9849 - val_loss: 0.1284\n",
      "Epoch 8/20\n",
      "\u001b[1m386/386\u001b[0m \u001b[32m━━━━━━━━━━━━━━━━━━━━\u001b[0m\u001b[37m\u001b[0m \u001b[1m13s\u001b[0m 34ms/step - accuracy: 0.9999 - loss: 4.7538e-04 - val_accuracy: 0.9845 - val_loss: 0.1373\n",
      "Epoch 9/20\n",
      "\u001b[1m386/386\u001b[0m \u001b[32m━━━━━━━━━━━━━━━━━━━━\u001b[0m\u001b[37m\u001b[0m \u001b[1m18s\u001b[0m 28ms/step - accuracy: 0.9999 - loss: 3.9971e-04 - val_accuracy: 0.9845 - val_loss: 0.1414\n",
      "Epoch 10/20\n",
      "\u001b[1m386/386\u001b[0m \u001b[32m━━━━━━━━━━━━━━━━━━━━\u001b[0m\u001b[37m\u001b[0m \u001b[1m10s\u001b[0m 26ms/step - accuracy: 0.9998 - loss: 4.4796e-04 - val_accuracy: 0.9845 - val_loss: 0.1474\n",
      "Epoch 11/20\n",
      "\u001b[1m386/386\u001b[0m \u001b[32m━━━━━━━━━━━━━━━━━━━━\u001b[0m\u001b[37m\u001b[0m \u001b[1m9s\u001b[0m 22ms/step - accuracy: 0.9999 - loss: 2.8883e-04 - val_accuracy: 0.9849 - val_loss: 0.1527\n",
      "Epoch 12/20\n",
      "\u001b[1m386/386\u001b[0m \u001b[32m━━━━━━━━━━━━━━━━━━━━\u001b[0m\u001b[37m\u001b[0m \u001b[1m12s\u001b[0m 25ms/step - accuracy: 0.9998 - loss: 3.7526e-04 - val_accuracy: 0.9845 - val_loss: 0.1549\n",
      "Epoch 13/20\n",
      "\u001b[1m386/386\u001b[0m \u001b[32m━━━━━━━━━━━━━━━━━━━━\u001b[0m\u001b[37m\u001b[0m \u001b[1m10s\u001b[0m 26ms/step - accuracy: 0.9998 - loss: 3.6224e-04 - val_accuracy: 0.9853 - val_loss: 0.1563\n",
      "Epoch 14/20\n",
      "\u001b[1m386/386\u001b[0m \u001b[32m━━━━━━━━━━━━━━━━━━━━\u001b[0m\u001b[37m\u001b[0m \u001b[1m25s\u001b[0m 37ms/step - accuracy: 0.9999 - loss: 1.5670e-04 - val_accuracy: 0.9849 - val_loss: 0.1637\n",
      "Epoch 15/20\n",
      "\u001b[1m386/386\u001b[0m \u001b[32m━━━━━━━━━━━━━━━━━━━━\u001b[0m\u001b[37m\u001b[0m \u001b[1m16s\u001b[0m 26ms/step - accuracy: 0.9995 - loss: 5.3787e-04 - val_accuracy: 0.9849 - val_loss: 0.1633\n",
      "Epoch 16/20\n",
      "\u001b[1m386/386\u001b[0m \u001b[32m━━━━━━━━━━━━━━━━━━━━\u001b[0m\u001b[37m\u001b[0m \u001b[1m14s\u001b[0m 36ms/step - accuracy: 0.9998 - loss: 2.9417e-04 - val_accuracy: 0.9853 - val_loss: 0.1647\n",
      "Epoch 17/20\n",
      "\u001b[1m386/386\u001b[0m \u001b[32m━━━━━━━━━━━━━━━━━━━━\u001b[0m\u001b[37m\u001b[0m \u001b[1m24s\u001b[0m 46ms/step - accuracy: 0.9999 - loss: 1.3236e-04 - val_accuracy: 0.9849 - val_loss: 0.1725\n",
      "Epoch 18/20\n",
      "\u001b[1m386/386\u001b[0m \u001b[32m━━━━━━━━━━━━━━━━━━━━\u001b[0m\u001b[37m\u001b[0m \u001b[1m14s\u001b[0m 36ms/step - accuracy: 0.9999 - loss: 1.1286e-04 - val_accuracy: 0.9853 - val_loss: 0.1746\n",
      "Epoch 19/20\n",
      "\u001b[1m386/386\u001b[0m \u001b[32m━━━━━━━━━━━━━━━━━━━━\u001b[0m\u001b[37m\u001b[0m \u001b[1m17s\u001b[0m 28ms/step - accuracy: 0.9999 - loss: 1.2113e-04 - val_accuracy: 0.9853 - val_loss: 0.1768\n",
      "Epoch 20/20\n",
      "\u001b[1m386/386\u001b[0m \u001b[32m━━━━━━━━━━━━━━━━━━━━\u001b[0m\u001b[37m\u001b[0m \u001b[1m15s\u001b[0m 38ms/step - accuracy: 0.9998 - loss: 2.4185e-04 - val_accuracy: 0.9853 - val_loss: 0.1792\n",
      "\u001b[1m83/83\u001b[0m \u001b[32m━━━━━━━━━━━━━━━━━━━━\u001b[0m\u001b[37m\u001b[0m \u001b[1m1s\u001b[0m 14ms/step\n",
      "Validation AUC-ROC: 0.9555\n",
      "\u001b[1m83/83\u001b[0m \u001b[32m━━━━━━━━━━━━━━━━━━━━\u001b[0m\u001b[37m\u001b[0m \u001b[1m2s\u001b[0m 18ms/step\n",
      "Test Accuracy: 0.9864\n",
      "Test Precision: 0.9126\n",
      "Test Recall: 0.7769\n",
      "Test F1 Score: 0.8393\n",
      "Test AUC-ROC: 0.9676\n"
     ]
    },
    {
     "data": {
      "image/png": "[encoded data removed]",
      "text/plain": [
       "<Figure size 800x600 with 1 Axes>"
      ]
     },
     "metadata": {},
     "output_type": "display_data"
    }
   ],
   "source": [
    "evaluate_keras_nn_model(nn_model_count,  X_train_count, y_train, X_val_count, y_val, X_test_count, y_test, epochs=20, batch_size=32)"
   ]
  },
  {
   "cell_type": "markdown",
   "metadata": {
    "id": "7zP5B5STASCn"
   },
   "source": [
    "#### TF-IDF"
   ]
  },
  {
   "cell_type": "code",
   "execution_count": null,
   "metadata": {
    "colab": {
     "base_uri": "https://localhost:8080/",
     "height": 1000
    },
    "id": "rfmzDsJ_-whY",
    "outputId": "92cc10f7-84f3-4dc6-ead0-350a7b88e89d"
   },
   "outputs": [
    {
     "name": "stdout",
     "output_type": "stream",
     "text": [
      "Epoch 1/20\n",
      "\u001b[1m386/386\u001b[0m \u001b[32m━━━━━━━━━━━━━━━━━━━━\u001b[0m\u001b[37m\u001b[0m \u001b[1m13s\u001b[0m 28ms/step - accuracy: 0.9345 - loss: 0.4547 - val_accuracy: 0.9716 - val_loss: 0.0916\n",
      "Epoch 2/20\n",
      "\u001b[1m386/386\u001b[0m \u001b[32m━━━━━━━━━━━━━━━━━━━━\u001b[0m\u001b[37m\u001b[0m \u001b[1m21s\u001b[0m 29ms/step - accuracy: 0.9825 - loss: 0.0598 - val_accuracy: 0.9841 - val_loss: 0.0562\n",
      "Epoch 3/20\n",
      "\u001b[1m386/386\u001b[0m \u001b[32m━━━━━━━━━━━━━━━━━━━━\u001b[0m\u001b[37m\u001b[0m \u001b[1m13s\u001b[0m 32ms/step - accuracy: 0.9968 - loss: 0.0153 - val_accuracy: 0.9856 - val_loss: 0.0549\n",
      "Epoch 4/20\n",
      "\u001b[1m386/386\u001b[0m \u001b[32m━━━━━━━━━━━━━━━━━━━━\u001b[0m\u001b[37m\u001b[0m \u001b[1m10s\u001b[0m 26ms/step - accuracy: 0.9987 - loss: 0.0079 - val_accuracy: 0.9841 - val_loss: 0.0567\n",
      "Epoch 5/20\n",
      "\u001b[1m386/386\u001b[0m \u001b[32m━━━━━━━━━━━━━━━━━━━━\u001b[0m\u001b[37m\u001b[0m \u001b[1m8s\u001b[0m 20ms/step - accuracy: 0.9992 - loss: 0.0037 - val_accuracy: 0.9849 - val_loss: 0.0623\n",
      "Epoch 6/20\n",
      "\u001b[1m386/386\u001b[0m \u001b[32m━━━━━━━━━━━━━━━━━━━━\u001b[0m\u001b[37m\u001b[0m \u001b[1m12s\u001b[0m 25ms/step - accuracy: 0.9996 - loss: 0.0031 - val_accuracy: 0.9849 - val_loss: 0.0650\n",
      "Epoch 7/20\n",
      "\u001b[1m386/386\u001b[0m \u001b[32m━━━━━━━━━━━━━━━━━━━━\u001b[0m\u001b[37m\u001b[0m \u001b[1m9s\u001b[0m 23ms/step - accuracy: 0.9997 - loss: 0.0019 - val_accuracy: 0.9849 - val_loss: 0.0692\n",
      "Epoch 8/20\n",
      "\u001b[1m386/386\u001b[0m \u001b[32m━━━━━━━━━━━━━━━━━━━━\u001b[0m\u001b[37m\u001b[0m \u001b[1m8s\u001b[0m 18ms/step - accuracy: 1.0000 - loss: 7.9122e-04 - val_accuracy: 0.9853 - val_loss: 0.0688\n",
      "Epoch 9/20\n",
      "\u001b[1m386/386\u001b[0m \u001b[32m━━━━━━━━━━━━━━━━━━━━\u001b[0m\u001b[37m\u001b[0m \u001b[1m11s\u001b[0m 20ms/step - accuracy: 0.9999 - loss: 5.3478e-04 - val_accuracy: 0.9849 - val_loss: 0.0749\n",
      "Epoch 10/20\n",
      "\u001b[1m386/386\u001b[0m \u001b[32m━━━━━━━━━━━━━━━━━━━━\u001b[0m\u001b[37m\u001b[0m \u001b[1m8s\u001b[0m 20ms/step - accuracy: 1.0000 - loss: 4.1376e-04 - val_accuracy: 0.9856 - val_loss: 0.0764\n",
      "Epoch 11/20\n",
      "\u001b[1m386/386\u001b[0m \u001b[32m━━━━━━━━━━━━━━━━━━━━\u001b[0m\u001b[37m\u001b[0m \u001b[1m9s\u001b[0m 18ms/step - accuracy: 1.0000 - loss: 2.3868e-04 - val_accuracy: 0.9860 - val_loss: 0.0811\n",
      "Epoch 12/20\n",
      "\u001b[1m386/386\u001b[0m \u001b[32m━━━━━━━━━━━━━━━━━━━━\u001b[0m\u001b[37m\u001b[0m \u001b[1m8s\u001b[0m 22ms/step - accuracy: 1.0000 - loss: 2.1252e-04 - val_accuracy: 0.9860 - val_loss: 0.0837\n",
      "Epoch 13/20\n",
      "\u001b[1m386/386\u001b[0m \u001b[32m━━━━━━━━━━━━━━━━━━━━\u001b[0m\u001b[37m\u001b[0m \u001b[1m7s\u001b[0m 18ms/step - accuracy: 1.0000 - loss: 1.2766e-04 - val_accuracy: 0.9856 - val_loss: 0.0830\n",
      "Epoch 14/20\n",
      "\u001b[1m386/386\u001b[0m \u001b[32m━━━━━━━━━━━━━━━━━━━━\u001b[0m\u001b[37m\u001b[0m \u001b[1m10s\u001b[0m 17ms/step - accuracy: 1.0000 - loss: 9.4632e-05 - val_accuracy: 0.9856 - val_loss: 0.0847\n",
      "Epoch 15/20\n",
      "\u001b[1m386/386\u001b[0m \u001b[32m━━━━━━━━━━━━━━━━━━━━\u001b[0m\u001b[37m\u001b[0m \u001b[1m12s\u001b[0m 21ms/step - accuracy: 1.0000 - loss: 7.2523e-05 - val_accuracy: 0.9856 - val_loss: 0.0880\n",
      "Epoch 16/20\n",
      "\u001b[1m386/386\u001b[0m \u001b[32m━━━━━━━━━━━━━━━━━━━━\u001b[0m\u001b[37m\u001b[0m \u001b[1m11s\u001b[0m 22ms/step - accuracy: 1.0000 - loss: 6.3007e-05 - val_accuracy: 0.9856 - val_loss: 0.0907\n",
      "Epoch 17/20\n",
      "\u001b[1m386/386\u001b[0m \u001b[32m━━━━━━━━━━━━━━━━━━━━\u001b[0m\u001b[37m\u001b[0m \u001b[1m8s\u001b[0m 17ms/step - accuracy: 1.0000 - loss: 4.2136e-05 - val_accuracy: 0.9860 - val_loss: 0.0922\n",
      "Epoch 18/20\n",
      "\u001b[1m386/386\u001b[0m \u001b[32m━━━━━━━━━━━━━━━━━━━━\u001b[0m\u001b[37m\u001b[0m \u001b[1m8s\u001b[0m 22ms/step - accuracy: 1.0000 - loss: 3.4599e-05 - val_accuracy: 0.9868 - val_loss: 0.0967\n",
      "Epoch 19/20\n",
      "\u001b[1m386/386\u001b[0m \u001b[32m━━━━━━━━━━━━━━━━━━━━\u001b[0m\u001b[37m\u001b[0m \u001b[1m7s\u001b[0m 19ms/step - accuracy: 1.0000 - loss: 3.0109e-05 - val_accuracy: 0.9864 - val_loss: 0.0976\n",
      "Epoch 20/20\n",
      "\u001b[1m386/386\u001b[0m \u001b[32m━━━━━━━━━━━━━━━━━━━━\u001b[0m\u001b[37m\u001b[0m \u001b[1m8s\u001b[0m 20ms/step - accuracy: 1.0000 - loss: 2.2737e-05 - val_accuracy: 0.9868 - val_loss: 0.1011\n",
      "\u001b[1m83/83\u001b[0m \u001b[32m━━━━━━━━━━━━━━━━━━━━\u001b[0m\u001b[37m\u001b[0m \u001b[1m1s\u001b[0m 6ms/step\n",
      "Validation AUC-ROC: 0.9577\n",
      "\u001b[1m83/83\u001b[0m \u001b[32m━━━━━━━━━━━━━━━━━━━━\u001b[0m\u001b[37m\u001b[0m \u001b[1m1s\u001b[0m 6ms/step\n",
      "Test Accuracy: 0.9849\n",
      "Test Precision: 0.9010\n",
      "Test Recall: 0.7521\n",
      "Test F1 Score: 0.8198\n",
      "Test AUC-ROC: 0.9807\n"
     ]
    },
    {
     "data": {
      "image/png": "[encoded data removed]",
      "text/plain": [
       "<Figure size 800x600 with 1 Axes>"
      ]
     },
     "metadata": {},
     "output_type": "display_data"
    }
   ],
   "source": [
    "evaluate_keras_nn_model(nn_model_tfidf, X_train_tfidf, y_train, X_val_tfidf, y_val, X_test_tfidf, y_test, epochs=20, batch_size=32)"
   ]
  },
  {
   "cell_type": "markdown",
   "metadata": {
    "id": "0aDnQVFuwIsv"
   },
   "source": [
    "# XGBOOST"
   ]
  },
  {
   "cell_type": "code",
   "execution_count": null,
   "metadata": {
    "id": "H6aEuqRFwIsv"
   },
   "outputs": [],
   "source": [
    "from xgboost import XGBClassifier\n",
    "XGBmodel = XGBClassifier(\n",
    "    n_estimators=100,\n",
    "    learning_rate=0.1,\n",
    "    max_depth=6,\n",
    "    subsample=0.8,\n",
    "    use_label_encoder=False,  # Disable label encoder to avoid warnings\n",
    "    eval_metric='logloss',   # Default metric\n",
    "    random_state=42\n",
    ")"
   ]
  },
  {
   "cell_type": "markdown",
   "metadata": {
    "id": "2jJnEnufwIsv"
   },
   "source": [
    "#### Categorical variables only"
   ]
  },
  {
   "cell_type": "code",
   "execution_count": null,
   "metadata": {
    "id": "D_-eEdOHwIsv"
   },
   "outputs": [],
   "source": [
    "evaluate_model(XGBmodel, X_train_cat, y_train_cat, X_val_cat, y_val_cat, X_test_cat, y_test_cat, scoring='roc_auc')"
   ]
  },
  {
   "cell_type": "markdown",
   "metadata": {
    "id": "_p5WdNPcwIsv"
   },
   "source": [
    "#### Count Vect"
   ]
  },
  {
   "cell_type": "code",
   "execution_count": null,
   "metadata": {
    "id": "IwNxaz8iwIsv"
   },
   "outputs": [],
   "source": [
    "evaluate_model(XGBmodel, X_train_count, y_train, X_val_count, y_val, X_test_count, y_test, scoring='roc_auc')"
   ]
  },
  {
   "cell_type": "markdown",
   "metadata": {
    "id": "_OKLw02swIsv"
   },
   "source": [
    "#### TF-IDF"
   ]
  },
  {
   "cell_type": "code",
   "execution_count": null,
   "metadata": {
    "id": "cvPU2aIRwIsv"
   },
   "outputs": [],
   "source": [
    "evaluate_model(XGBmodel, X_train_tfidf, y_train, X_val_tfidf, y_val, X_test_tfidf, y_test, scoring='roc_auc')"
   ]
  }
 ],
 "metadata": {
  "colab": {
   "provenance": []
  },
  "kernelspec": {
   "display_name": "base",
   "language": "python",
   "name": "python3"
  },
  "language_info": {
   "codemirror_mode": {
    "name": "ipython",
    "version": 3
   },
   "file_extension": ".py",
   "mimetype": "text/x-python",
   "name": "python",
   "nbconvert_exporter": "python",
   "pygments_lexer": "ipython3",
   "version": "3.12.7"
  }
 },
 "nbformat": 4,
 "nbformat_minor": 0
}
